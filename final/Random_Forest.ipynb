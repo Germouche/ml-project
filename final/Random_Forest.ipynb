{
  "cells": [
    {
      "cell_type": "code",
      "source": [
        "%pip install pandas==1.5.1"
      ],
      "metadata": {
        "colab": {
          "base_uri": "https://localhost:8080/"
        },
        "id": "sVgaBxNsperq",
        "outputId": "15402468-da78-40f7-ffce-51b29a3fa060"
      },
      "id": "sVgaBxNsperq",
      "execution_count": null,
      "outputs": [
        {
          "output_type": "stream",
          "name": "stdout",
          "text": [
            "Looking in indexes: https://pypi.org/simple, https://us-python.pkg.dev/colab-wheels/public/simple/\n",
            "Collecting pandas==1.5.1\n",
            "  Downloading pandas-1.5.1-cp38-cp38-manylinux_2_17_x86_64.manylinux2014_x86_64.whl (12.2 MB)\n",
            "\u001b[K     |████████████████████████████████| 12.2 MB 30.2 MB/s \n",
            "\u001b[?25hRequirement already satisfied: numpy>=1.20.3 in /usr/local/lib/python3.8/dist-packages (from pandas==1.5.1) (1.21.6)\n",
            "Requirement already satisfied: pytz>=2020.1 in /usr/local/lib/python3.8/dist-packages (from pandas==1.5.1) (2022.6)\n",
            "Requirement already satisfied: python-dateutil>=2.8.1 in /usr/local/lib/python3.8/dist-packages (from pandas==1.5.1) (2.8.2)\n",
            "Requirement already satisfied: six>=1.5 in /usr/local/lib/python3.8/dist-packages (from python-dateutil>=2.8.1->pandas==1.5.1) (1.15.0)\n",
            "Installing collected packages: pandas\n",
            "  Attempting uninstall: pandas\n",
            "    Found existing installation: pandas 1.3.5\n",
            "    Uninstalling pandas-1.3.5:\n",
            "      Successfully uninstalled pandas-1.3.5\n",
            "Successfully installed pandas-1.5.1\n"
          ]
        }
      ]
    },
    {
      "cell_type": "code",
      "execution_count": null,
      "id": "e690185f",
      "metadata": {
        "colab": {
          "base_uri": "https://localhost:8080/"
        },
        "id": "e690185f",
        "outputId": "0b385a45-a608-4e27-95fd-0a22605f6a5d"
      },
      "outputs": [
        {
          "output_type": "stream",
          "name": "stderr",
          "text": [
            "/usr/local/lib/python3.8/dist-packages/statsmodels/tsa/base/tsa_model.py:7: FutureWarning: pandas.Int64Index is deprecated and will be removed from pandas in a future version. Use pandas.Index with the appropriate dtype instead.\n",
            "  from pandas import (to_datetime, Int64Index, DatetimeIndex, Period,\n",
            "/usr/local/lib/python3.8/dist-packages/statsmodels/tsa/base/tsa_model.py:7: FutureWarning: pandas.Float64Index is deprecated and will be removed from pandas in a future version. Use pandas.Index with the appropriate dtype instead.\n",
            "  from pandas import (to_datetime, Int64Index, DatetimeIndex, Period,\n"
          ]
        }
      ],
      "source": [
        "import numpy as np\n",
        "from scipy.stats import norm\n",
        "import pandas as pd\n",
        "import matplotlib.pyplot as plt\n",
        "from scipy import stats\n",
        "import seaborn as sns\n",
        "import networkx as nx\n",
        "import statsmodels.api as sm\n",
        "import statsmodels.formula.api as smf\n",
        "import datetime\n",
        "#from custom_scorer_module import custom_accuracy\n",
        "%matplotlib inline\n",
        "import pickle\n",
        "#from langdetect import detect\n",
        "from sklearn.metrics import fbeta_score, make_scorer, mean_poisson_deviance\n",
        "%load_ext autoreload\n",
        "%autoreload 2\n",
        "import pickle\n",
        "from sklearn.experimental import enable_iterative_imputer\n",
        "from sklearn.impute import IterativeImputer\n",
        "from sklearn.ensemble import ExtraTreesRegressor\n",
        "from sklearn.preprocessing import OrdinalEncoder"
      ]
    },
    {
      "cell_type": "code",
      "execution_count": null,
      "id": "06eccb21",
      "metadata": {
        "id": "06eccb21"
      },
      "outputs": [],
      "source": [
        "#Computes mean poisson deviance but makes sure that our predictions is positive\n",
        "def evaluate_model(y_true,y_pred):\n",
        "    prediction=y_pred.copy()\n",
        "    prediction[prediction<=0]=10**(-10)\n",
        "    return mean_poisson_deviance(y_true,prediction)\n"
      ]
    },
    {
      "cell_type": "code",
      "execution_count": null,
      "id": "684e60a6",
      "metadata": {
        "id": "684e60a6"
      },
      "outputs": [],
      "source": [
        "#Define a scoring method that sklearn can use for crossvalidation\n",
        "scoring=make_scorer(evaluate_model,greater_is_better=False)"
      ]
    },
    {
      "cell_type": "code",
      "source": [
        "# when using this this notebook on colab, the most efficient way to access the data is to have them stored on your drive (if working on local we don't need to use this cell)\n",
        "from google.colab import drive\n",
        "drive.mount('/content/drive')"
      ],
      "metadata": {
        "colab": {
          "base_uri": "https://localhost:8080/"
        },
        "id": "CDV-q9FbpLb_",
        "outputId": "48424d1a-66df-46ee-81e3-ef113de84bbd"
      },
      "id": "CDV-q9FbpLb_",
      "execution_count": null,
      "outputs": [
        {
          "output_type": "stream",
          "name": "stdout",
          "text": [
            "Mounted at /content/drive\n"
          ]
        }
      ]
    },
    {
      "cell_type": "code",
      "source": [
        "#The path of the data: (as I am using drive, colab access it via the path /content/drive/MyDrive/)\n",
        "PATH='/content/drive/MyDrive/Data/'"
      ],
      "metadata": {
        "id": "ZxQXnB7OpQ_s"
      },
      "id": "ZxQXnB7OpQ_s",
      "execution_count": null,
      "outputs": []
    },
    {
      "cell_type": "code",
      "execution_count": null,
      "id": "62329052",
      "metadata": {
        "id": "62329052"
      },
      "outputs": [],
      "source": [
        "with open(PATH+\"listings.pkl\", \"rb\") as fh:\n",
        "    data = pickle.load(fh)\n",
        "with open(PATH+\"test_listings_tabular.pkl\", \"rb\") as fh:\n",
        "    data_test = pickle.load(fh)\n",
        "#with open(\"./listings.pkl\", \"rb\") as fh:\n",
        "#    data = pickle.load(fh)\n",
        "with open(PATH+\"test_listings_overall.pkl\", \"rb\") as fh:\n",
        "    data_test_overall = pickle.load(fh)\n",
        "data_tabular=data.drop(['Listing Description','Listing Title','Property Reference Id'],axis=1)"
      ]
    },
    {
      "cell_type": "code",
      "execution_count": null,
      "id": "6d5f80dc",
      "metadata": {
        "id": "6d5f80dc"
      },
      "outputs": [],
      "source": [
        "#Initialising a random seed for reproducibility\n",
        "seed=np.random.randint(100)\n",
        "#Creating dictionaries to encode categories into integers\n",
        "DICT_GEO_CANTON={'ZH':0, 'VD':1, 'BE':2, 'AG':3, 'FR':4, 'SG':5, 'LU':6, 'SO':7, 'SH':8, 'GE':9, 'VS':10,\n",
        "       'SZ':11, 'BS':12, 'ZG':13, 'BL':14, 'NE':15, 'TI':16, 'GR':17, 'TG':18, 'AR':19, 'UR':20, 'GL':21,\n",
        "       'NW':22, 'JU':22}\n",
        "DICT_SUBCATEGORY={'Apartment':0, 'Duplex':1, 'Row house':2, 'Roof flat':3, 'Attic flat':4,\n",
        "       'Single house':5, 'Single Room':6, 'Studio':7, 'Furnished dwelling':8,\n",
        "       'Loft':9, 'Mansard':10, 'Farm house':11}\n",
        "DICT_CATEGORY_IDX={'APPT':0,'HOUSE':1}\n",
        "geo_values=data['Geo City'].unique()\n",
        "DICT_GEO_CITY= {geo_values[i]: [x for x in range(0,len(geo_values))][i] for i in range(len(geo_values))}\n",
        "geo_zip_val=data['Geo Zip'].unique()\n",
        "DICT_GEO_ZIP= {geo_zip_val[i]: [x for x in range(0,len(geo_zip_val))][i] for i in range(len(geo_zip_val))}"
      ]
    },
    {
      "cell_type": "markdown",
      "id": "15378cef",
      "metadata": {
        "id": "15378cef"
      },
      "source": [
        "# Data Cleaning"
      ]
    },
    {
      "cell_type": "markdown",
      "id": "a895bce7",
      "metadata": {
        "id": "a895bce7"
      },
      "source": [
        "There are some things to consider before starting using the random forest:  \n",
        "1-**How to deal with NaN**  \n",
        "  Answer: check if there are NaN in test set, if yes can make a category for NaN?  \n",
        "          What does NaN mean? Customer doesn't have access to the information? Or we don't know if he had access to it?  \n",
        "2-**How to deal with categorical variables**  \n",
        "  One hot encoding, but beware of having too many categories.  \n",
        "  Testing without categorical variables?  "
      ]
    },
    {
      "cell_type": "markdown",
      "id": "fc2e9686",
      "metadata": {
        "id": "fc2e9686"
      },
      "source": [
        "## Identifying categorical and categorical variables"
      ]
    },
    {
      "cell_type": "code",
      "execution_count": null,
      "id": "a060e294",
      "metadata": {
        "colab": {
          "base_uri": "https://localhost:8080/"
        },
        "id": "a060e294",
        "outputId": "16166ac2-f347-4d34-a64f-4c20054f9828"
      },
      "outputs": [
        {
          "output_type": "stream",
          "name": "stdout",
          "text": [
            "['Are Pets Allowed', 'Has Balcony', 'Has Cabletv', 'Has Elevator', 'Has Fireplace', 'Has Garage', 'Has Parking', 'Is New Construction', 'Is New Construction Potential', 'Is Tenant2Tenant', 'Is Wheelchairaccessible']\n"
          ]
        }
      ],
      "source": [
        "#identifying the boolean variables\n",
        "bool_features=['Are Pets Allowed', 'Has Balcony', 'Has Cabletv',\n",
        "               'Has Elevator', 'Has Fireplace', 'Has Garage',\n",
        "               'Has Parking', 'Is New Construction', 'Is New Construction Potential', \n",
        "               'Is Tenant2Tenant', 'Is Wheelchairaccessible']\n",
        "print(bool_features)\n",
        "data_bool=data[bool_features]"
      ]
    },
    {
      "cell_type": "markdown",
      "id": "f373bf59",
      "metadata": {
        "id": "f373bf59"
      },
      "source": [
        "Identifying other categorical (and non ordinal ex: Number of Rooms, Price Extra Normalized or even Year Built...) variables with not so many categories"
      ]
    },
    {
      "cell_type": "code",
      "execution_count": null,
      "id": "430a9353",
      "metadata": {
        "colab": {
          "base_uri": "https://localhost:8080/"
        },
        "id": "430a9353",
        "outputId": "5424e698-faed-473d-8f2f-acb7fca0c000"
      },
      "outputs": [
        {
          "output_type": "execute_result",
          "data": {
            "text/plain": [
              "Index(['Are Pets Allowed', 'Category Idx', 'Day of Advertisement Created',\n",
              "       'Day of Date Available From', 'Demand', 'Floor', 'Geo Canton',\n",
              "       'Geo City', 'Geo Zip', 'Has Balcony', 'Has Cabletv', 'Has Elevator',\n",
              "       'Has Fireplace', 'Has Garage', 'Has Parking', 'Is New Construction',\n",
              "       'Is New Construction Potential', 'Is Tenant2Tenant',\n",
              "       'Is Wheelchairaccessible', 'Jahr', 'Leerwohnungsziffer', 'Livingspace',\n",
              "       'Number Of Rooms', 'Number Of Rooms Cleaned', 'Number of Documents',\n",
              "       'Number of Images', 'Price Extra Normalized', 'Price Gross Normalized',\n",
              "       'Price M2 Normalized', 'Price Net Normalized', 'Size M2 Normalized',\n",
              "       'Subcategory En Idx', 'Year Built', 'Year Lastrenovated'],\n",
              "      dtype='object')"
            ]
          },
          "metadata": {},
          "execution_count": 17
        }
      ],
      "source": [
        "data_tabular.columns"
      ]
    },
    {
      "cell_type": "markdown",
      "id": "3eb2d6d5",
      "metadata": {
        "id": "3eb2d6d5"
      },
      "source": [
        "### Investigating the NaN"
      ]
    },
    {
      "cell_type": "code",
      "execution_count": null,
      "id": "567eb7c7",
      "metadata": {
        "id": "567eb7c7"
      },
      "outputs": [],
      "source": [
        "other_categorical_features=['Category Idx','Geo City','Geo Zip']\n",
        "\n",
        "#The ordinal features are:\n",
        "ordinal_features=['Floor','Jahr', 'Leerwohnungsziffer','Livingspace', 'Number Of Rooms',\n",
        "       'Number Of Rooms Cleaned', 'Number of Documents', 'Number of Images',\n",
        "       'Price Extra Normalized', 'Price Gross Normalized',\n",
        "       'Price M2 Normalized', 'Price Net Normalized', \n",
        "       'Size M2 Normalized', 'Year Built',\n",
        "       'Year Lastrenovated',]\n",
        "\n",
        "categorical_features={'Geo Canton':DICT_GEO_CANTON,'Subcategory En Idx':DICT_SUBCATEGORY}\n",
        "\n"
      ]
    },
    {
      "cell_type": "markdown",
      "id": "a63f1285",
      "metadata": {
        "id": "a63f1285"
      },
      "source": [
        "# Preprocessing pipeline with one hot encoding"
      ]
    },
    {
      "cell_type": "code",
      "execution_count": null,
      "id": "b360aeb2",
      "metadata": {
        "id": "b360aeb2"
      },
      "outputs": [],
      "source": [
        "#https://towardsdatascience.com/predicting-housing-prices-using-a-scikit-learns-random-forest-model-e736b59d56c5\n",
        "#https://towardsdatascience.com/my-random-forest-classifier-cheat-sheet-in-python-fedb84f8cf4f\n",
        "\n",
        "from sklearn.ensemble import RandomForestRegressor\n",
        "from sklearn.ensemble import RandomForestClassifier\n",
        "from IPython.display import display\n",
        "from sklearn import metrics\n",
        "from sklearn.model_selection import RandomizedSearchCV\n",
        "from sklearn.preprocessing import OneHotEncoder\n",
        "from sklearn.compose import make_column_transformer\n",
        "from sklearn.model_selection import train_test_split\n",
        "from sklearn.preprocessing import FunctionTransformer\n",
        "from sklearn.model_selection import cross_val_score\n",
        "from sklearn.pipeline import make_pipeline\n",
        "import sklearn\n",
        "from sklearn.metrics import mean_squared_error\n",
        "from sklearn.metrics import fbeta_score, make_scorer\n"
      ]
    },
    {
      "cell_type": "code",
      "execution_count": null,
      "id": "a034bfc1",
      "metadata": {
        "id": "a034bfc1"
      },
      "outputs": [],
      "source": [
        "#Extract numerical features from 'Day of Advertisement Created', 'Day of Date Available From',\n",
        "def adding_features(X: pd.DataFrame, y=None):\n",
        "    X_copy=X.copy()\n",
        "    threshold=datetime.datetime(2022,9,1)\n",
        "    X_copy['Days Between September and Created']=pd.to_datetime(X_copy['Day of Advertisement Created']).apply(lambda x:(threshold-x).days)\n",
        "    X_copy['Days Between September and Available']=pd.to_datetime(X_copy['Day of Date Available From']).apply(lambda x:(threshold-x).days)                                                           \n",
        "    X_copy.drop(['Day of Advertisement Created','Day of Date Available From'],axis=1,inplace=True)\n",
        "    \n",
        "    #X_copy['Len Description']=X_copy['Listing Description'].apply(lambda x:len_text(x))\n",
        "    X_copy=X_copy.drop(['Geo City'],axis=1)\n",
        "    X_copy['Leerwohnungsziffer']=X_copy['Leerwohnungsziffer'].astype('float')\n",
        "                \n",
        "    return X_copy\n",
        "\n",
        "adding_features_transformer = FunctionTransformer(adding_features)\n",
        "\n",
        "print('Transforming features')\n",
        "display(adding_features_transformer.transform(data_tabular))"
      ]
    },
    {
      "cell_type": "code",
      "execution_count": null,
      "id": "5c00d669",
      "metadata": {
        "scrolled": true,
        "id": "5c00d669"
      },
      "outputs": [],
      "source": [
        "categorical_features={'Category Idx':DICT_CATEGORY_IDX,'Geo Zip':DICT_GEO_ZIP,'Geo Canton':DICT_GEO_CANTON,'Subcategory En Idx':DICT_SUBCATEGORY}\n",
        "#DEALING WITH NAN\n",
        "def fill_nan(X: pd.DataFrame,bool_features,categorical_features,ordinal_features,bool_fill=-99999, y=None):\n",
        "    df=X.copy() #We don't want to modify the dataset\n",
        "    \n",
        "    #Dealing with categorical values\n",
        "    for bool_feature in bool_features:\n",
        "        df.loc[:,bool_feature]=df.loc[:,bool_feature].fillna(bool_fill)\n",
        "        df.loc[df[bool_feature] == False, bool_feature] = 0\n",
        "        df.loc[df[bool_feature] == True, bool_feature] = 1\n",
        "        #df[bool_feature]=df[bool_feature].astype('category')\n",
        "    \n",
        "    #Dealing with ordinal values\n",
        "    for ordinal_feature in ordinal_features:\n",
        "        df[ordinal_feature].fillna(df[ordinal_feature].mean(),inplace=True)\n",
        "        \n",
        "    #Dealing with categorical features\n",
        "    for categorical_feature in categorical_features.keys():\n",
        "        dict_replace=categorical_features[categorical_feature]\n",
        "        df[categorical_feature]=df[categorical_feature].map(dict_replace)\n",
        "        df[categorical_feature].fillna(len(dict_replace)+1,inplace=True)\n",
        "        #df[categorical_feature].fillna(bool_fill,inplace=True)\n",
        "        #df[categorical_feature]=df[categorical_feature].astype('category')\n",
        "    return df\n",
        "\n",
        "na_fill_estimator = FunctionTransformer(fill_nan,kw_args={'bool_features':bool_features,\n",
        "                                                          'categorical_features':categorical_features,\n",
        "                                'ordinal_features':ordinal_features+['Days Between September and Created',\n",
        "                                                                     'Days Between September and Available']})\n",
        "\n",
        "print('Dealing with NaN')\n",
        "display(na_fill_estimator.transform(adding_features_transformer.transform(data_tabular)))"
      ]
    },
    {
      "cell_type": "code",
      "execution_count": null,
      "id": "3fad83c7",
      "metadata": {
        "colab": {
          "base_uri": "https://localhost:8080/"
        },
        "id": "3fad83c7",
        "outputId": "69be818f-18a5-43e5-d6f9-50c19c45bb2c"
      },
      "outputs": [
        {
          "output_type": "stream",
          "name": "stdout",
          "text": [
            "One Hot Encoded data:\n",
            "  (0, 0)\t1.0\n",
            "  (0, 3)\t1.0\n",
            "  (0, 6)\t1.0\n",
            "  (0, 9)\t1.0\n",
            "  (0, 12)\t1.0\n",
            "  (0, 15)\t1.0\n",
            "  (0, 18)\t1.0\n",
            "  (0, 22)\t1.0\n",
            "  (0, 24)\t1.0\n",
            "  (0, 26)\t1.0\n",
            "  (0, 28)\t1.0\n",
            "  (0, 31)\t1.0\n",
            "  (0, 33)\t1.0\n",
            "  (0, 483)\t1.0\n",
            "  (0, 506)\t1.0\n",
            "  (0, 518)\t25.0\n",
            "  (0, 520)\t2021.0\n",
            "  (0, 521)\t1.37\n",
            "  (0, 522)\t232.0\n",
            "  (0, 523)\t9.5\n",
            "  (0, 524)\t9.5\n",
            "  (0, 525)\t1.0\n",
            "  (0, 526)\t6.0\n",
            "  (0, 527)\t550.0\n",
            "  (0, 528)\t4460.0\n",
            "  :\t:\n",
            "  (19999, 21)\t1.0\n",
            "  (19999, 24)\t1.0\n",
            "  (19999, 26)\t1.0\n",
            "  (19999, 29)\t1.0\n",
            "  (19999, 31)\t1.0\n",
            "  (19999, 235)\t1.0\n",
            "  (19999, 501)\t1.0\n",
            "  (19999, 506)\t1.0\n",
            "  (19999, 518)\t3.0\n",
            "  (19999, 520)\t2017.0\n",
            "  (19999, 521)\t0.89\n",
            "  (19999, 522)\t52.0\n",
            "  (19999, 523)\t2.0\n",
            "  (19999, 524)\t2.0\n",
            "  (19999, 525)\t1.0\n",
            "  (19999, 526)\t5.0\n",
            "  (19999, 527)\t130.0\n",
            "  (19999, 528)\t845.0\n",
            "  (19999, 529)\t16.0\n",
            "  (19999, 530)\t715.0\n",
            "  (19999, 531)\t52.0\n",
            "  (19999, 532)\t1976.683963319168\n",
            "  (19999, 533)\t1991.7910962715637\n",
            "  (19999, 534)\t1939.0\n",
            "  (19999, 535)\t1826.0\n",
            "(20000, 536)\n"
          ]
        }
      ],
      "source": [
        "#One Hot Encoding\n",
        "\n",
        "features_to_encode=bool_features+list(categorical_features.keys())\n",
        "\n",
        "col_trans = make_column_transformer(\n",
        "                        (OneHotEncoder(handle_unknown = 'ignore'),features_to_encode),\n",
        "                        remainder = \"passthrough\"\n",
        "                        )\n",
        "print('One Hot Encoded data:')\n",
        "test=col_trans.fit_transform( \\\n",
        "    na_fill_estimator.transform(adding_features_transformer.transform(data_tabular)))\n",
        "print(col_trans.fit_transform( \\\n",
        "    na_fill_estimator.transform(adding_features_transformer.transform(data_tabular))))\n",
        "print(col_trans.fit_transform(\\\n",
        "    na_fill_estimator.transform(adding_features_transformer.transform(data_tabular))).shape)"
      ]
    },
    {
      "cell_type": "markdown",
      "id": "0a5cfb00",
      "metadata": {
        "id": "0a5cfb00"
      },
      "source": [
        "# Random forest"
      ]
    },
    {
      "cell_type": "code",
      "execution_count": null,
      "id": "5db91bb1",
      "metadata": {
        "id": "5db91bb1"
      },
      "outputs": [],
      "source": [
        "rf_regressor=RandomForestRegressor(oob_score=True,n_estimators=500,min_samples_split=3,\n",
        "                      n_jobs=-1)\n",
        "\n",
        "#We use a pipeline to combine the preprcessing with the model\n",
        "pipe = make_pipeline(adding_features_transformer,na_fill_estimator, col_trans,rf_regressor)"
      ]
    },
    {
      "cell_type": "code",
      "execution_count": null,
      "id": "8438ebd6",
      "metadata": {
        "colab": {
          "base_uri": "https://localhost:8080/"
        },
        "id": "8438ebd6",
        "outputId": "5d95c616-ef71-462f-a509-35908f1523e5"
      },
      "outputs": [
        {
          "output_type": "stream",
          "name": "stdout",
          "text": [
            "(13340, 33) (13340,) (6660, 33) (6660,)\n"
          ]
        }
      ],
      "source": [
        "#Generating test and train set\n",
        "X=data_tabular.drop('Demand',axis=1)\n",
        "\n",
        "y=data_tabular['Demand']\n",
        "\n",
        "X_train, X_test, y_train, y_test = train_test_split(X,y,test_size=0.333, \n",
        "                                                    random_state = seed\n",
        "                                                   )\n",
        "print(X_train.shape,y_train.shape,X_test.shape,y_test.shape)"
      ]
    },
    {
      "cell_type": "code",
      "execution_count": null,
      "id": "0a5e82a4",
      "metadata": {
        "colab": {
          "base_uri": "https://localhost:8080/"
        },
        "id": "0a5e82a4",
        "outputId": "5c0b5f0b-2c05-4f7c-a6f6-68c5a631aaae"
      },
      "outputs": [
        {
          "output_type": "stream",
          "name": "stdout",
          "text": [
            "Out of sample mean poisson deviance by cross validation: -5.094163124848156\n"
          ]
        }
      ],
      "source": [
        "#Takes a while to run\n",
        "print('Out of sample mean poisson deviance by cross validation:',cross_val_score(pipe,X,y,cv=5,scoring=scoring,n_jobs=-1).mean())"
      ]
    },
    {
      "cell_type": "code",
      "execution_count": null,
      "id": "967392ec",
      "metadata": {
        "colab": {
          "base_uri": "https://localhost:8080/"
        },
        "id": "967392ec",
        "outputId": "c734d607-5446-4e10-a784-5b4fdb29188f"
      },
      "outputs": [
        {
          "output_type": "execute_result",
          "data": {
            "text/plain": [
              "Pipeline(steps=[('functiontransformer-1',\n",
              "                 FunctionTransformer(func=<function adding_features at 0x7fc30fc9d550>)),\n",
              "                ('functiontransformer-2',\n",
              "                 FunctionTransformer(func=<function fill_nan at 0x7fc30fd76040>,\n",
              "                                     kw_args={'bool_features': ['Are Pets '\n",
              "                                                                'Allowed',\n",
              "                                                                'Has Balcony',\n",
              "                                                                'Has Cabletv',\n",
              "                                                                'Has Elevator',\n",
              "                                                                'Has Fireplace',\n",
              "                                                                'Has Garage',\n",
              "                                                                'Has Parking',\n",
              "                                                                'Is New '\n",
              "                                                                'Construction',\n",
              "                                                                'Is New '\n",
              "                                                                '...\n",
              "                                                  ['Are Pets Allowed',\n",
              "                                                   'Has Balcony', 'Has Cabletv',\n",
              "                                                   'Has Elevator',\n",
              "                                                   'Has Fireplace',\n",
              "                                                   'Has Garage', 'Has Parking',\n",
              "                                                   'Is New Construction',\n",
              "                                                   'Is New Construction '\n",
              "                                                   'Potential',\n",
              "                                                   'Is Tenant2Tenant',\n",
              "                                                   'Is Wheelchairaccessible',\n",
              "                                                   'Category Idx', 'Geo Zip',\n",
              "                                                   'Geo Canton',\n",
              "                                                   'Subcategory En Idx'])])),\n",
              "                ('randomforestregressor',\n",
              "                 RandomForestRegressor(min_samples_split=3, n_estimators=500,\n",
              "                                       n_jobs=-1, oob_score=True))])"
            ]
          },
          "metadata": {},
          "execution_count": 25
        }
      ],
      "source": [
        "pipe.fit(X_train, y_train)"
      ]
    },
    {
      "cell_type": "code",
      "execution_count": null,
      "id": "440e497c",
      "metadata": {
        "colab": {
          "base_uri": "https://localhost:8080/"
        },
        "id": "440e497c",
        "outputId": "ab650b14-3629-46a0-8347-a0da69c85707"
      },
      "outputs": [
        {
          "output_type": "stream",
          "name": "stdout",
          "text": [
            "In Sample mean poisson deviance 1.0881\n",
            "Out of Sample mean poisson deviance 5.3588\n"
          ]
        }
      ],
      "source": [
        "#Evaluate the model\n",
        "print('In Sample mean poisson deviance {:.4f}'.format(evaluate_model(y_train,pipe.predict(X_train))))\n",
        "print('Out of Sample mean poisson deviance {:.4f}'.format(evaluate_model(y_test,pipe.predict(X_test))))"
      ]
    },
    {
      "cell_type": "code",
      "source": [
        "#To sibmit results\n",
        "'''\n",
        "predictions=pipe.predict(data_test.drop('Prediction',axis=1))\n",
        "predictions[np.where(predictions<=0)]=10**(-10)\n",
        "data_test['Prediction']=predictions\n",
        "with open(PATH+\"tabular_pred2.pickle\", \"wb\") as f:\n",
        "    pickle.dump(data_test, f)\n",
        "'''\n",
        "print('')"
      ],
      "metadata": {
        "id": "TCbuvaLSwrT_"
      },
      "id": "TCbuvaLSwrT_",
      "execution_count": null,
      "outputs": []
    },
    {
      "cell_type": "markdown",
      "id": "a1eda8db",
      "metadata": {
        "id": "a1eda8db"
      },
      "source": [
        "# Random forest without one hot encoding"
      ]
    },
    {
      "cell_type": "code",
      "execution_count": null,
      "id": "5d2cf349",
      "metadata": {
        "id": "5d2cf349",
        "outputId": "b16171fb-32b0-4b63-f74f-fb4dd9ab1ed2",
        "colab": {
          "base_uri": "https://localhost:8080/"
        }
      },
      "outputs": [
        {
          "output_type": "execute_result",
          "data": {
            "text/plain": [
              "-5.436416058481086"
            ]
          },
          "metadata": {},
          "execution_count": 55
        }
      ],
      "source": [
        "pipe = make_pipeline(adding_features_transformer,na_fill_estimator,rf_regressor)\n",
        "cross_val_score(pipe,X,y,cv=5,scoring=scoring).mean()\n"
      ]
    },
    {
      "cell_type": "code",
      "execution_count": null,
      "id": "77bf2365",
      "metadata": {
        "id": "77bf2365",
        "outputId": "88d8a6bd-9719-43a2-c926-818544fabdd7",
        "colab": {
          "base_uri": "https://localhost:8080/"
        }
      },
      "outputs": [
        {
          "output_type": "execute_result",
          "data": {
            "text/plain": [
              "Pipeline(steps=[('functiontransformer-1',\n",
              "                 FunctionTransformer(func=<function adding_features at 0x7fc30fc9d550>)),\n",
              "                ('functiontransformer-2',\n",
              "                 FunctionTransformer(func=<function fill_nan at 0x7fc30fd76040>,\n",
              "                                     kw_args={'bool_features': ['Are Pets '\n",
              "                                                                'Allowed',\n",
              "                                                                'Has Balcony',\n",
              "                                                                'Has Cabletv',\n",
              "                                                                'Has Elevator',\n",
              "                                                                'Has Fireplace',\n",
              "                                                                'Has Garage',\n",
              "                                                                'Has Parking',\n",
              "                                                                'Is New '\n",
              "                                                                'Construction',\n",
              "                                                                'Is New '\n",
              "                                                                '...\n",
              "                                                                   'Price '\n",
              "                                                                   'Extra '\n",
              "                                                                   'Normalized',\n",
              "                                                                   'Price '\n",
              "                                                                   'Gross '\n",
              "                                                                   'Normalized',\n",
              "                                                                   'Price M2 '\n",
              "                                                                   'Normalized',\n",
              "                                                                   'Price Net '\n",
              "                                                                   'Normalized',\n",
              "                                                                   'Size M2 '\n",
              "                                                                   'Normalized',\n",
              "                                                                   'Year Built',\n",
              "                                                                   'Year '\n",
              "                                                                   'Lastrenovated',\n",
              "                                                                   'Days '\n",
              "                                                                   'Between '\n",
              "                                                                   'September '\n",
              "                                                                   'and '\n",
              "                                                                   'Created',\n",
              "                                                                   'Days '\n",
              "                                                                   'Between '\n",
              "                                                                   'September '\n",
              "                                                                   'and '\n",
              "                                                                   'Available']})),\n",
              "                ('randomforestregressor',\n",
              "                 RandomForestRegressor(min_samples_split=3, n_estimators=500,\n",
              "                                       n_jobs=-1, oob_score=True))])"
            ]
          },
          "metadata": {},
          "execution_count": 51
        }
      ],
      "source": [
        "pipe.fit(X_train,y_train)"
      ]
    },
    {
      "cell_type": "code",
      "execution_count": null,
      "id": "e7a682a9",
      "metadata": {
        "id": "e7a682a9",
        "outputId": "66248d96-4164-4b16-bf47-4ee4ecc55026",
        "colab": {
          "base_uri": "https://localhost:8080/",
          "height": 849
        }
      },
      "outputs": [
        {
          "output_type": "display_data",
          "data": {
            "text/plain": [
              "<Figure size 720x1008 with 1 Axes>"
            ],
            "image/png": "[encoded data removed]"
          },
          "metadata": {
            "needs_background": "light"
          }
        }
      ],
      "source": [
        "feature_importances = list(zip(na_fill_estimator.transform(adding_features_transformer.transform(X_train)), rf_regressor.feature_importances_))\n",
        "# Then sort the feature importances by most important first\n",
        "feature_importances_ranked = sorted(feature_importances, key = lambda x: x[1], reverse = True)\n",
        "# Plot the top 10 feature importance\n",
        "feature_names_10 = [i[0] for i in feature_importances_ranked[:10]]\n",
        "y_ticks = np.arange(0, len(feature_names_10))\n",
        "x_axis = [i[1] for i in feature_importances_ranked[:10]]\n",
        "plt.figure(figsize = (10, 14))\n",
        "plt.barh(feature_names_10, x_axis,color='grey')   #horizontal barplot\n",
        "plt.title('Random Forest 10 Highest Feature Importance',\n",
        "          fontdict= {'fontsize' : 20})\n",
        "plt.xlabel('Features',fontdict= {'fontsize' : 16})\n",
        "plt.savefig(PATH+'Random Forest Features Importance.png',bbox_inches='tight')\n",
        "plt.show()"
      ]
    },
    {
      "cell_type": "code",
      "execution_count": null,
      "id": "a95d002b",
      "metadata": {
        "id": "a95d002b",
        "outputId": "63fe2f48-c33f-482b-fae3-67c1c9d35f1e",
        "colab": {
          "base_uri": "https://localhost:8080/"
        }
      },
      "outputs": [
        {
          "output_type": "stream",
          "name": "stdout",
          "text": [
            "In Sample mean poisson deviance 1.1546\n",
            "Out of Sample mean poisson deviance 5.7040\n"
          ]
        }
      ],
      "source": [
        "#Evaluate the model\n",
        "print('In Sample mean poisson deviance {:.4f}'.format(evaluate_model(y_train,pipe.predict(X_train))))\n",
        "print('Out of Sample mean poisson deviance {:.4f}'.format(evaluate_model(y_test,pipe.predict(X_test))))"
      ]
    },
    {
      "cell_type": "markdown",
      "id": "0dc13bed",
      "metadata": {
        "id": "0dc13bed"
      },
      "source": [
        "**Conclusion** One hot encoding was giving better resuts than not one hot encoding"
      ]
    },
    {
      "cell_type": "markdown",
      "id": "1c440ada",
      "metadata": {
        "id": "1c440ada"
      },
      "source": [
        "# Dropping the corrolated features"
      ]
    },
    {
      "cell_type": "code",
      "execution_count": null,
      "id": "f4632053",
      "metadata": {
        "id": "f4632053"
      },
      "outputs": [],
      "source": [
        "#Removing size M2 Normalized, Number of Rooms and all price measure except extra price normalized:\n",
        "ordinal_features=['Jahr','Leerwohnungsziffer','Floor','Livingspace', \n",
        "       'Number Of Rooms Cleaned', 'Number of Documents', 'Number of Images',\n",
        "       'Price Extra Normalized', 'Year Built',\n",
        "       'Year Lastrenovated','Len Description']"
      ]
    },
    {
      "cell_type": "code",
      "execution_count": null,
      "id": "538e218a",
      "metadata": {
        "id": "538e218a"
      },
      "outputs": [],
      "source": [
        "def drop_column(X: pd.DataFrame,columns, y=None):\n",
        "    X_copy=X.copy() #We don't want to modify the dataset\n",
        "    X_copy.drop(columns,axis=1,inplace=True)\n",
        "    \n",
        "    return X_copy\n",
        "\n",
        "drop_col_transformer = FunctionTransformer(drop_column,kw_args={'columns':['Price M2 Normalized','Price Gross Normalized',\n",
        "                                                                           'Price Net Normalized','Size M2 Normalized',\n",
        "                                                                           'Number Of Rooms']})\n",
        "na_fill_estimator = FunctionTransformer(fill_nan,kw_args={'bool_features':bool_features,\n",
        "                                                          'categorical_features':categorical_features,\n",
        "                                                          'ordinal_features':ordinal_features+\n",
        "                                                          ['Days Between September and Created',\n",
        "                                                                     'Days Between September and Available']})"
      ]
    },
    {
      "cell_type": "markdown",
      "id": "77503fd0",
      "metadata": {
        "id": "77503fd0"
      },
      "source": [
        "## 1 With One Hot encoding"
      ]
    },
    {
      "cell_type": "code",
      "execution_count": null,
      "id": "496e6fa7",
      "metadata": {
        "id": "496e6fa7",
        "outputId": "96fd345c-44ae-47a0-ba95-41d06903dd8b"
      },
      "outputs": [
        {
          "data": {
            "text/plain": [
              "Pipeline(steps=[('functiontransformer-1',\n",
              "                 FunctionTransformer(func=<function drop_column at 0x000001B6A9C59040>,\n",
              "                                     kw_args={'columns': ['Price M2 Normalized',\n",
              "                                                          'Price Gross '\n",
              "                                                          'Normalized',\n",
              "                                                          'Price Net '\n",
              "                                                          'Normalized',\n",
              "                                                          'Size M2 Normalized',\n",
              "                                                          'Number Of Rooms']})),\n",
              "                ('functiontransformer-2',\n",
              "                 FunctionTransformer(func=<function adding_features at 0x000001B6AA53FDC0>)),\n",
              "                ('functiontransfo...\n",
              "                 ColumnTransformer(remainder='passthrough',\n",
              "                                   transformers=[('onehotencoder',\n",
              "                                                  OneHotEncoder(),\n",
              "                                                  ['Are Pets Allowed',\n",
              "                                                   'Has Balcony', 'Has Cabletv',\n",
              "                                                   'Has Elevator',\n",
              "                                                   'Has Fireplace',\n",
              "                                                   'Has Garage', 'Has Parking',\n",
              "                                                   'Is New Construction',\n",
              "                                                   'Is New Construction '\n",
              "                                                   'Potential',\n",
              "                                                   'Is Tenant2Tenant',\n",
              "                                                   'Is '\n",
              "                                                   'Wheelchairaccessible'])])),\n",
              "                ('randomforestregressor',\n",
              "                 RandomForestRegressor(n_jobs=-1, oob_score=True))])"
            ]
          },
          "execution_count": 236,
          "metadata": {},
          "output_type": "execute_result"
        }
      ],
      "source": [
        "pipe= make_pipeline(drop_col_transformer,adding_features_transformer,na_fill_estimator,col_trans,rf_regressor)\n",
        "pipe.fit(X_train,y_train)"
      ]
    },
    {
      "cell_type": "code",
      "execution_count": null,
      "id": "86cbbad2",
      "metadata": {
        "id": "86cbbad2"
      },
      "outputs": [],
      "source": [
        "#X_train_encoded = encode_and_bind(na_fill_estimator.transform(diff_date_transformer.transform(drop_col_transformer.transform(X_train))), features_to_encode)\n",
        "#feature_importances = list(zip(X_train_encoded, rf_regressor.feature_importances_))\n",
        "# Then sort the feature importances by most important first\n",
        "#feature_importances_ranked = sorted(feature_importances, key = lambda x: x[1], reverse = True)\n",
        "# Plot the top 25 feature importance\n",
        "#feature_names_25 = [i[0] for i in feature_importances_ranked[:25]]\n",
        "#y_ticks = np.arange(0, len(feature_names_25))\n",
        "#x_axis = [i[1] for i in feature_importances_ranked[:25]]\n",
        "#plt.figure(figsize = (10, 14))\n",
        "#plt.barh(feature_names_25, x_axis)   #horizontal barplot\n",
        "#plt.title('Random Forest Feature Importance without one hot encoding(Top 25)',\n",
        "#          fontdict= {'fontsize' : 20})\n",
        "#plt.xlabel('Features',fontdict= {'fontsize' : 16})\n",
        "#plt.show()"
      ]
    },
    {
      "cell_type": "code",
      "execution_count": null,
      "id": "44409c26",
      "metadata": {
        "id": "44409c26",
        "outputId": "d1d786d5-b130-4822-a366-586b5300ded1"
      },
      "outputs": [
        {
          "name": "stdout",
          "output_type": "stream",
          "text": [
            "In Sample mean poisson deviance 1.2126\n",
            "Out of Sample mean poisson deviance 6.3811\n"
          ]
        }
      ],
      "source": [
        "#Evaluate the model\n",
        "print('In Sample mean poisson deviance {:.4f}'.format(evaluate_model(y_train,pipe.predict(X_train))))\n",
        "print('Out of Sample mean poisson deviance {:.4f}'.format(evaluate_model(y_test,pipe.predict(X_test))))"
      ]
    },
    {
      "cell_type": "code",
      "execution_count": null,
      "id": "6a6bd4e4",
      "metadata": {
        "id": "6a6bd4e4"
      },
      "outputs": [],
      "source": [
        "#print('Out of sample accuracy by cross validation:',cross_val_score(pipe,X,y,cv=5,scoring=scoring).mean())"
      ]
    },
    {
      "cell_type": "markdown",
      "id": "593ac43f",
      "metadata": {
        "id": "593ac43f"
      },
      "source": [
        "## 2 Without One Hot encoding"
      ]
    },
    {
      "cell_type": "code",
      "execution_count": null,
      "id": "c04ac20d",
      "metadata": {
        "id": "c04ac20d",
        "outputId": "5296625e-f6a1-46e9-be0d-5754d64121da"
      },
      "outputs": [
        {
          "data": {
            "text/plain": [
              "Pipeline(steps=[('functiontransformer-1',\n",
              "                 FunctionTransformer(func=<function drop_column at 0x000001B6A9C59040>,\n",
              "                                     kw_args={'columns': ['Price M2 Normalized',\n",
              "                                                          'Price Gross '\n",
              "                                                          'Normalized',\n",
              "                                                          'Price Net '\n",
              "                                                          'Normalized',\n",
              "                                                          'Size M2 Normalized',\n",
              "                                                          'Number Of Rooms']})),\n",
              "                ('functiontransformer-2',\n",
              "                 FunctionTransformer(func=<function adding_features at 0x000001B6AA53FDC0>)),\n",
              "                ('functiontransfo...\n",
              "                                                                   'Leerwohnungsziffer',\n",
              "                                                                   'Floor',\n",
              "                                                                   'Livingspace',\n",
              "                                                                   'Number Of '\n",
              "                                                                   'Rooms '\n",
              "                                                                   'Cleaned',\n",
              "                                                                   'Number of '\n",
              "                                                                   'Documents',\n",
              "                                                                   'Number of '\n",
              "                                                                   'Images',\n",
              "                                                                   'Price '\n",
              "                                                                   'Extra '\n",
              "                                                                   'Normalized',\n",
              "                                                                   'Year Built',\n",
              "                                                                   'Year '\n",
              "                                                                   'Lastrenovated',\n",
              "                                                                   'Len '\n",
              "                                                                   'Description',\n",
              "                                                                   'Days '\n",
              "                                                                   'Between '\n",
              "                                                                   'September '\n",
              "                                                                   'and '\n",
              "                                                                   'Created',\n",
              "                                                                   'Days '\n",
              "                                                                   'Between '\n",
              "                                                                   'September '\n",
              "                                                                   'and '\n",
              "                                                                   'Available']})),\n",
              "                ('randomforestregressor',\n",
              "                 RandomForestRegressor(n_jobs=-1, oob_score=True))])"
            ]
          },
          "execution_count": 240,
          "metadata": {},
          "output_type": "execute_result"
        }
      ],
      "source": [
        "pipe= make_pipeline(drop_col_transformer,adding_features_transformer,na_fill_estimator,rf_regressor)\n",
        "pipe.fit(X_train,y_train)"
      ]
    },
    {
      "cell_type": "code",
      "execution_count": null,
      "id": "f9b68c4e",
      "metadata": {
        "id": "f9b68c4e"
      },
      "outputs": [],
      "source": [
        "#feature_importances = list(zip(drop_col_transformer.transform(X_train), rf_regressor.feature_importances_))\n",
        "# Then sort the feature importances by most important first\n",
        "#feature_importances_ranked = sorted(feature_importances, key = lambda x: x[1], reverse = True)\n",
        "# Plot the top 25 feature importance\n",
        "#feature_names_25 = [i[0] for i in feature_importances_ranked[:25]]\n",
        "#y_ticks = np.arange(0, len(feature_names_25))\n",
        "#x_axis = [i[1] for i in feature_importances_ranked[:25]]\n",
        "#plt.figure(figsize = (10, 14))\n",
        "#plt.barh(feature_names_25, x_axis)   #horizontal barplot\n",
        "#plt.title('Random Forest Feature Importance without one hot encoding(Top 25)',\n",
        "#          fontdict= {'fontsize' : 20})\n",
        "#plt.xlabel('Features',fontdict= {'fontsize' : 16})\n",
        "#plt.show()"
      ]
    },
    {
      "cell_type": "code",
      "execution_count": null,
      "id": "8e35a21d",
      "metadata": {
        "id": "8e35a21d",
        "outputId": "e778b384-fe12-4eed-acf3-576464234a70"
      },
      "outputs": [
        {
          "name": "stdout",
          "output_type": "stream",
          "text": [
            "In Sample mean poisson deviance 1.2234\n",
            "Out of Sample mean poisson deviance 6.4265\n"
          ]
        }
      ],
      "source": [
        "#Evaluate the model\n",
        "print('In Sample mean poisson deviance {:.4f}'.format(evaluate_model(y_train,pipe.predict(X_train))))\n",
        "print('Out of Sample mean poisson deviance {:.4f}'.format(evaluate_model(y_test,pipe.predict(X_test))))"
      ]
    },
    {
      "cell_type": "code",
      "execution_count": null,
      "id": "81737bf0",
      "metadata": {
        "id": "81737bf0"
      },
      "outputs": [],
      "source": [
        "#print('Out of sample accuracy by cross validation:',cross_val_score(pipe,X,y,cv=5,scoring=scoring).mean())"
      ]
    },
    {
      "cell_type": "markdown",
      "id": "9dbf5646",
      "metadata": {
        "id": "9dbf5646"
      },
      "source": [
        "**Conclusion** Dropping the corrolated features didn't improve accuracy and our best model is keeeping the correlated features and one hot encoding"
      ]
    },
    {
      "cell_type": "code",
      "source": [],
      "metadata": {
        "id": "kcHWN-JlMa4x"
      },
      "id": "kcHWN-JlMa4x",
      "execution_count": null,
      "outputs": []
    }
  ],
  "metadata": {
    "kernelspec": {
      "display_name": "Python 3 (ipykernel)",
      "language": "python",
      "name": "python3"
    },
    "language_info": {
      "codemirror_mode": {
        "name": "ipython",
        "version": 3
      },
      "file_extension": ".py",
      "mimetype": "text/x-python",
      "name": "python",
      "nbconvert_exporter": "python",
      "pygments_lexer": "ipython3",
      "version": "3.9.12"
    },
    "colab": {
      "provenance": []
    }
  },
  "nbformat": 4,
  "nbformat_minor": 5
}