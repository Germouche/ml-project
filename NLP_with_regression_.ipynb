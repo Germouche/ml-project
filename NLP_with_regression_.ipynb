{
  "nbformat": 4,
  "nbformat_minor": 0,
  "metadata": {
    "colab": {
      "provenance": [],
      "machine_shape": "hm"
    },
    "kernelspec": {
      "name": "python3",
      "display_name": "Python 3"
    },
    "language_info": {
      "name": "python"
    },
    "gpuClass": "premium",
    "accelerator": "GPU"
  },
  "cells": [
    {
      "cell_type": "code",
      "source": [
        "gpu_info = !nvidia-smi\n",
        "gpu_info = '\\n'.join(gpu_info)\n",
        "if gpu_info.find('failed') >= 0:\n",
        "  print('Not connected to a GPU')\n",
        "else:\n",
        "  print(gpu_info)"
      ],
      "metadata": {
        "id": "wr7JiiHeIdGy"
      },
      "execution_count": null,
      "outputs": []
    },
    {
      "cell_type": "code",
      "source": [
        "from google.colab import drive\n",
        "\n",
        "drive.mount('/content/drive')"
      ],
      "metadata": {
        "id": "MLKUGZ8pM8yP"
      },
      "execution_count": null,
      "outputs": []
    },
    {
      "cell_type": "code",
      "source": [
        "!pip3 install pickle5\n"
      ],
      "metadata": {
        "id": "l0w2XPLGO1iO"
      },
      "execution_count": null,
      "outputs": []
    },
    {
      "cell_type": "code",
      "source": [
        "!pip3 install nltk\n",
        "import nltk\n",
        "nltk.download('stopwords')\n",
        "nltk.download('wordnet')\n",
        "nltk.download('punkt')\n",
        "nltk.download('words')\n",
        "nltk.download('averaged_perceptron_tagger')\n",
        "nltk.download('omw-1.4')\n",
        "from nltk.corpus import wordnet, stopwords\n",
        "\n",
        "from sklearn.model_selection import train_test_split, GridSearchCV\n",
        "from sklearn.pipeline import Pipeline\n",
        "from sklearn.feature_extraction.text import CountVectorizer, TfidfTransformer\n",
        "from sklearn.metrics import classification_report, confusion_matrix, accuracy_score\n",
        "from sklearn.naive_bayes import MultinomialNB\n",
        "from sklearn.linear_model import SGDClassifier\n",
        "from sklearn.linear_model import LogisticRegression"
      ],
      "metadata": {
        "colab": {
          "base_uri": "https://localhost:8080/"
        },
        "id": "N4s6juAQMqsK",
        "outputId": "7338aef6-503b-4aed-eb8e-266d1c451281"
      },
      "execution_count": null,
      "outputs": [
        {
          "output_type": "stream",
          "name": "stdout",
          "text": [
            "Looking in indexes: https://pypi.org/simple, https://us-python.pkg.dev/colab-wheels/public/simple/\n",
            "Requirement already satisfied: nltk in /usr/local/lib/python3.7/dist-packages (3.7)\n",
            "Requirement already satisfied: regex>=2021.8.3 in /usr/local/lib/python3.7/dist-packages (from nltk) (2022.6.2)\n",
            "Requirement already satisfied: joblib in /usr/local/lib/python3.7/dist-packages (from nltk) (1.2.0)\n",
            "Requirement already satisfied: click in /usr/local/lib/python3.7/dist-packages (from nltk) (7.1.2)\n",
            "Requirement already satisfied: tqdm in /usr/local/lib/python3.7/dist-packages (from nltk) (4.64.1)\n"
          ]
        },
        {
          "output_type": "stream",
          "name": "stderr",
          "text": [
            "[nltk_data] Downloading package stopwords to /root/nltk_data...\n",
            "[nltk_data]   Unzipping corpora/stopwords.zip.\n",
            "[nltk_data] Downloading package wordnet to /root/nltk_data...\n",
            "[nltk_data] Downloading package punkt to /root/nltk_data...\n",
            "[nltk_data]   Unzipping tokenizers/punkt.zip.\n",
            "[nltk_data] Downloading package words to /root/nltk_data...\n",
            "[nltk_data]   Unzipping corpora/words.zip.\n",
            "[nltk_data] Downloading package averaged_perceptron_tagger to\n",
            "[nltk_data]     /root/nltk_data...\n",
            "[nltk_data]   Unzipping taggers/averaged_perceptron_tagger.zip.\n",
            "[nltk_data] Downloading package omw-1.4 to /root/nltk_data...\n"
          ]
        }
      ]
    },
    {
      "cell_type": "code",
      "execution_count": null,
      "metadata": {
        "id": "Bgl3r6iJyqzt"
      },
      "outputs": [],
      "source": [
        "import pickle5 as pickle\n",
        "import pandas as pd\n",
        "\n",
        "# with open('/content/drive/MyDrive/ML/project2/test_listings_tabular.pkl', 'rb') as f:\n",
        "#     data1 = pickle.load(f)\n",
        "with open('/content/drive/MyDrive/ML/project2/test_listings_text.pkl', 'rb') as f:\n",
        "    data2 = pickle.load(f) \n",
        "# with open('/content/drive/MyDrive/ML/project2/test_listings_overall.pkl', 'rb') as f:\n",
        "#     data3 = pickle.load(f) \n",
        "with open('/content/drive/MyDrive/ML/project2/listings.pkl', 'rb') as f:\n",
        "    data4 = pickle.load(f) \n"
      ]
    },
    {
      "cell_type": "code",
      "source": [
        "df_LD = data4[['Demand','Listing Description']].copy()\n",
        "df_LT = data4[['Demand','Listing Title']].copy()\n",
        "\n",
        "test_LD = data4[['Listing Description']].copy()"
      ],
      "metadata": {
        "id": "-h5tbiyf1gc-"
      },
      "execution_count": null,
      "outputs": []
    },
    {
      "cell_type": "code",
      "source": [
        "df_LD = df_LD.rename(columns={\"Listing Description\": \"Description\"})\n",
        "df_LT = df_LT.rename(columns={\"Listing Title\": \"Title\"})\n",
        "print(len(df_LD))\n",
        "\n",
        "test_LD = test_LD.rename(columns={\"Listing Description\": \"Description\"})\n",
        "print(len(test_LD))"
      ],
      "metadata": {
        "colab": {
          "base_uri": "https://localhost:8080/"
        },
        "id": "4wtL4IM5mys6",
        "outputId": "bd2242e6-fbde-45eb-b396-bafe92630a6f"
      },
      "execution_count": null,
      "outputs": [
        {
          "output_type": "stream",
          "name": "stdout",
          "text": [
            "19954\n",
            "19954\n"
          ]
        }
      ]
    },
    {
      "cell_type": "code",
      "source": [
        "df_LD = df_LD.dropna()\n",
        "print(len(df_LD))\n",
        "\n",
        "test_LD = test_LD.dropna()\n",
        "print(len(test_LD))"
      ],
      "metadata": {
        "colab": {
          "base_uri": "https://localhost:8080/"
        },
        "id": "kRhf8JeYmOsj",
        "outputId": "f9505a7b-9e4e-494d-ae10-c400978c71ba"
      },
      "execution_count": null,
      "outputs": [
        {
          "output_type": "stream",
          "name": "stdout",
          "text": [
            "19954\n",
            "19954\n"
          ]
        }
      ]
    },
    {
      "cell_type": "code",
      "source": [
        "df_LD.Demand.value_counts()"
      ],
      "metadata": {
        "colab": {
          "base_uri": "https://localhost:8080/"
        },
        "id": "64ay3oUZl9Ee",
        "outputId": "48ca3dff-2ccc-4f7c-94bc-7633f840caa3"
      },
      "execution_count": null,
      "outputs": [
        {
          "output_type": "execute_result",
          "data": {
            "text/plain": [
              "0.0      4472\n",
              "1.0      2636\n",
              "2.0      2052\n",
              "3.0      1532\n",
              "4.0      1189\n",
              "         ... \n",
              "201.0       1\n",
              "189.0       1\n",
              "214.0       1\n",
              "198.0       1\n",
              "118.0       1\n",
              "Name: Demand, Length: 172, dtype: int64"
            ]
          },
          "metadata": {},
          "execution_count": 8
        }
      ]
    },
    {
      "cell_type": "markdown",
      "source": [
        "##plot"
      ],
      "metadata": {
        "id": "LX5CkWYb5tUs"
      }
    },
    {
      "cell_type": "code",
      "source": [
        "h = df_LD.Demand.to_numpy()"
      ],
      "metadata": {
        "id": "pomvAEnY2aWv"
      },
      "execution_count": null,
      "outputs": []
    },
    {
      "cell_type": "code",
      "source": [
        "import matplotlib.pyplot as plt\n",
        "import numpy as np\n",
        "from matplotlib import colors\n",
        "from matplotlib.ticker import PercentFormatter\n",
        "\n",
        "n, bins, patches = plt.hist(h, 50, facecolor='g', alpha=0.75)\n",
        "\n",
        "\n",
        "plt.xlabel('demand')\n",
        "plt.ylabel('frequency')\n",
        "# plt.text(60, .025, r'$\\mu=100,\\ \\sigma=15$')\n",
        "plt.xlim(0, 1000)\n",
        "plt.ylim(0, 400)\n",
        "plt.grid(True)\n",
        "plt.show()"
      ],
      "metadata": {
        "id": "3YItf6o1P2wY",
        "colab": {
          "base_uri": "https://localhost:8080/",
          "height": 283
        },
        "outputId": "a8268aa1-575a-4cef-a267-b8cd16003d04"
      },
      "execution_count": null,
      "outputs": [
        {
          "output_type": "display_data",
          "data": {
            "text/plain": [
              "<Figure size 432x288 with 1 Axes>"
            ],
            "image/png": "[encoded data removed]"
          },
          "metadata": {
            "needs_background": "light"
          }
        }
      ]
    },
    {
      "cell_type": "markdown",
      "source": [
        "##Fundamental preprocessing tasks\n",
        "Some fundamental text preprocessing steps include lowercasing, punctuations removal, and removal of stopwords. "
      ],
      "metadata": {
        "id": "rehkKAMtKcmo"
      }
    },
    {
      "cell_type": "code",
      "source": [
        "import nltk\n",
        "from nltk.corpus import stopwords\n",
        "nltk.download('stopwords')\n",
        "# print(stopwords.words('chinese'))\n",
        "stopwords_list = stopwords.words('german')\n",
        "\n",
        "def DescriptionProcessing(df):\n",
        "  # remove non alphanumeric \n",
        "  df_LD['description_cleaned'] = df_LD.Description.str.replace('[^a-zA-Z0-9 ]', '')\n",
        "  # lowercase\n",
        "  df_LD.description_cleaned = df_LD.description_cleaned.str.lower()\n",
        "  # split into list\n",
        "  df_LD.description_cleaned = df_LD.description_cleaned.str.split(' ')\n",
        "  # remove stopwords\n",
        "  df_LD.description_cleaned = df_LD.description_cleaned.apply(lambda x: [item for item in x if item not in stopwords_list])\n",
        "  return df\n",
        "\n",
        "def DescriptionProcessing2(df):\n",
        "  # remove non alphanumeric \n",
        "  test_LD['description_cleaned'] = test_LD.Description.str.replace('[^a-zA-Z0-9 ]', '')\n",
        "  # lowercase\n",
        "  test_LD.description_cleaned = test_LD.description_cleaned.str.lower()\n",
        "  # split into list\n",
        "  test_LD.description_cleaned = test_LD.description_cleaned.str.split(' ')\n",
        "  # remove stopwords\n",
        "  test_LD.description_cleaned = test_LD.description_cleaned.apply(lambda x: [item for item in x if item not in stopwords_list])\n",
        "  return df"
      ],
      "metadata": {
        "id": "If43kGWFzImf",
        "colab": {
          "base_uri": "https://localhost:8080/"
        },
        "outputId": "6286c24d-08a2-43ab-918d-a60aefc75477"
      },
      "execution_count": null,
      "outputs": [
        {
          "output_type": "stream",
          "name": "stderr",
          "text": [
            "[nltk_data] Downloading package stopwords to /root/nltk_data...\n",
            "[nltk_data]   Package stopwords is already up-to-date!\n"
          ]
        }
      ]
    },
    {
      "cell_type": "markdown",
      "source": [
        "##Lemmatization\n",
        "For instance, the word ‘ran’ is lemmatized into ‘run’, ‘crying’ into ‘cry’, and ‘better’ into ‘good’. "
      ],
      "metadata": {
        "id": "-CncOIOGKSC3"
      }
    },
    {
      "cell_type": "code",
      "source": [
        "def get_wordnet_pos(word):\n",
        "  tag = nltk.pos_tag([word])[0][1][0].upper()\n",
        "  tag_dict = {\"J\": wordnet.ADJ,\n",
        "                \"N\": wordnet.NOUN,\n",
        "                \"V\": wordnet.VERB,\n",
        "                \"R\": wordnet.ADV}\n",
        "\n",
        "  return tag_dict.get(tag, wordnet.NOUN)\n",
        "\n",
        "lemmatizer = nltk.stem.WordNetLemmatizer()\n",
        "def get_lemmatize(sent):\n",
        "  return \" \".join([lemmatizer.lemmatize(w, get_wordnet_pos(w)) for w in nltk.word_tokenize(sent)])\n",
        "\n",
        "clean_data = DescriptionProcessing(df_LD)\n",
        "clean_data.description_cleaned = clean_data.description_cleaned.apply(' '.join)\n",
        "clean_data['description_cleaned_lemmatized'] = clean_data.description_cleaned.apply(get_lemmatize)\n",
        "\n",
        "clean_data_test = DescriptionProcessing(test_LD)\n",
        "clean_data_test.description_cleaned = clean_data_test.description_cleaned.apply(' '.join)\n",
        "clean_data_test['description_cleaned_lemmatized'] = clean_data_test.description_cleaned.apply(get_lemmatize)"
      ],
      "metadata": {
        "id": "pIQ9Z5LFBheV"
      },
      "execution_count": null,
      "outputs": []
    },
    {
      "cell_type": "code",
      "source": [
        "clean_data_test = DescriptionProcessing2(test_LD)\n",
        "clean_data_test.description_cleaned = clean_data_test.description_cleaned.apply(' '.join)\n",
        "clean_data_test['description_cleaned_lemmatized'] = clean_data_test.description_cleaned.apply(get_lemmatize)"
      ],
      "metadata": {
        "colab": {
          "base_uri": "https://localhost:8080/"
        },
        "id": "1nePQCDLd3RD",
        "outputId": "2b5b37d2-29cb-49de-8640-0745e791d634"
      },
      "execution_count": null,
      "outputs": [
        {
          "output_type": "stream",
          "name": "stderr",
          "text": [
            "/usr/local/lib/python3.7/dist-packages/ipykernel_launcher.py:20: FutureWarning: The default value of regex will change from True to False in a future version.\n"
          ]
        }
      ]
    },
    {
      "cell_type": "code",
      "source": [
        "print(clean_data['description_cleaned_lemmatized'])"
      ],
      "metadata": {
        "colab": {
          "base_uri": "https://localhost:8080/"
        },
        "id": "mMJGR5DfGEEP",
        "outputId": "dba9972b-1ba3-4c30-95c2-493b460278d9"
      },
      "execution_count": null,
      "outputs": [
        {
          "output_type": "stream",
          "name": "stdout",
          "text": [
            "0        suche neuen mietern fr geniale grosszgige wund...\n",
            "1        ce logement se situe dans un btiment entiremen...\n",
            "2        vereinbarung vermieten tolle wohnung folgende ...\n",
            "3        vereinbarung vermieten attraktive sonnige 35zi...\n",
            "4        cet appartement idalement situ proximit cole s...\n",
            "                               ...                        \n",
            "19995    per sofort vereinbarung vermieten grosse helle...\n",
            "19996    dans un immeuble situ proximit immdiate lac et...\n",
            "19997    dans immeuble scuris avec concierge secteur de...\n",
            "19998    situ dans un immeuble la fois proche bord lac ...\n",
            "19999    vermieten zentral grnen gelegenen liegenschaft...\n",
            "Name: description_cleaned_lemmatized, Length: 19954, dtype: object\n"
          ]
        }
      ]
    },
    {
      "cell_type": "markdown",
      "source": [
        "##Word Vectorization (Embedding) & ML Classifiers for Multi-Classification"
      ],
      "metadata": {
        "id": "git1I78kKuuM"
      }
    },
    {
      "cell_type": "code",
      "source": [
        "from sklearn.naive_bayes import MultinomialNB\n",
        "\n",
        "nb = Pipeline([('vectorize', CountVectorizer(ngram_range=(1, 2))),\n",
        "               ('tfidf', TfidfTransformer()),\n",
        "               ('clf', MultinomialNB()),\n",
        "              ])"
      ],
      "metadata": {
        "id": "jXU-XM7v1XiR"
      },
      "execution_count": null,
      "outputs": []
    },
    {
      "cell_type": "code",
      "source": [
        "from sklearn.linear_model import SGDClassifier\n",
        "\n",
        "sgd = Pipeline([('vect', CountVectorizer(ngram_range=(1, 2))),\n",
        "                ('tfidf', TfidfTransformer()),\n",
        "                ('clf', SGDClassifier()),\n",
        "               ])\n"
      ],
      "metadata": {
        "id": "Nf46mgCz_AtI"
      },
      "execution_count": null,
      "outputs": []
    },
    {
      "cell_type": "code",
      "source": [
        "from sklearn.linear_model import LogisticRegression\n",
        "\n",
        "logreg = Pipeline([('vect', CountVectorizer(ngram_range=(1, 2))),\n",
        "                ('tfidf', TfidfTransformer()),\n",
        "                ('clf', LogisticRegression(max_iter=500)),\n",
        "               ])"
      ],
      "metadata": {
        "id": "b39reO_A_Urr"
      },
      "execution_count": null,
      "outputs": []
    },
    {
      "cell_type": "code",
      "source": [
        "x = clean_data['description_cleaned_lemmatized']\n",
        "y = clean_data['Demand']\n",
        "x2 = clean_data_test['description_cleaned_lemmatized']\n",
        "# X_train, X_test, y_train, y_test = train_test_split(x, y, \n",
        "#                                                     test_size=0.2, random_state = 44)\n",
        "X_train, y_train = x, y\n",
        "X_test = x2"
      ],
      "metadata": {
        "id": "M0xCpqW_H1oT"
      },
      "execution_count": null,
      "outputs": []
    },
    {
      "cell_type": "code",
      "source": [
        "clean_data['Demand']\n"
      ],
      "metadata": {
        "colab": {
          "base_uri": "https://localhost:8080/"
        },
        "id": "QcNuzs-iHL28",
        "outputId": "1b885eef-a253-4df8-e211-c7592105b56b"
      },
      "execution_count": null,
      "outputs": [
        {
          "output_type": "execute_result",
          "data": {
            "text/plain": [
              "0        25.0\n",
              "1         2.0\n",
              "2         0.0\n",
              "3         4.0\n",
              "4         3.0\n",
              "         ... \n",
              "19995     2.0\n",
              "19996     1.0\n",
              "19997     2.0\n",
              "19998     2.0\n",
              "19999     3.0\n",
              "Name: Demand, Length: 19954, dtype: float64"
            ]
          },
          "metadata": {},
          "execution_count": 19
        }
      ]
    },
    {
      "cell_type": "code",
      "source": [
        "# Logistic Regression\n",
        "logreg.fit(X_train, y_train)\n",
        "y_pred_log = logreg.predict(X_test)\n",
        "print(accuracy_score(y_test, y_pred_log))\n",
        "print(confusion_matrix(y_test, y_pred_log))\n",
        "print(classification_report(y_test, y_pred_log))"
      ],
      "metadata": {
        "id": "YO6DQFK7NMi3",
        "colab": {
          "base_uri": "https://localhost:8080/"
        },
        "outputId": "60a5c0eb-b73b-4c91-dfd8-e3dc6f63b7d5"
      },
      "execution_count": null,
      "outputs": [
        {
          "output_type": "stream",
          "name": "stdout",
          "text": [
            "0.21874216988223502\n",
            "[[702  95  35 ...   0   0   0]\n",
            " [371  93  37 ...   0   0   0]\n",
            " [250  82  42 ...   0   0   0]\n",
            " ...\n",
            " [  0   0   0 ...   0   0   0]\n",
            " [  1   0   0 ...   0   0   0]\n",
            " [  0   0   0 ...   0   0   0]]\n",
            "              precision    recall  f1-score   support\n",
            "\n",
            "         0.0       0.31      0.80      0.45       878\n",
            "         1.0       0.15      0.18      0.16       529\n",
            "         2.0       0.12      0.10      0.11       418\n",
            "         3.0       0.05      0.04      0.05       303\n",
            "         4.0       0.07      0.05      0.05       236\n",
            "         5.0       0.08      0.03      0.04       198\n",
            "         6.0       0.04      0.02      0.03       138\n",
            "         7.0       0.04      0.02      0.02       132\n",
            "         8.0       0.02      0.01      0.01       118\n",
            "         9.0       0.00      0.00      0.00        99\n",
            "        10.0       0.00      0.00      0.00        80\n",
            "        11.0       0.00      0.00      0.00        61\n",
            "        12.0       0.00      0.00      0.00        54\n",
            "        13.0       0.00      0.00      0.00        60\n",
            "        14.0       0.00      0.00      0.00        45\n",
            "        15.0       0.00      0.00      0.00        36\n",
            "        16.0       0.00      0.00      0.00        37\n",
            "        17.0       0.00      0.00      0.00        28\n",
            "        18.0       0.00      0.00      0.00        41\n",
            "        19.0       0.00      0.00      0.00        34\n",
            "        20.0       0.00      0.00      0.00        31\n",
            "        21.0       0.00      0.00      0.00        39\n",
            "        22.0       0.00      0.00      0.00        19\n",
            "        23.0       0.00      0.00      0.00        15\n",
            "        24.0       0.00      0.00      0.00        19\n",
            "        25.0       0.00      0.00      0.00        10\n",
            "        26.0       0.00      0.00      0.00        14\n",
            "        27.0       0.00      0.00      0.00        19\n",
            "        28.0       0.00      0.00      0.00        16\n",
            "        29.0       0.00      0.00      0.00        12\n",
            "        30.0       0.00      0.00      0.00        21\n",
            "        31.0       0.00      0.00      0.00        12\n",
            "        32.0       0.00      0.00      0.00        10\n",
            "        33.0       0.00      0.00      0.00        10\n",
            "        34.0       0.00      0.00      0.00         7\n",
            "        35.0       0.00      0.00      0.00        13\n",
            "        36.0       0.00      0.00      0.00        11\n",
            "        37.0       0.00      0.00      0.00         8\n",
            "        38.0       0.00      0.00      0.00         5\n",
            "        39.0       0.00      0.00      0.00         6\n",
            "        40.0       0.00      0.00      0.00         6\n",
            "        41.0       0.00      0.00      0.00        10\n",
            "        42.0       0.00      0.00      0.00         9\n",
            "        43.0       0.00      0.00      0.00        10\n",
            "        44.0       0.00      0.00      0.00         7\n",
            "        45.0       0.00      0.00      0.00         3\n",
            "        46.0       0.00      0.00      0.00         7\n",
            "        47.0       0.00      0.00      0.00         5\n",
            "        48.0       0.00      0.00      0.00         6\n",
            "        49.0       0.00      0.00      0.00         8\n",
            "        50.0       0.00      0.00      0.00         4\n",
            "        51.0       0.00      0.00      0.00         5\n",
            "        52.0       0.00      0.00      0.00         1\n",
            "        53.0       0.00      0.00      0.00         1\n",
            "        54.0       0.00      0.00      0.00         5\n",
            "        55.0       0.00      0.00      0.00         5\n",
            "        56.0       0.00      0.00      0.00         3\n",
            "        57.0       0.00      0.00      0.00         2\n",
            "        58.0       0.00      0.00      0.00         1\n",
            "        59.0       0.00      0.00      0.00         1\n",
            "        60.0       0.00      0.00      0.00         4\n",
            "        61.0       0.00      0.00      0.00         2\n",
            "        62.0       0.00      0.00      0.00         3\n",
            "        63.0       0.00      0.00      0.00         1\n",
            "        64.0       0.00      0.00      0.00         1\n",
            "        66.0       0.00      0.00      0.00         2\n",
            "        67.0       0.00      0.00      0.00         2\n",
            "        68.0       0.00      0.00      0.00         1\n",
            "        69.0       0.00      0.00      0.00         1\n",
            "        74.0       0.00      0.00      0.00         3\n",
            "        76.0       0.00      0.00      0.00         2\n",
            "        77.0       0.00      0.00      0.00         1\n",
            "        78.0       0.00      0.00      0.00         1\n",
            "        79.0       0.00      0.00      0.00         1\n",
            "        80.0       0.00      0.00      0.00         1\n",
            "        81.0       0.00      0.00      0.00         2\n",
            "        82.0       0.00      0.00      0.00         3\n",
            "        83.0       0.00      0.00      0.00         2\n",
            "        84.0       0.00      0.00      0.00         1\n",
            "        85.0       0.00      0.00      0.00         3\n",
            "        87.0       0.00      0.00      0.00         2\n",
            "        88.0       0.00      0.00      0.00         3\n",
            "        91.0       0.00      0.00      0.00         1\n",
            "        93.0       0.00      0.00      0.00         1\n",
            "        94.0       0.00      0.00      0.00         2\n",
            "        95.0       0.00      0.00      0.00         1\n",
            "        96.0       0.00      0.00      0.00         1\n",
            "        97.0       0.00      0.00      0.00         1\n",
            "       101.0       0.00      0.00      0.00         1\n",
            "       102.0       0.00      0.00      0.00         2\n",
            "       109.0       0.00      0.00      0.00         1\n",
            "       110.0       0.00      0.00      0.00         1\n",
            "       114.0       0.00      0.00      0.00         1\n",
            "       115.0       0.00      0.00      0.00         1\n",
            "       119.0       0.00      0.00      0.00         1\n",
            "       120.0       0.00      0.00      0.00         1\n",
            "       122.0       0.00      0.00      0.00         1\n",
            "       134.0       0.00      0.00      0.00         2\n",
            "       135.0       0.00      0.00      0.00         1\n",
            "       139.0       0.00      0.00      0.00         1\n",
            "       147.0       0.00      0.00      0.00         1\n",
            "       149.0       0.00      0.00      0.00         1\n",
            "       155.0       0.00      0.00      0.00         1\n",
            "       160.0       0.00      0.00      0.00         1\n",
            "       190.0       0.00      0.00      0.00         1\n",
            "       199.0       0.00      0.00      0.00         1\n",
            "       280.0       0.00      0.00      0.00         1\n",
            "\n",
            "    accuracy                           0.22      3991\n",
            "   macro avg       0.01      0.01      0.01      3991\n",
            "weighted avg       0.12      0.22      0.14      3991\n",
            "\n"
          ]
        },
        {
          "output_type": "stream",
          "name": "stderr",
          "text": [
            "/usr/local/lib/python3.7/dist-packages/sklearn/metrics/_classification.py:1318: UndefinedMetricWarning: Precision and F-score are ill-defined and being set to 0.0 in labels with no predicted samples. Use `zero_division` parameter to control this behavior.\n",
            "  _warn_prf(average, modifier, msg_start, len(result))\n",
            "/usr/local/lib/python3.7/dist-packages/sklearn/metrics/_classification.py:1318: UndefinedMetricWarning: Precision and F-score are ill-defined and being set to 0.0 in labels with no predicted samples. Use `zero_division` parameter to control this behavior.\n",
            "  _warn_prf(average, modifier, msg_start, len(result))\n",
            "/usr/local/lib/python3.7/dist-packages/sklearn/metrics/_classification.py:1318: UndefinedMetricWarning: Precision and F-score are ill-defined and being set to 0.0 in labels with no predicted samples. Use `zero_division` parameter to control this behavior.\n",
            "  _warn_prf(average, modifier, msg_start, len(result))\n"
          ]
        }
      ]
    }
  ]
}