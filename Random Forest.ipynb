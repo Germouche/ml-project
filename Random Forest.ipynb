{
 "cells": [
  {
   "cell_type": "markdown",
   "id": "34084116",
   "metadata": {},
   "source": [
    "**TO DO**  \n",
    "-follow this tutorial to handle date data: https://ibexorigin.medium.com/in-depth-guide-to-building-custom-sklearn-transformers-for-any-data-preprocessing-scenario-33450f8b35ff  \n",
    "-Tune the model  \n",
    "-Test other fill methods  \n",
    "-**GRADIENT BOOSTING TREE**  \n",
    "-Drop outliers?  \n",
    "-**XGBOOST** https://towardsdatascience.com/a-beginners-guide-to-xgboost-87f5d4c30ed7  \n",
    "**PCA**? https://www.kaggle.com/code/carlosdg/xgboost-with-scikit-learn-pipeline-gridsearchcv  \n",
    "**Pipeline improvement** https://www.kdnuggets.com/2022/07/scikitlearn-imputer.html"
   ]
  },
  {
   "cell_type": "markdown",
   "id": "6794492d",
   "metadata": {},
   "source": [
    "deviance 16.5 deviance, 6.8 deviance with gradient bosyng optimize deviance! AMS got 5.8..."
   ]
  },
  {
   "cell_type": "code",
   "execution_count": 114,
   "id": "e690185f",
   "metadata": {},
   "outputs": [
    {
     "name": "stdout",
     "output_type": "stream",
     "text": [
      "The autoreload extension is already loaded. To reload it, use:\n",
      "  %reload_ext autoreload\n"
     ]
    }
   ],
   "source": [
    "import numpy as np\n",
    "from scipy.stats import norm\n",
    "import pandas as pd\n",
    "import matplotlib.pyplot as plt\n",
    "from scipy import stats\n",
    "import seaborn as sns\n",
    "import networkx as nx\n",
    "import statsmodels.api as sm\n",
    "import statsmodels.formula.api as smf\n",
    "import datetime\n",
    "from custom_scorer_module import custom_accuracy\n",
    "%matplotlib inline\n",
    "import pickle\n",
    "from langdetect import detect\n",
    "from sklearn.metrics import fbeta_score, make_scorer, mean_poisson_deviance\n",
    "%load_ext autoreload\n",
    "%autoreload 2\n",
    "import pickle\n",
    "from sklearn.experimental import enable_iterative_imputer\n",
    "from sklearn.impute import IterativeImputer\n",
    "from sklearn.ensemble import ExtraTreesRegressor"
   ]
  },
  {
   "cell_type": "code",
   "execution_count": 115,
   "id": "b7fd03fa",
   "metadata": {},
   "outputs": [],
   "source": [
    "def accuracy(y_pred,y,tol=0):\n",
    "    numpy_y=y.to_numpy()\n",
    "    rounded_y_pred=y_pred.round()\n",
    "    assert len(rounded_y_pred)==len(numpy_y)\n",
    "    return (np.abs(rounded_y_pred-numpy_y)<=tol).sum()/len(rounded_y_pred)"
   ]
  },
  {
   "cell_type": "code",
   "execution_count": 116,
   "id": "06eccb21",
   "metadata": {},
   "outputs": [],
   "source": [
    "def evaluate_model(y_true,y_pred):\n",
    "    prediction=y_pred.copy()\n",
    "    prediction[prediction<=0]=10**(-10)\n",
    "    return mean_poisson_deviance(y_true,prediction)\n",
    "    "
   ]
  },
  {
   "cell_type": "code",
   "execution_count": 117,
   "id": "684e60a6",
   "metadata": {},
   "outputs": [],
   "source": [
    "#scoring=make_scorer(custom_accuracy, tol=0,greater_is_better=True)\n",
    "scoring=make_scorer(evaluate_model,greater_is_better=False)"
   ]
  },
  {
   "cell_type": "code",
   "execution_count": 118,
   "id": "6d5f80dc",
   "metadata": {},
   "outputs": [],
   "source": [
    "seed=np.random.randint(100)\n",
    "DICT_GEO_CANTON={'ZH':0, 'VD':1, 'BE':2, 'AG':3, 'FR':4, 'SG':5, 'LU':6, 'SO':7, 'SH':8, 'GE':9, 'VS':10,\n",
    "       'SZ':11, 'BS':12, 'ZG':13, 'BL':14, 'NE':15, 'TI':16, 'GR':17, 'TG':18, 'AR':19, 'UR':20, 'GL':21,\n",
    "       'NW':22, 'JU':22}\n",
    "DICT_SUBCATEGORY={'Apartment':0, 'Duplex':1, 'Row house':2, 'Roof flat':3, 'Attic flat':4,\n",
    "       'Single house':5, 'Single Room':6, 'Studio':7, 'Furnished dwelling':8,\n",
    "       'Loft':9, 'Mansard':10, 'Farm house':11}"
   ]
  },
  {
   "cell_type": "code",
   "execution_count": 119,
   "id": "ef280349",
   "metadata": {},
   "outputs": [],
   "source": [
    "with open(\"./listings.pkl\", \"rb\") as fh:\n",
    "    data = pickle.load(fh)\n",
    "with open(\"./test_listings_overall.pkl\", \"rb\") as fh:\n",
    "    data_test = pickle.load(fh)"
   ]
  },
  {
   "cell_type": "code",
   "execution_count": 120,
   "id": "caf3aea5",
   "metadata": {
    "scrolled": true
   },
   "outputs": [
    {
     "data": {
      "text/html": [
       "<div>\n",
       "<style scoped>\n",
       "    .dataframe tbody tr th:only-of-type {\n",
       "        vertical-align: middle;\n",
       "    }\n",
       "\n",
       "    .dataframe tbody tr th {\n",
       "        vertical-align: top;\n",
       "    }\n",
       "\n",
       "    .dataframe thead th {\n",
       "        text-align: right;\n",
       "    }\n",
       "</style>\n",
       "<table border=\"1\" class=\"dataframe\">\n",
       "  <thead>\n",
       "    <tr style=\"text-align: right;\">\n",
       "      <th></th>\n",
       "      <th>Are Pets Allowed</th>\n",
       "      <th>Category Idx</th>\n",
       "      <th>Day of Advertisement Created</th>\n",
       "      <th>Day of Date Available From</th>\n",
       "      <th>Demand</th>\n",
       "      <th>Floor</th>\n",
       "      <th>Geo Canton</th>\n",
       "      <th>Geo City</th>\n",
       "      <th>Geo Zip</th>\n",
       "      <th>Has Balcony</th>\n",
       "      <th>...</th>\n",
       "      <th>Number of Images</th>\n",
       "      <th>Price Extra Normalized</th>\n",
       "      <th>Price Gross Normalized</th>\n",
       "      <th>Price M2 Normalized</th>\n",
       "      <th>Price Net Normalized</th>\n",
       "      <th>Property Reference Id</th>\n",
       "      <th>Size M2 Normalized</th>\n",
       "      <th>Subcategory En Idx</th>\n",
       "      <th>Year Built</th>\n",
       "      <th>Year Lastrenovated</th>\n",
       "    </tr>\n",
       "  </thead>\n",
       "  <tbody>\n",
       "    <tr>\n",
       "      <th>0</th>\n",
       "      <td>NaN</td>\n",
       "      <td>APPT</td>\n",
       "      <td>January 7, 2021</td>\n",
       "      <td>March 1, 2021</td>\n",
       "      <td>25.0</td>\n",
       "      <td>0.0</td>\n",
       "      <td>ZH</td>\n",
       "      <td>Dübendorf</td>\n",
       "      <td>8600</td>\n",
       "      <td>NaN</td>\n",
       "      <td>...</td>\n",
       "      <td>6</td>\n",
       "      <td>550.0</td>\n",
       "      <td>4460.0</td>\n",
       "      <td>19.0</td>\n",
       "      <td>3910.0</td>\n",
       "      <td>0002.03.7648</td>\n",
       "      <td>232.0</td>\n",
       "      <td>Apartment</td>\n",
       "      <td>2016.0</td>\n",
       "      <td>2016.0</td>\n",
       "    </tr>\n",
       "    <tr>\n",
       "      <th>1</th>\n",
       "      <td>NaN</td>\n",
       "      <td>APPT</td>\n",
       "      <td>November 18, 2019</td>\n",
       "      <td>March 1, 2020</td>\n",
       "      <td>2.0</td>\n",
       "      <td>1.0</td>\n",
       "      <td>VD</td>\n",
       "      <td>Le Mont-sur-Lausanne</td>\n",
       "      <td>1052</td>\n",
       "      <td>NaN</td>\n",
       "      <td>...</td>\n",
       "      <td>7</td>\n",
       "      <td>120.0</td>\n",
       "      <td>1345.0</td>\n",
       "      <td>30.0</td>\n",
       "      <td>1225.0</td>\n",
       "      <td>9680.61.2071</td>\n",
       "      <td>45.0</td>\n",
       "      <td>Apartment</td>\n",
       "      <td>NaN</td>\n",
       "      <td>NaN</td>\n",
       "    </tr>\n",
       "    <tr>\n",
       "      <th>2</th>\n",
       "      <td>False</td>\n",
       "      <td>APPT</td>\n",
       "      <td>March 15, 2017</td>\n",
       "      <td>NaN</td>\n",
       "      <td>0.0</td>\n",
       "      <td>1.0</td>\n",
       "      <td>BE</td>\n",
       "      <td>Langenthal</td>\n",
       "      <td>4900</td>\n",
       "      <td>False</td>\n",
       "      <td>...</td>\n",
       "      <td>13</td>\n",
       "      <td>250.0</td>\n",
       "      <td>1570.0</td>\n",
       "      <td>15.0</td>\n",
       "      <td>1320.0</td>\n",
       "      <td>7204.61.8658</td>\n",
       "      <td>103.0</td>\n",
       "      <td>Apartment</td>\n",
       "      <td>NaN</td>\n",
       "      <td>NaN</td>\n",
       "    </tr>\n",
       "    <tr>\n",
       "      <th>3</th>\n",
       "      <td>True</td>\n",
       "      <td>APPT</td>\n",
       "      <td>July 7, 2021</td>\n",
       "      <td>May 1, 2021</td>\n",
       "      <td>4.0</td>\n",
       "      <td>1.0</td>\n",
       "      <td>AG</td>\n",
       "      <td>Fislisbach</td>\n",
       "      <td>5442</td>\n",
       "      <td>NaN</td>\n",
       "      <td>...</td>\n",
       "      <td>13</td>\n",
       "      <td>270.0</td>\n",
       "      <td>1480.0</td>\n",
       "      <td>17.0</td>\n",
       "      <td>1210.0</td>\n",
       "      <td>7410.50.5987</td>\n",
       "      <td>86.0</td>\n",
       "      <td>Apartment</td>\n",
       "      <td>1985.0</td>\n",
       "      <td>1985.0</td>\n",
       "    </tr>\n",
       "    <tr>\n",
       "      <th>4</th>\n",
       "      <td>False</td>\n",
       "      <td>APPT</td>\n",
       "      <td>November 3, 2017</td>\n",
       "      <td>August 1, 2017</td>\n",
       "      <td>3.0</td>\n",
       "      <td>0.0</td>\n",
       "      <td>FR</td>\n",
       "      <td>Bulle</td>\n",
       "      <td>1630</td>\n",
       "      <td>False</td>\n",
       "      <td>...</td>\n",
       "      <td>3</td>\n",
       "      <td>300.0</td>\n",
       "      <td>1490.0</td>\n",
       "      <td>19.0</td>\n",
       "      <td>1190.0</td>\n",
       "      <td>9270.61.7822</td>\n",
       "      <td>79.0</td>\n",
       "      <td>Apartment</td>\n",
       "      <td>NaN</td>\n",
       "      <td>NaN</td>\n",
       "    </tr>\n",
       "    <tr>\n",
       "      <th>...</th>\n",
       "      <td>...</td>\n",
       "      <td>...</td>\n",
       "      <td>...</td>\n",
       "      <td>...</td>\n",
       "      <td>...</td>\n",
       "      <td>...</td>\n",
       "      <td>...</td>\n",
       "      <td>...</td>\n",
       "      <td>...</td>\n",
       "      <td>...</td>\n",
       "      <td>...</td>\n",
       "      <td>...</td>\n",
       "      <td>...</td>\n",
       "      <td>...</td>\n",
       "      <td>...</td>\n",
       "      <td>...</td>\n",
       "      <td>...</td>\n",
       "      <td>...</td>\n",
       "      <td>...</td>\n",
       "      <td>...</td>\n",
       "      <td>...</td>\n",
       "    </tr>\n",
       "    <tr>\n",
       "      <th>19995</th>\n",
       "      <td>False</td>\n",
       "      <td>APPT</td>\n",
       "      <td>January 4, 2018</td>\n",
       "      <td>April 1, 2018</td>\n",
       "      <td>2.0</td>\n",
       "      <td>2.0</td>\n",
       "      <td>SG</td>\n",
       "      <td>St. Gallen</td>\n",
       "      <td>9000</td>\n",
       "      <td>False</td>\n",
       "      <td>...</td>\n",
       "      <td>6</td>\n",
       "      <td>170.0</td>\n",
       "      <td>1350.0</td>\n",
       "      <td>15.0</td>\n",
       "      <td>1180.0</td>\n",
       "      <td>4458.50.0065</td>\n",
       "      <td>90.0</td>\n",
       "      <td>Apartment</td>\n",
       "      <td>NaN</td>\n",
       "      <td>NaN</td>\n",
       "    </tr>\n",
       "    <tr>\n",
       "      <th>19996</th>\n",
       "      <td>True</td>\n",
       "      <td>APPT</td>\n",
       "      <td>November 3, 2021</td>\n",
       "      <td>February 1, 2022</td>\n",
       "      <td>1.0</td>\n",
       "      <td>2.0</td>\n",
       "      <td>VD</td>\n",
       "      <td>Vevey</td>\n",
       "      <td>1800</td>\n",
       "      <td>NaN</td>\n",
       "      <td>...</td>\n",
       "      <td>8</td>\n",
       "      <td>190.0</td>\n",
       "      <td>1940.0</td>\n",
       "      <td>23.0</td>\n",
       "      <td>1750.0</td>\n",
       "      <td>4481.61.5904</td>\n",
       "      <td>84.0</td>\n",
       "      <td>Apartment</td>\n",
       "      <td>1968.0</td>\n",
       "      <td>1968.0</td>\n",
       "    </tr>\n",
       "    <tr>\n",
       "      <th>19997</th>\n",
       "      <td>NaN</td>\n",
       "      <td>APPT</td>\n",
       "      <td>October 15, 2021</td>\n",
       "      <td>June 16, 2021</td>\n",
       "      <td>2.0</td>\n",
       "      <td>5.0</td>\n",
       "      <td>GE</td>\n",
       "      <td>Grand-Lancy</td>\n",
       "      <td>1212</td>\n",
       "      <td>NaN</td>\n",
       "      <td>...</td>\n",
       "      <td>5</td>\n",
       "      <td>275.0</td>\n",
       "      <td>2175.0</td>\n",
       "      <td>32.0</td>\n",
       "      <td>1900.0</td>\n",
       "      <td>0221.61.7685</td>\n",
       "      <td>68.0</td>\n",
       "      <td>Apartment</td>\n",
       "      <td>NaN</td>\n",
       "      <td>NaN</td>\n",
       "    </tr>\n",
       "    <tr>\n",
       "      <th>19998</th>\n",
       "      <td>NaN</td>\n",
       "      <td>APPT</td>\n",
       "      <td>October 1, 2020</td>\n",
       "      <td>May 1, 2021</td>\n",
       "      <td>2.0</td>\n",
       "      <td>7.0</td>\n",
       "      <td>VD</td>\n",
       "      <td>Nyon</td>\n",
       "      <td>1260</td>\n",
       "      <td>NaN</td>\n",
       "      <td>...</td>\n",
       "      <td>6</td>\n",
       "      <td>240.0</td>\n",
       "      <td>3540.0</td>\n",
       "      <td>37.0</td>\n",
       "      <td>3300.0</td>\n",
       "      <td>8508.50.4399</td>\n",
       "      <td>95.0</td>\n",
       "      <td>Apartment</td>\n",
       "      <td>NaN</td>\n",
       "      <td>NaN</td>\n",
       "    </tr>\n",
       "    <tr>\n",
       "      <th>19999</th>\n",
       "      <td>False</td>\n",
       "      <td>APPT</td>\n",
       "      <td>May 11, 2017</td>\n",
       "      <td>September 1, 2017</td>\n",
       "      <td>3.0</td>\n",
       "      <td>0.0</td>\n",
       "      <td>TG</td>\n",
       "      <td>Frauenfeld</td>\n",
       "      <td>8500</td>\n",
       "      <td>False</td>\n",
       "      <td>...</td>\n",
       "      <td>5</td>\n",
       "      <td>130.0</td>\n",
       "      <td>845.0</td>\n",
       "      <td>16.0</td>\n",
       "      <td>715.0</td>\n",
       "      <td>4893.61.5829</td>\n",
       "      <td>52.0</td>\n",
       "      <td>Apartment</td>\n",
       "      <td>NaN</td>\n",
       "      <td>NaN</td>\n",
       "    </tr>\n",
       "  </tbody>\n",
       "</table>\n",
       "<p>20000 rows × 35 columns</p>\n",
       "</div>"
      ],
      "text/plain": [
       "      Are Pets Allowed Category Idx Day of Advertisement Created  \\\n",
       "0                  NaN         APPT              January 7, 2021   \n",
       "1                  NaN         APPT            November 18, 2019   \n",
       "2                False         APPT               March 15, 2017   \n",
       "3                 True         APPT                 July 7, 2021   \n",
       "4                False         APPT             November 3, 2017   \n",
       "...                ...          ...                          ...   \n",
       "19995            False         APPT              January 4, 2018   \n",
       "19996             True         APPT             November 3, 2021   \n",
       "19997              NaN         APPT             October 15, 2021   \n",
       "19998              NaN         APPT              October 1, 2020   \n",
       "19999            False         APPT                 May 11, 2017   \n",
       "\n",
       "      Day of Date Available From  Demand  Floor Geo Canton  \\\n",
       "0                  March 1, 2021    25.0    0.0         ZH   \n",
       "1                  March 1, 2020     2.0    1.0         VD   \n",
       "2                            NaN     0.0    1.0         BE   \n",
       "3                    May 1, 2021     4.0    1.0         AG   \n",
       "4                 August 1, 2017     3.0    0.0         FR   \n",
       "...                          ...     ...    ...        ...   \n",
       "19995              April 1, 2018     2.0    2.0         SG   \n",
       "19996           February 1, 2022     1.0    2.0         VD   \n",
       "19997              June 16, 2021     2.0    5.0         GE   \n",
       "19998                May 1, 2021     2.0    7.0         VD   \n",
       "19999          September 1, 2017     3.0    0.0         TG   \n",
       "\n",
       "                   Geo City  Geo Zip Has Balcony  ... Number of Images  \\\n",
       "0                 Dübendorf     8600         NaN  ...                6   \n",
       "1      Le Mont-sur-Lausanne     1052         NaN  ...                7   \n",
       "2                Langenthal     4900       False  ...               13   \n",
       "3                Fislisbach     5442         NaN  ...               13   \n",
       "4                     Bulle     1630       False  ...                3   \n",
       "...                     ...      ...         ...  ...              ...   \n",
       "19995            St. Gallen     9000       False  ...                6   \n",
       "19996                 Vevey     1800         NaN  ...                8   \n",
       "19997           Grand-Lancy     1212         NaN  ...                5   \n",
       "19998                  Nyon     1260         NaN  ...                6   \n",
       "19999            Frauenfeld     8500       False  ...                5   \n",
       "\n",
       "      Price Extra Normalized Price Gross Normalized Price M2 Normalized  \\\n",
       "0                      550.0                 4460.0                19.0   \n",
       "1                      120.0                 1345.0                30.0   \n",
       "2                      250.0                 1570.0                15.0   \n",
       "3                      270.0                 1480.0                17.0   \n",
       "4                      300.0                 1490.0                19.0   \n",
       "...                      ...                    ...                 ...   \n",
       "19995                  170.0                 1350.0                15.0   \n",
       "19996                  190.0                 1940.0                23.0   \n",
       "19997                  275.0                 2175.0                32.0   \n",
       "19998                  240.0                 3540.0                37.0   \n",
       "19999                  130.0                  845.0                16.0   \n",
       "\n",
       "      Price Net Normalized Property Reference Id  Size M2 Normalized  \\\n",
       "0                   3910.0          0002.03.7648               232.0   \n",
       "1                   1225.0          9680.61.2071                45.0   \n",
       "2                   1320.0          7204.61.8658               103.0   \n",
       "3                   1210.0          7410.50.5987                86.0   \n",
       "4                   1190.0          9270.61.7822                79.0   \n",
       "...                    ...                   ...                 ...   \n",
       "19995               1180.0          4458.50.0065                90.0   \n",
       "19996               1750.0          4481.61.5904                84.0   \n",
       "19997               1900.0          0221.61.7685                68.0   \n",
       "19998               3300.0          8508.50.4399                95.0   \n",
       "19999                715.0          4893.61.5829                52.0   \n",
       "\n",
       "       Subcategory En Idx Year Built Year Lastrenovated  \n",
       "0               Apartment     2016.0             2016.0  \n",
       "1               Apartment        NaN                NaN  \n",
       "2               Apartment        NaN                NaN  \n",
       "3               Apartment     1985.0             1985.0  \n",
       "4               Apartment        NaN                NaN  \n",
       "...                   ...        ...                ...  \n",
       "19995           Apartment        NaN                NaN  \n",
       "19996           Apartment     1968.0             1968.0  \n",
       "19997           Apartment        NaN                NaN  \n",
       "19998           Apartment        NaN                NaN  \n",
       "19999           Apartment        NaN                NaN  \n",
       "\n",
       "[20000 rows x 35 columns]"
      ]
     },
     "execution_count": 120,
     "metadata": {},
     "output_type": "execute_result"
    }
   ],
   "source": [
    "data"
   ]
  },
  {
   "cell_type": "code",
   "execution_count": 121,
   "id": "ae42bacd",
   "metadata": {},
   "outputs": [
    {
     "data": {
      "text/plain": [
       "['Are Pets Allowed',\n",
       " 'Category Idx',\n",
       " 'Day of Advertisement Created',\n",
       " 'Day of Date Available From',\n",
       " 'Demand',\n",
       " 'Floor',\n",
       " 'Geo Canton',\n",
       " 'Geo City',\n",
       " 'Geo Zip',\n",
       " 'Has Balcony',\n",
       " 'Has Cabletv',\n",
       " 'Has Elevator',\n",
       " 'Has Fireplace',\n",
       " 'Has Garage',\n",
       " 'Has Parking',\n",
       " 'Is New Construction',\n",
       " 'Is New Construction Potential',\n",
       " 'Is Tenant2Tenant',\n",
       " 'Is Wheelchairaccessible',\n",
       " 'Listing Description',\n",
       " 'Listing Title',\n",
       " 'Livingspace',\n",
       " 'Number Of Rooms',\n",
       " 'Number Of Rooms Cleaned',\n",
       " 'Number of Documents',\n",
       " 'Number of Images',\n",
       " 'Price Extra Normalized',\n",
       " 'Price Gross Normalized',\n",
       " 'Price M2 Normalized',\n",
       " 'Price Net Normalized',\n",
       " 'Property Reference Id',\n",
       " 'Size M2 Normalized',\n",
       " 'Subcategory En Idx',\n",
       " 'Year Built',\n",
       " 'Year Lastrenovated']"
      ]
     },
     "execution_count": 121,
     "metadata": {},
     "output_type": "execute_result"
    }
   ],
   "source": [
    "list(data)"
   ]
  },
  {
   "cell_type": "code",
   "execution_count": 122,
   "id": "83ac2e52",
   "metadata": {},
   "outputs": [
    {
     "data": {
      "text/plain": [
       "<AxesSubplot:>"
      ]
     },
     "execution_count": 122,
     "metadata": {},
     "output_type": "execute_result"
    },
    {
     "data": {
      "image/png": "[encoded data removed]",
      "text/plain": [
       "<Figure size 1400x800 with 2 Axes>"
      ]
     },
     "metadata": {},
     "output_type": "display_data"
    }
   ],
   "source": [
    "# Plot the correlation heatmap\n",
    "plt.figure(figsize=(14, 8))\n",
    "corr_matrix = data.corr().round(2)\n",
    "sns.heatmap(data=corr_matrix,cmap='coolwarm',annot=True)"
   ]
  },
  {
   "cell_type": "markdown",
   "id": "c58d242c",
   "metadata": {},
   "source": [
    "**Conclusion** We should remove one of the corrolated variables ex: remove Number of Rooms Cleaned, Livingscapce Price net normalized"
   ]
  },
  {
   "cell_type": "code",
   "execution_count": 123,
   "id": "12801a49",
   "metadata": {},
   "outputs": [
    {
     "data": {
      "text/plain": [
       "0.0     4476\n",
       "1.0     2644\n",
       "2.0     2057\n",
       "3.0     1539\n",
       "4.0     1190\n",
       "5.0      922\n",
       "6.0      726\n",
       "7.0      647\n",
       "8.0      547\n",
       "9.0      479\n",
       "10.0     400\n",
       "11.0     349\n",
       "12.0     296\n",
       "13.0     275\n",
       "14.0     250\n",
       "15.0     218\n",
       "16.0     182\n",
       "17.0     177\n",
       "18.0     158\n",
       "19.0     155\n",
       "21.0     137\n",
       "20.0     130\n",
       "22.0     117\n",
       "25.0      93\n",
       "24.0      90\n",
       "23.0      87\n",
       "27.0      82\n",
       "28.0      70\n",
       "26.0      67\n",
       "30.0      66\n",
       "29.0      64\n",
       "31.0      63\n",
       "34.0      58\n",
       "33.0      54\n",
       "32.0      47\n",
       "35.0      46\n",
       "36.0      44\n",
       "38.0      41\n",
       "37.0      39\n",
       "41.0      39\n",
       "44.0      36\n",
       "43.0      30\n",
       "42.0      29\n",
       "40.0      29\n",
       "39.0      29\n",
       "55.0      29\n",
       "45.0      28\n",
       "48.0      27\n",
       "49.0      25\n",
       "51.0      25\n",
       "56.0      24\n",
       "50.0      23\n",
       "47.0      23\n",
       "46.0      23\n",
       "52.0      22\n",
       "54.0      21\n",
       "Name: Demand, dtype: int64"
      ]
     },
     "execution_count": 123,
     "metadata": {},
     "output_type": "execute_result"
    }
   ],
   "source": [
    "data['Demand'].value_counts()[data['Demand'].value_counts()>20]"
   ]
  },
  {
   "cell_type": "markdown",
   "id": "15378cef",
   "metadata": {},
   "source": [
    "# Data Cleaning"
   ]
  },
  {
   "cell_type": "markdown",
   "id": "a895bce7",
   "metadata": {},
   "source": [
    "There are some things to consider before starting using the random forest:  \n",
    "1-**How to deal with NaN**  \n",
    "  Answer: check if there are NaN in test set, if yes can make a category for NaN?  \n",
    "          What does NaN mean? Customer doesn't have access to the information? Or we don't know if he had access to it?  \n",
    "2-**How to deal with categorical variables**  \n",
    "  One hot encoding, but beware of having too many categories.  \n",
    "  Testing without categorical variables?  "
   ]
  },
  {
   "cell_type": "markdown",
   "id": "fc2e9686",
   "metadata": {},
   "source": [
    "## Identifying categorical and categorical variables"
   ]
  },
  {
   "cell_type": "code",
   "execution_count": 124,
   "id": "a060e294",
   "metadata": {},
   "outputs": [
    {
     "name": "stdout",
     "output_type": "stream",
     "text": [
      "['Are Pets Allowed', 'Has Balcony', 'Has Cabletv', 'Has Elevator', 'Has Fireplace', 'Has Garage', 'Has Parking', 'Is New Construction', 'Is New Construction Potential', 'Is Tenant2Tenant', 'Is Wheelchairaccessible']\n"
     ]
    }
   ],
   "source": [
    "#identifying the boolean variables\n",
    "bool_features=['Are Pets Allowed', 'Has Balcony', 'Has Cabletv',\n",
    "               'Has Elevator', 'Has Fireplace', 'Has Garage',\n",
    "               'Has Parking', 'Is New Construction', 'Is New Construction Potential', \n",
    "               'Is Tenant2Tenant', 'Is Wheelchairaccessible']\n",
    "print(bool_features)\n",
    "data_bool=data[bool_features]"
   ]
  },
  {
   "cell_type": "markdown",
   "id": "f373bf59",
   "metadata": {},
   "source": [
    "Identifying other categorical (and non ordinal ex: Number of Rooms, Price Extra Normalized or even Year Built...) variables with not so many categories"
   ]
  },
  {
   "cell_type": "code",
   "execution_count": 125,
   "id": "1e4a9645",
   "metadata": {},
   "outputs": [
    {
     "data": {
      "text/plain": [
       "Day of Advertisement Created     1483\n",
       "Day of Date Available From        255\n",
       "Demand                            172\n",
       "Floor                              22\n",
       "Geo Canton                         24\n",
       "Geo City                          392\n",
       "Geo Zip                           450\n",
       "Listing Description             17822\n",
       "Listing Title                   11224\n",
       "Livingspace                       206\n",
       "Number Of Rooms                    19\n",
       "Number Of Rooms Cleaned            19\n",
       "Number of Documents                 3\n",
       "Number of Images                   14\n",
       "Price Extra Normalized            413\n",
       "Price Gross Normalized           1873\n",
       "Price M2 Normalized               157\n",
       "Price Net Normalized             1410\n",
       "Property Reference Id           14699\n",
       "Size M2 Normalized                205\n",
       "Subcategory En Idx                 12\n",
       "Year Built                        143\n",
       "Year Lastrenovated                136\n",
       "dtype: int64"
      ]
     },
     "execution_count": 125,
     "metadata": {},
     "output_type": "execute_result"
    }
   ],
   "source": [
    "data.nunique()[data.nunique()>2]"
   ]
  },
  {
   "cell_type": "code",
   "execution_count": 126,
   "id": "4c2bc7ee",
   "metadata": {},
   "outputs": [
    {
     "data": {
      "text/plain": [
       "0        0002.03.7648\n",
       "1        9680.61.2071\n",
       "2        7204.61.8658\n",
       "3        7410.50.5987\n",
       "4        9270.61.7822\n",
       "             ...     \n",
       "19995    4458.50.0065\n",
       "19996    4481.61.5904\n",
       "19997    0221.61.7685\n",
       "19998    8508.50.4399\n",
       "19999    4893.61.5829\n",
       "Name: Property Reference Id, Length: 20000, dtype: object"
      ]
     },
     "execution_count": 126,
     "metadata": {},
     "output_type": "execute_result"
    }
   ],
   "source": [
    "#This feature is not supposed to be useful for regression purpose\n",
    "data['Property Reference Id']"
   ]
  },
  {
   "cell_type": "markdown",
   "id": "3eb2d6d5",
   "metadata": {},
   "source": [
    "### Investigating the NaN"
   ]
  },
  {
   "cell_type": "code",
   "execution_count": 127,
   "id": "567eb7c7",
   "metadata": {},
   "outputs": [],
   "source": [
    "#Will see later how to handle those\n",
    "other_categorical_features=['Category Idx','Geo City','Geo Zip']\n",
    "data=data.drop(other_categorical_features,axis=1)\n",
    "data_test=data_test.drop(other_categorical_features,axis=1)\n",
    "\n",
    "\n",
    "#The ordinal features are:\n",
    "ordinal_features=['Floor','Livingspace', 'Number Of Rooms',\n",
    "       'Number Of Rooms Cleaned', 'Number of Documents', 'Number of Images',\n",
    "       'Price Extra Normalized', 'Price Gross Normalized',\n",
    "       'Price M2 Normalized', 'Price Net Normalized', \n",
    "       'Size M2 Normalized', 'Year Built',\n",
    "       'Year Lastrenovated']\n",
    "\n",
    "categorical_features={'Geo Canton':DICT_GEO_CANTON,'Subcategory En Idx':DICT_SUBCATEGORY}\n",
    "\n",
    "#Which leaves us with 'Property Reference Id ',Listing Description' and 'Listing Title' which we will not use for regression purpose\n",
    "data=data.drop(['Property Reference Id','Listing Description','Listing Title'],axis=1)\n",
    "data_test=data_test.drop(['Property Reference Id','Listing Description','Listing Title'],axis=1)\n"
   ]
  },
  {
   "cell_type": "code",
   "execution_count": 128,
   "id": "ff6d5383",
   "metadata": {},
   "outputs": [
    {
     "data": {
      "text/html": [
       "<div>\n",
       "<style scoped>\n",
       "    .dataframe tbody tr th:only-of-type {\n",
       "        vertical-align: middle;\n",
       "    }\n",
       "\n",
       "    .dataframe tbody tr th {\n",
       "        vertical-align: top;\n",
       "    }\n",
       "\n",
       "    .dataframe thead th {\n",
       "        text-align: right;\n",
       "    }\n",
       "</style>\n",
       "<table border=\"1\" class=\"dataframe\">\n",
       "  <thead>\n",
       "    <tr style=\"text-align: right;\">\n",
       "      <th></th>\n",
       "      <th>NaN train set</th>\n",
       "      <th>NaN test set</th>\n",
       "    </tr>\n",
       "  </thead>\n",
       "  <tbody>\n",
       "    <tr>\n",
       "      <th>Are Pets Allowed</th>\n",
       "      <td>9267.0</td>\n",
       "      <td>4554.0</td>\n",
       "    </tr>\n",
       "    <tr>\n",
       "      <th>Day of Advertisement Created</th>\n",
       "      <td>0.0</td>\n",
       "      <td>0.0</td>\n",
       "    </tr>\n",
       "    <tr>\n",
       "      <th>Day of Date Available From</th>\n",
       "      <td>3555.0</td>\n",
       "      <td>1783.0</td>\n",
       "    </tr>\n",
       "    <tr>\n",
       "      <th>Demand</th>\n",
       "      <td>0.0</td>\n",
       "      <td>NaN</td>\n",
       "    </tr>\n",
       "    <tr>\n",
       "      <th>Floor</th>\n",
       "      <td>7.0</td>\n",
       "      <td>4.0</td>\n",
       "    </tr>\n",
       "    <tr>\n",
       "      <th>Geo Canton</th>\n",
       "      <td>0.0</td>\n",
       "      <td>0.0</td>\n",
       "    </tr>\n",
       "    <tr>\n",
       "      <th>Has Balcony</th>\n",
       "      <td>12110.0</td>\n",
       "      <td>5962.0</td>\n",
       "    </tr>\n",
       "    <tr>\n",
       "      <th>Has Cabletv</th>\n",
       "      <td>7151.0</td>\n",
       "      <td>3561.0</td>\n",
       "    </tr>\n",
       "    <tr>\n",
       "      <th>Has Elevator</th>\n",
       "      <td>7585.0</td>\n",
       "      <td>3728.0</td>\n",
       "    </tr>\n",
       "    <tr>\n",
       "      <th>Has Fireplace</th>\n",
       "      <td>12179.0</td>\n",
       "      <td>6022.0</td>\n",
       "    </tr>\n",
       "    <tr>\n",
       "      <th>Has Garage</th>\n",
       "      <td>8281.0</td>\n",
       "      <td>4096.0</td>\n",
       "    </tr>\n",
       "    <tr>\n",
       "      <th>Has Parking</th>\n",
       "      <td>9209.0</td>\n",
       "      <td>4607.0</td>\n",
       "    </tr>\n",
       "    <tr>\n",
       "      <th>Is New Construction</th>\n",
       "      <td>11058.0</td>\n",
       "      <td>5561.0</td>\n",
       "    </tr>\n",
       "    <tr>\n",
       "      <th>Is New Construction Potential</th>\n",
       "      <td>0.0</td>\n",
       "      <td>0.0</td>\n",
       "    </tr>\n",
       "    <tr>\n",
       "      <th>Is Tenant2Tenant</th>\n",
       "      <td>0.0</td>\n",
       "      <td>0.0</td>\n",
       "    </tr>\n",
       "    <tr>\n",
       "      <th>Is Wheelchairaccessible</th>\n",
       "      <td>12292.0</td>\n",
       "      <td>6073.0</td>\n",
       "    </tr>\n",
       "    <tr>\n",
       "      <th>Livingspace</th>\n",
       "      <td>19.0</td>\n",
       "      <td>7.0</td>\n",
       "    </tr>\n",
       "    <tr>\n",
       "      <th>Number Of Rooms</th>\n",
       "      <td>0.0</td>\n",
       "      <td>0.0</td>\n",
       "    </tr>\n",
       "    <tr>\n",
       "      <th>Number Of Rooms Cleaned</th>\n",
       "      <td>0.0</td>\n",
       "      <td>0.0</td>\n",
       "    </tr>\n",
       "    <tr>\n",
       "      <th>Number of Documents</th>\n",
       "      <td>0.0</td>\n",
       "      <td>0.0</td>\n",
       "    </tr>\n",
       "    <tr>\n",
       "      <th>Number of Images</th>\n",
       "      <td>0.0</td>\n",
       "      <td>0.0</td>\n",
       "    </tr>\n",
       "    <tr>\n",
       "      <th>Price Extra Normalized</th>\n",
       "      <td>204.0</td>\n",
       "      <td>100.0</td>\n",
       "    </tr>\n",
       "    <tr>\n",
       "      <th>Price Gross Normalized</th>\n",
       "      <td>158.0</td>\n",
       "      <td>78.0</td>\n",
       "    </tr>\n",
       "    <tr>\n",
       "      <th>Price M2 Normalized</th>\n",
       "      <td>160.0</td>\n",
       "      <td>80.0</td>\n",
       "    </tr>\n",
       "    <tr>\n",
       "      <th>Price Net Normalized</th>\n",
       "      <td>158.0</td>\n",
       "      <td>78.0</td>\n",
       "    </tr>\n",
       "    <tr>\n",
       "      <th>Size M2 Normalized</th>\n",
       "      <td>20.0</td>\n",
       "      <td>8.0</td>\n",
       "    </tr>\n",
       "    <tr>\n",
       "      <th>Subcategory En Idx</th>\n",
       "      <td>0.0</td>\n",
       "      <td>0.0</td>\n",
       "    </tr>\n",
       "    <tr>\n",
       "      <th>Year Built</th>\n",
       "      <td>11058.0</td>\n",
       "      <td>5561.0</td>\n",
       "    </tr>\n",
       "    <tr>\n",
       "      <th>Year Lastrenovated</th>\n",
       "      <td>11015.0</td>\n",
       "      <td>5549.0</td>\n",
       "    </tr>\n",
       "    <tr>\n",
       "      <th>Prediction</th>\n",
       "      <td>NaN</td>\n",
       "      <td>10000.0</td>\n",
       "    </tr>\n",
       "  </tbody>\n",
       "</table>\n",
       "</div>"
      ],
      "text/plain": [
       "                               NaN train set  NaN test set\n",
       "Are Pets Allowed                      9267.0        4554.0\n",
       "Day of Advertisement Created             0.0           0.0\n",
       "Day of Date Available From            3555.0        1783.0\n",
       "Demand                                   0.0           NaN\n",
       "Floor                                    7.0           4.0\n",
       "Geo Canton                               0.0           0.0\n",
       "Has Balcony                          12110.0        5962.0\n",
       "Has Cabletv                           7151.0        3561.0\n",
       "Has Elevator                          7585.0        3728.0\n",
       "Has Fireplace                        12179.0        6022.0\n",
       "Has Garage                            8281.0        4096.0\n",
       "Has Parking                           9209.0        4607.0\n",
       "Is New Construction                  11058.0        5561.0\n",
       "Is New Construction Potential            0.0           0.0\n",
       "Is Tenant2Tenant                         0.0           0.0\n",
       "Is Wheelchairaccessible              12292.0        6073.0\n",
       "Livingspace                             19.0           7.0\n",
       "Number Of Rooms                          0.0           0.0\n",
       "Number Of Rooms Cleaned                  0.0           0.0\n",
       "Number of Documents                      0.0           0.0\n",
       "Number of Images                         0.0           0.0\n",
       "Price Extra Normalized                 204.0         100.0\n",
       "Price Gross Normalized                 158.0          78.0\n",
       "Price M2 Normalized                    160.0          80.0\n",
       "Price Net Normalized                   158.0          78.0\n",
       "Size M2 Normalized                      20.0           8.0\n",
       "Subcategory En Idx                       0.0           0.0\n",
       "Year Built                           11058.0        5561.0\n",
       "Year Lastrenovated                   11015.0        5549.0\n",
       "Prediction                               NaN       10000.0"
      ]
     },
     "execution_count": 128,
     "metadata": {},
     "output_type": "execute_result"
    }
   ],
   "source": [
    "null_count=pd.concat([data.isnull().sum().rename('NaN train set'),data_test.isnull().sum().rename('NaN test set')],axis=1)\n",
    "null_count"
   ]
  },
  {
   "cell_type": "code",
   "execution_count": 129,
   "id": "30601a31",
   "metadata": {},
   "outputs": [],
   "source": [
    "iter_imputer = IterativeImputer(estimator=ExtraTreesRegressor(n_estimators=10, random_state=0),random_state=42,max_iter=20)"
   ]
  },
  {
   "cell_type": "code",
   "execution_count": 130,
   "id": "318987fd",
   "metadata": {},
   "outputs": [],
   "source": [
    "temp=data.copy()"
   ]
  },
  {
   "cell_type": "code",
   "execution_count": 131,
   "id": "89812527",
   "metadata": {},
   "outputs": [
    {
     "name": "stderr",
     "output_type": "stream",
     "text": [
      "C:\\Users\\Corentin\\anaconda3\\lib\\site-packages\\sklearn\\impute\\_iterative.py:699: ConvergenceWarning: [IterativeImputer] Early stopping criterion not reached.\n",
      "  warnings.warn(\n"
     ]
    },
    {
     "data": {
      "text/plain": [
       "array([[0.0000e+00, 2.3200e+02, 9.5000e+00, ..., 2.3200e+02, 2.0160e+03,\n",
       "        2.0160e+03],\n",
       "       [1.0000e+00, 4.5000e+01, 2.5000e+00, ..., 4.5000e+01, 1.9689e+03,\n",
       "        1.9934e+03],\n",
       "       [1.0000e+00, 1.0300e+02, 3.5000e+00, ..., 1.0300e+02, 1.9794e+03,\n",
       "        1.9873e+03],\n",
       "       ...,\n",
       "       [5.0000e+00, 6.8000e+01, 4.0000e+00, ..., 6.8000e+01, 1.9721e+03,\n",
       "        1.9705e+03],\n",
       "       [7.0000e+00, 9.5000e+01, 4.5000e+00, ..., 9.5000e+01, 1.9555e+03,\n",
       "        1.9758e+03],\n",
       "       [0.0000e+00, 5.2000e+01, 2.0000e+00, ..., 5.2000e+01, 1.9863e+03,\n",
       "        1.9850e+03]])"
      ]
     },
     "execution_count": 131,
     "metadata": {},
     "output_type": "execute_result"
    }
   ],
   "source": [
    "iter_imputed = iter_imputer.fit_transform(data[ordinal_features])\n",
    "iter_imputed"
   ]
  },
  {
   "cell_type": "code",
   "execution_count": 132,
   "id": "b53d1b62",
   "metadata": {},
   "outputs": [],
   "source": [
    "temp.loc[:,ordinal_features]=iter_imputed"
   ]
  },
  {
   "cell_type": "code",
   "execution_count": 133,
   "id": "1b0b68c8",
   "metadata": {},
   "outputs": [
    {
     "data": {
      "text/html": [
       "<div>\n",
       "<style scoped>\n",
       "    .dataframe tbody tr th:only-of-type {\n",
       "        vertical-align: middle;\n",
       "    }\n",
       "\n",
       "    .dataframe tbody tr th {\n",
       "        vertical-align: top;\n",
       "    }\n",
       "\n",
       "    .dataframe thead th {\n",
       "        text-align: right;\n",
       "    }\n",
       "</style>\n",
       "<table border=\"1\" class=\"dataframe\">\n",
       "  <thead>\n",
       "    <tr style=\"text-align: right;\">\n",
       "      <th></th>\n",
       "      <th>Are Pets Allowed</th>\n",
       "      <th>Day of Advertisement Created</th>\n",
       "      <th>Day of Date Available From</th>\n",
       "      <th>Demand</th>\n",
       "      <th>Floor</th>\n",
       "      <th>Geo Canton</th>\n",
       "      <th>Has Balcony</th>\n",
       "      <th>Has Cabletv</th>\n",
       "      <th>Has Elevator</th>\n",
       "      <th>Has Fireplace</th>\n",
       "      <th>...</th>\n",
       "      <th>Number of Documents</th>\n",
       "      <th>Number of Images</th>\n",
       "      <th>Price Extra Normalized</th>\n",
       "      <th>Price Gross Normalized</th>\n",
       "      <th>Price M2 Normalized</th>\n",
       "      <th>Price Net Normalized</th>\n",
       "      <th>Size M2 Normalized</th>\n",
       "      <th>Subcategory En Idx</th>\n",
       "      <th>Year Built</th>\n",
       "      <th>Year Lastrenovated</th>\n",
       "    </tr>\n",
       "  </thead>\n",
       "  <tbody>\n",
       "    <tr>\n",
       "      <th>0</th>\n",
       "      <td>NaN</td>\n",
       "      <td>January 7, 2021</td>\n",
       "      <td>March 1, 2021</td>\n",
       "      <td>25.0</td>\n",
       "      <td>0.0</td>\n",
       "      <td>ZH</td>\n",
       "      <td>NaN</td>\n",
       "      <td>NaN</td>\n",
       "      <td>NaN</td>\n",
       "      <td>NaN</td>\n",
       "      <td>...</td>\n",
       "      <td>1.0</td>\n",
       "      <td>6.0</td>\n",
       "      <td>550.0</td>\n",
       "      <td>4460.0</td>\n",
       "      <td>19.0</td>\n",
       "      <td>3910.0</td>\n",
       "      <td>232.0</td>\n",
       "      <td>Apartment</td>\n",
       "      <td>2016.0</td>\n",
       "      <td>2016.0</td>\n",
       "    </tr>\n",
       "    <tr>\n",
       "      <th>1</th>\n",
       "      <td>NaN</td>\n",
       "      <td>November 18, 2019</td>\n",
       "      <td>March 1, 2020</td>\n",
       "      <td>2.0</td>\n",
       "      <td>1.0</td>\n",
       "      <td>VD</td>\n",
       "      <td>NaN</td>\n",
       "      <td>NaN</td>\n",
       "      <td>NaN</td>\n",
       "      <td>NaN</td>\n",
       "      <td>...</td>\n",
       "      <td>0.0</td>\n",
       "      <td>7.0</td>\n",
       "      <td>120.0</td>\n",
       "      <td>1345.0</td>\n",
       "      <td>30.0</td>\n",
       "      <td>1225.0</td>\n",
       "      <td>45.0</td>\n",
       "      <td>Apartment</td>\n",
       "      <td>1968.9</td>\n",
       "      <td>1993.4</td>\n",
       "    </tr>\n",
       "    <tr>\n",
       "      <th>2</th>\n",
       "      <td>False</td>\n",
       "      <td>March 15, 2017</td>\n",
       "      <td>NaN</td>\n",
       "      <td>0.0</td>\n",
       "      <td>1.0</td>\n",
       "      <td>BE</td>\n",
       "      <td>False</td>\n",
       "      <td>False</td>\n",
       "      <td>False</td>\n",
       "      <td>False</td>\n",
       "      <td>...</td>\n",
       "      <td>1.0</td>\n",
       "      <td>13.0</td>\n",
       "      <td>250.0</td>\n",
       "      <td>1570.0</td>\n",
       "      <td>15.0</td>\n",
       "      <td>1320.0</td>\n",
       "      <td>103.0</td>\n",
       "      <td>Apartment</td>\n",
       "      <td>1979.4</td>\n",
       "      <td>1987.3</td>\n",
       "    </tr>\n",
       "    <tr>\n",
       "      <th>3</th>\n",
       "      <td>True</td>\n",
       "      <td>July 7, 2021</td>\n",
       "      <td>May 1, 2021</td>\n",
       "      <td>4.0</td>\n",
       "      <td>1.0</td>\n",
       "      <td>AG</td>\n",
       "      <td>NaN</td>\n",
       "      <td>True</td>\n",
       "      <td>NaN</td>\n",
       "      <td>NaN</td>\n",
       "      <td>...</td>\n",
       "      <td>1.0</td>\n",
       "      <td>13.0</td>\n",
       "      <td>270.0</td>\n",
       "      <td>1480.0</td>\n",
       "      <td>17.0</td>\n",
       "      <td>1210.0</td>\n",
       "      <td>86.0</td>\n",
       "      <td>Apartment</td>\n",
       "      <td>1985.0</td>\n",
       "      <td>1985.0</td>\n",
       "    </tr>\n",
       "    <tr>\n",
       "      <th>4</th>\n",
       "      <td>False</td>\n",
       "      <td>November 3, 2017</td>\n",
       "      <td>August 1, 2017</td>\n",
       "      <td>3.0</td>\n",
       "      <td>0.0</td>\n",
       "      <td>FR</td>\n",
       "      <td>False</td>\n",
       "      <td>False</td>\n",
       "      <td>False</td>\n",
       "      <td>False</td>\n",
       "      <td>...</td>\n",
       "      <td>0.0</td>\n",
       "      <td>3.0</td>\n",
       "      <td>300.0</td>\n",
       "      <td>1490.0</td>\n",
       "      <td>19.0</td>\n",
       "      <td>1190.0</td>\n",
       "      <td>79.0</td>\n",
       "      <td>Apartment</td>\n",
       "      <td>1986.5</td>\n",
       "      <td>1994.0</td>\n",
       "    </tr>\n",
       "    <tr>\n",
       "      <th>...</th>\n",
       "      <td>...</td>\n",
       "      <td>...</td>\n",
       "      <td>...</td>\n",
       "      <td>...</td>\n",
       "      <td>...</td>\n",
       "      <td>...</td>\n",
       "      <td>...</td>\n",
       "      <td>...</td>\n",
       "      <td>...</td>\n",
       "      <td>...</td>\n",
       "      <td>...</td>\n",
       "      <td>...</td>\n",
       "      <td>...</td>\n",
       "      <td>...</td>\n",
       "      <td>...</td>\n",
       "      <td>...</td>\n",
       "      <td>...</td>\n",
       "      <td>...</td>\n",
       "      <td>...</td>\n",
       "      <td>...</td>\n",
       "      <td>...</td>\n",
       "    </tr>\n",
       "    <tr>\n",
       "      <th>19995</th>\n",
       "      <td>False</td>\n",
       "      <td>January 4, 2018</td>\n",
       "      <td>April 1, 2018</td>\n",
       "      <td>2.0</td>\n",
       "      <td>2.0</td>\n",
       "      <td>SG</td>\n",
       "      <td>False</td>\n",
       "      <td>False</td>\n",
       "      <td>False</td>\n",
       "      <td>False</td>\n",
       "      <td>...</td>\n",
       "      <td>1.0</td>\n",
       "      <td>6.0</td>\n",
       "      <td>170.0</td>\n",
       "      <td>1350.0</td>\n",
       "      <td>15.0</td>\n",
       "      <td>1180.0</td>\n",
       "      <td>90.0</td>\n",
       "      <td>Apartment</td>\n",
       "      <td>1971.4</td>\n",
       "      <td>1984.2</td>\n",
       "    </tr>\n",
       "    <tr>\n",
       "      <th>19996</th>\n",
       "      <td>True</td>\n",
       "      <td>November 3, 2021</td>\n",
       "      <td>February 1, 2022</td>\n",
       "      <td>1.0</td>\n",
       "      <td>2.0</td>\n",
       "      <td>VD</td>\n",
       "      <td>NaN</td>\n",
       "      <td>True</td>\n",
       "      <td>True</td>\n",
       "      <td>NaN</td>\n",
       "      <td>...</td>\n",
       "      <td>0.0</td>\n",
       "      <td>8.0</td>\n",
       "      <td>190.0</td>\n",
       "      <td>1940.0</td>\n",
       "      <td>23.0</td>\n",
       "      <td>1750.0</td>\n",
       "      <td>84.0</td>\n",
       "      <td>Apartment</td>\n",
       "      <td>1968.0</td>\n",
       "      <td>1968.0</td>\n",
       "    </tr>\n",
       "    <tr>\n",
       "      <th>19997</th>\n",
       "      <td>NaN</td>\n",
       "      <td>October 15, 2021</td>\n",
       "      <td>June 16, 2021</td>\n",
       "      <td>2.0</td>\n",
       "      <td>5.0</td>\n",
       "      <td>GE</td>\n",
       "      <td>NaN</td>\n",
       "      <td>NaN</td>\n",
       "      <td>NaN</td>\n",
       "      <td>NaN</td>\n",
       "      <td>...</td>\n",
       "      <td>0.0</td>\n",
       "      <td>5.0</td>\n",
       "      <td>275.0</td>\n",
       "      <td>2175.0</td>\n",
       "      <td>32.0</td>\n",
       "      <td>1900.0</td>\n",
       "      <td>68.0</td>\n",
       "      <td>Apartment</td>\n",
       "      <td>1972.1</td>\n",
       "      <td>1970.5</td>\n",
       "    </tr>\n",
       "    <tr>\n",
       "      <th>19998</th>\n",
       "      <td>NaN</td>\n",
       "      <td>October 1, 2020</td>\n",
       "      <td>May 1, 2021</td>\n",
       "      <td>2.0</td>\n",
       "      <td>7.0</td>\n",
       "      <td>VD</td>\n",
       "      <td>NaN</td>\n",
       "      <td>NaN</td>\n",
       "      <td>NaN</td>\n",
       "      <td>NaN</td>\n",
       "      <td>...</td>\n",
       "      <td>1.0</td>\n",
       "      <td>6.0</td>\n",
       "      <td>240.0</td>\n",
       "      <td>3540.0</td>\n",
       "      <td>37.0</td>\n",
       "      <td>3300.0</td>\n",
       "      <td>95.0</td>\n",
       "      <td>Apartment</td>\n",
       "      <td>1955.5</td>\n",
       "      <td>1975.8</td>\n",
       "    </tr>\n",
       "    <tr>\n",
       "      <th>19999</th>\n",
       "      <td>False</td>\n",
       "      <td>May 11, 2017</td>\n",
       "      <td>September 1, 2017</td>\n",
       "      <td>3.0</td>\n",
       "      <td>0.0</td>\n",
       "      <td>TG</td>\n",
       "      <td>False</td>\n",
       "      <td>True</td>\n",
       "      <td>True</td>\n",
       "      <td>False</td>\n",
       "      <td>...</td>\n",
       "      <td>1.0</td>\n",
       "      <td>5.0</td>\n",
       "      <td>130.0</td>\n",
       "      <td>845.0</td>\n",
       "      <td>16.0</td>\n",
       "      <td>715.0</td>\n",
       "      <td>52.0</td>\n",
       "      <td>Apartment</td>\n",
       "      <td>1986.3</td>\n",
       "      <td>1985.0</td>\n",
       "    </tr>\n",
       "  </tbody>\n",
       "</table>\n",
       "<p>20000 rows × 29 columns</p>\n",
       "</div>"
      ],
      "text/plain": [
       "      Are Pets Allowed Day of Advertisement Created  \\\n",
       "0                  NaN              January 7, 2021   \n",
       "1                  NaN            November 18, 2019   \n",
       "2                False               March 15, 2017   \n",
       "3                 True                 July 7, 2021   \n",
       "4                False             November 3, 2017   \n",
       "...                ...                          ...   \n",
       "19995            False              January 4, 2018   \n",
       "19996             True             November 3, 2021   \n",
       "19997              NaN             October 15, 2021   \n",
       "19998              NaN              October 1, 2020   \n",
       "19999            False                 May 11, 2017   \n",
       "\n",
       "      Day of Date Available From  Demand  Floor Geo Canton Has Balcony  \\\n",
       "0                  March 1, 2021    25.0    0.0         ZH         NaN   \n",
       "1                  March 1, 2020     2.0    1.0         VD         NaN   \n",
       "2                            NaN     0.0    1.0         BE       False   \n",
       "3                    May 1, 2021     4.0    1.0         AG         NaN   \n",
       "4                 August 1, 2017     3.0    0.0         FR       False   \n",
       "...                          ...     ...    ...        ...         ...   \n",
       "19995              April 1, 2018     2.0    2.0         SG       False   \n",
       "19996           February 1, 2022     1.0    2.0         VD         NaN   \n",
       "19997              June 16, 2021     2.0    5.0         GE         NaN   \n",
       "19998                May 1, 2021     2.0    7.0         VD         NaN   \n",
       "19999          September 1, 2017     3.0    0.0         TG       False   \n",
       "\n",
       "      Has Cabletv Has Elevator Has Fireplace  ... Number of Documents  \\\n",
       "0             NaN          NaN           NaN  ...                 1.0   \n",
       "1             NaN          NaN           NaN  ...                 0.0   \n",
       "2           False        False         False  ...                 1.0   \n",
       "3            True          NaN           NaN  ...                 1.0   \n",
       "4           False        False         False  ...                 0.0   \n",
       "...           ...          ...           ...  ...                 ...   \n",
       "19995       False        False         False  ...                 1.0   \n",
       "19996        True         True           NaN  ...                 0.0   \n",
       "19997         NaN          NaN           NaN  ...                 0.0   \n",
       "19998         NaN          NaN           NaN  ...                 1.0   \n",
       "19999        True         True         False  ...                 1.0   \n",
       "\n",
       "      Number of Images Price Extra Normalized  Price Gross Normalized  \\\n",
       "0                  6.0                  550.0                  4460.0   \n",
       "1                  7.0                  120.0                  1345.0   \n",
       "2                 13.0                  250.0                  1570.0   \n",
       "3                 13.0                  270.0                  1480.0   \n",
       "4                  3.0                  300.0                  1490.0   \n",
       "...                ...                    ...                     ...   \n",
       "19995              6.0                  170.0                  1350.0   \n",
       "19996              8.0                  190.0                  1940.0   \n",
       "19997              5.0                  275.0                  2175.0   \n",
       "19998              6.0                  240.0                  3540.0   \n",
       "19999              5.0                  130.0                   845.0   \n",
       "\n",
       "       Price M2 Normalized Price Net Normalized  Size M2 Normalized  \\\n",
       "0                     19.0               3910.0               232.0   \n",
       "1                     30.0               1225.0                45.0   \n",
       "2                     15.0               1320.0               103.0   \n",
       "3                     17.0               1210.0                86.0   \n",
       "4                     19.0               1190.0                79.0   \n",
       "...                    ...                  ...                 ...   \n",
       "19995                 15.0               1180.0                90.0   \n",
       "19996                 23.0               1750.0                84.0   \n",
       "19997                 32.0               1900.0                68.0   \n",
       "19998                 37.0               3300.0                95.0   \n",
       "19999                 16.0                715.0                52.0   \n",
       "\n",
       "       Subcategory En Idx  Year Built  Year Lastrenovated  \n",
       "0               Apartment      2016.0              2016.0  \n",
       "1               Apartment      1968.9              1993.4  \n",
       "2               Apartment      1979.4              1987.3  \n",
       "3               Apartment      1985.0              1985.0  \n",
       "4               Apartment      1986.5              1994.0  \n",
       "...                   ...         ...                 ...  \n",
       "19995           Apartment      1971.4              1984.2  \n",
       "19996           Apartment      1968.0              1968.0  \n",
       "19997           Apartment      1972.1              1970.5  \n",
       "19998           Apartment      1955.5              1975.8  \n",
       "19999           Apartment      1986.3              1985.0  \n",
       "\n",
       "[20000 rows x 29 columns]"
      ]
     },
     "execution_count": 133,
     "metadata": {},
     "output_type": "execute_result"
    }
   ],
   "source": [
    "temp"
   ]
  },
  {
   "cell_type": "markdown",
   "id": "5833a11b",
   "metadata": {},
   "source": [
    "**Conclusion**: We see that test data have nan for the same attributes as for train data, so for categorical variables we can encode nan as a category"
   ]
  },
  {
   "cell_type": "markdown",
   "id": "c33796b2",
   "metadata": {},
   "source": [
    "We then see that there are NaN values for ordinal features, this is bad as we can't add a category for ordinal values. We will have to fill them by the mean of the other values in the column for example"
   ]
  },
  {
   "cell_type": "code",
   "execution_count": 134,
   "id": "56d8cead",
   "metadata": {},
   "outputs": [],
   "source": [
    "#null_count.loc[ordinal_features]"
   ]
  },
  {
   "cell_type": "code",
   "execution_count": 135,
   "id": "d25d71c2",
   "metadata": {},
   "outputs": [],
   "source": [
    "#null_count.loc[bool_features]"
   ]
  },
  {
   "cell_type": "markdown",
   "id": "a63f1285",
   "metadata": {},
   "source": [
    "# Preprocessing pipeline with one hot encoding"
   ]
  },
  {
   "cell_type": "code",
   "execution_count": 136,
   "id": "b360aeb2",
   "metadata": {},
   "outputs": [],
   "source": [
    "#https://towardsdatascience.com/predicting-housing-prices-using-a-scikit-learns-random-forest-model-e736b59d56c5\n",
    "#https://towardsdatascience.com/my-random-forest-classifier-cheat-sheet-in-python-fedb84f8cf4f\n",
    "\n",
    "from sklearn.ensemble import RandomForestRegressor\n",
    "from sklearn.ensemble import RandomForestClassifier\n",
    "from IPython.display import display\n",
    "from sklearn import metrics\n",
    "from sklearn.model_selection import RandomizedSearchCV\n",
    "from sklearn.preprocessing import OneHotEncoder\n",
    "from sklearn.compose import make_column_transformer\n",
    "from sklearn.model_selection import train_test_split\n",
    "from sklearn.preprocessing import FunctionTransformer\n",
    "from sklearn.model_selection import cross_val_score\n",
    "from sklearn.pipeline import make_pipeline\n",
    "import sklearn\n",
    "from sklearn.metrics import mean_squared_error\n",
    "from sklearn.metrics import fbeta_score, make_scorer\n"
   ]
  },
  {
   "cell_type": "code",
   "execution_count": 137,
   "id": "a034bfc1",
   "metadata": {},
   "outputs": [
    {
     "name": "stdout",
     "output_type": "stream",
     "text": [
      "Dealing with date\n"
     ]
    },
    {
     "data": {
      "text/html": [
       "<div>\n",
       "<style scoped>\n",
       "    .dataframe tbody tr th:only-of-type {\n",
       "        vertical-align: middle;\n",
       "    }\n",
       "\n",
       "    .dataframe tbody tr th {\n",
       "        vertical-align: top;\n",
       "    }\n",
       "\n",
       "    .dataframe thead th {\n",
       "        text-align: right;\n",
       "    }\n",
       "</style>\n",
       "<table border=\"1\" class=\"dataframe\">\n",
       "  <thead>\n",
       "    <tr style=\"text-align: right;\">\n",
       "      <th></th>\n",
       "      <th>Are Pets Allowed</th>\n",
       "      <th>Demand</th>\n",
       "      <th>Floor</th>\n",
       "      <th>Geo Canton</th>\n",
       "      <th>Has Balcony</th>\n",
       "      <th>Has Cabletv</th>\n",
       "      <th>Has Elevator</th>\n",
       "      <th>Has Fireplace</th>\n",
       "      <th>Has Garage</th>\n",
       "      <th>Has Parking</th>\n",
       "      <th>...</th>\n",
       "      <th>Price Extra Normalized</th>\n",
       "      <th>Price Gross Normalized</th>\n",
       "      <th>Price M2 Normalized</th>\n",
       "      <th>Price Net Normalized</th>\n",
       "      <th>Size M2 Normalized</th>\n",
       "      <th>Subcategory En Idx</th>\n",
       "      <th>Year Built</th>\n",
       "      <th>Year Lastrenovated</th>\n",
       "      <th>Days Between September and Created</th>\n",
       "      <th>Days Between September and Available</th>\n",
       "    </tr>\n",
       "  </thead>\n",
       "  <tbody>\n",
       "    <tr>\n",
       "      <th>0</th>\n",
       "      <td>NaN</td>\n",
       "      <td>25.0</td>\n",
       "      <td>0.0</td>\n",
       "      <td>ZH</td>\n",
       "      <td>NaN</td>\n",
       "      <td>NaN</td>\n",
       "      <td>NaN</td>\n",
       "      <td>NaN</td>\n",
       "      <td>NaN</td>\n",
       "      <td>NaN</td>\n",
       "      <td>...</td>\n",
       "      <td>550.0</td>\n",
       "      <td>4460.0</td>\n",
       "      <td>19.0</td>\n",
       "      <td>3910.0</td>\n",
       "      <td>232.0</td>\n",
       "      <td>Apartment</td>\n",
       "      <td>2016.0</td>\n",
       "      <td>2016.0</td>\n",
       "      <td>602</td>\n",
       "      <td>549.0</td>\n",
       "    </tr>\n",
       "    <tr>\n",
       "      <th>1</th>\n",
       "      <td>NaN</td>\n",
       "      <td>2.0</td>\n",
       "      <td>1.0</td>\n",
       "      <td>VD</td>\n",
       "      <td>NaN</td>\n",
       "      <td>NaN</td>\n",
       "      <td>NaN</td>\n",
       "      <td>NaN</td>\n",
       "      <td>NaN</td>\n",
       "      <td>NaN</td>\n",
       "      <td>...</td>\n",
       "      <td>120.0</td>\n",
       "      <td>1345.0</td>\n",
       "      <td>30.0</td>\n",
       "      <td>1225.0</td>\n",
       "      <td>45.0</td>\n",
       "      <td>Apartment</td>\n",
       "      <td>NaN</td>\n",
       "      <td>NaN</td>\n",
       "      <td>1018</td>\n",
       "      <td>914.0</td>\n",
       "    </tr>\n",
       "    <tr>\n",
       "      <th>2</th>\n",
       "      <td>False</td>\n",
       "      <td>0.0</td>\n",
       "      <td>1.0</td>\n",
       "      <td>BE</td>\n",
       "      <td>False</td>\n",
       "      <td>False</td>\n",
       "      <td>False</td>\n",
       "      <td>False</td>\n",
       "      <td>False</td>\n",
       "      <td>False</td>\n",
       "      <td>...</td>\n",
       "      <td>250.0</td>\n",
       "      <td>1570.0</td>\n",
       "      <td>15.0</td>\n",
       "      <td>1320.0</td>\n",
       "      <td>103.0</td>\n",
       "      <td>Apartment</td>\n",
       "      <td>NaN</td>\n",
       "      <td>NaN</td>\n",
       "      <td>1996</td>\n",
       "      <td>NaN</td>\n",
       "    </tr>\n",
       "    <tr>\n",
       "      <th>3</th>\n",
       "      <td>True</td>\n",
       "      <td>4.0</td>\n",
       "      <td>1.0</td>\n",
       "      <td>AG</td>\n",
       "      <td>NaN</td>\n",
       "      <td>True</td>\n",
       "      <td>NaN</td>\n",
       "      <td>NaN</td>\n",
       "      <td>True</td>\n",
       "      <td>True</td>\n",
       "      <td>...</td>\n",
       "      <td>270.0</td>\n",
       "      <td>1480.0</td>\n",
       "      <td>17.0</td>\n",
       "      <td>1210.0</td>\n",
       "      <td>86.0</td>\n",
       "      <td>Apartment</td>\n",
       "      <td>1985.0</td>\n",
       "      <td>1985.0</td>\n",
       "      <td>421</td>\n",
       "      <td>488.0</td>\n",
       "    </tr>\n",
       "    <tr>\n",
       "      <th>4</th>\n",
       "      <td>False</td>\n",
       "      <td>3.0</td>\n",
       "      <td>0.0</td>\n",
       "      <td>FR</td>\n",
       "      <td>False</td>\n",
       "      <td>False</td>\n",
       "      <td>False</td>\n",
       "      <td>False</td>\n",
       "      <td>False</td>\n",
       "      <td>False</td>\n",
       "      <td>...</td>\n",
       "      <td>300.0</td>\n",
       "      <td>1490.0</td>\n",
       "      <td>19.0</td>\n",
       "      <td>1190.0</td>\n",
       "      <td>79.0</td>\n",
       "      <td>Apartment</td>\n",
       "      <td>NaN</td>\n",
       "      <td>NaN</td>\n",
       "      <td>1763</td>\n",
       "      <td>1857.0</td>\n",
       "    </tr>\n",
       "    <tr>\n",
       "      <th>...</th>\n",
       "      <td>...</td>\n",
       "      <td>...</td>\n",
       "      <td>...</td>\n",
       "      <td>...</td>\n",
       "      <td>...</td>\n",
       "      <td>...</td>\n",
       "      <td>...</td>\n",
       "      <td>...</td>\n",
       "      <td>...</td>\n",
       "      <td>...</td>\n",
       "      <td>...</td>\n",
       "      <td>...</td>\n",
       "      <td>...</td>\n",
       "      <td>...</td>\n",
       "      <td>...</td>\n",
       "      <td>...</td>\n",
       "      <td>...</td>\n",
       "      <td>...</td>\n",
       "      <td>...</td>\n",
       "      <td>...</td>\n",
       "      <td>...</td>\n",
       "    </tr>\n",
       "    <tr>\n",
       "      <th>19995</th>\n",
       "      <td>False</td>\n",
       "      <td>2.0</td>\n",
       "      <td>2.0</td>\n",
       "      <td>SG</td>\n",
       "      <td>False</td>\n",
       "      <td>False</td>\n",
       "      <td>False</td>\n",
       "      <td>False</td>\n",
       "      <td>False</td>\n",
       "      <td>False</td>\n",
       "      <td>...</td>\n",
       "      <td>170.0</td>\n",
       "      <td>1350.0</td>\n",
       "      <td>15.0</td>\n",
       "      <td>1180.0</td>\n",
       "      <td>90.0</td>\n",
       "      <td>Apartment</td>\n",
       "      <td>NaN</td>\n",
       "      <td>NaN</td>\n",
       "      <td>1701</td>\n",
       "      <td>1614.0</td>\n",
       "    </tr>\n",
       "    <tr>\n",
       "      <th>19996</th>\n",
       "      <td>True</td>\n",
       "      <td>1.0</td>\n",
       "      <td>2.0</td>\n",
       "      <td>VD</td>\n",
       "      <td>NaN</td>\n",
       "      <td>True</td>\n",
       "      <td>True</td>\n",
       "      <td>NaN</td>\n",
       "      <td>True</td>\n",
       "      <td>True</td>\n",
       "      <td>...</td>\n",
       "      <td>190.0</td>\n",
       "      <td>1940.0</td>\n",
       "      <td>23.0</td>\n",
       "      <td>1750.0</td>\n",
       "      <td>84.0</td>\n",
       "      <td>Apartment</td>\n",
       "      <td>1968.0</td>\n",
       "      <td>1968.0</td>\n",
       "      <td>302</td>\n",
       "      <td>212.0</td>\n",
       "    </tr>\n",
       "    <tr>\n",
       "      <th>19997</th>\n",
       "      <td>NaN</td>\n",
       "      <td>2.0</td>\n",
       "      <td>5.0</td>\n",
       "      <td>GE</td>\n",
       "      <td>NaN</td>\n",
       "      <td>NaN</td>\n",
       "      <td>NaN</td>\n",
       "      <td>NaN</td>\n",
       "      <td>NaN</td>\n",
       "      <td>NaN</td>\n",
       "      <td>...</td>\n",
       "      <td>275.0</td>\n",
       "      <td>2175.0</td>\n",
       "      <td>32.0</td>\n",
       "      <td>1900.0</td>\n",
       "      <td>68.0</td>\n",
       "      <td>Apartment</td>\n",
       "      <td>NaN</td>\n",
       "      <td>NaN</td>\n",
       "      <td>321</td>\n",
       "      <td>442.0</td>\n",
       "    </tr>\n",
       "    <tr>\n",
       "      <th>19998</th>\n",
       "      <td>NaN</td>\n",
       "      <td>2.0</td>\n",
       "      <td>7.0</td>\n",
       "      <td>VD</td>\n",
       "      <td>NaN</td>\n",
       "      <td>NaN</td>\n",
       "      <td>NaN</td>\n",
       "      <td>NaN</td>\n",
       "      <td>NaN</td>\n",
       "      <td>NaN</td>\n",
       "      <td>...</td>\n",
       "      <td>240.0</td>\n",
       "      <td>3540.0</td>\n",
       "      <td>37.0</td>\n",
       "      <td>3300.0</td>\n",
       "      <td>95.0</td>\n",
       "      <td>Apartment</td>\n",
       "      <td>NaN</td>\n",
       "      <td>NaN</td>\n",
       "      <td>700</td>\n",
       "      <td>488.0</td>\n",
       "    </tr>\n",
       "    <tr>\n",
       "      <th>19999</th>\n",
       "      <td>False</td>\n",
       "      <td>3.0</td>\n",
       "      <td>0.0</td>\n",
       "      <td>TG</td>\n",
       "      <td>False</td>\n",
       "      <td>True</td>\n",
       "      <td>True</td>\n",
       "      <td>False</td>\n",
       "      <td>True</td>\n",
       "      <td>False</td>\n",
       "      <td>...</td>\n",
       "      <td>130.0</td>\n",
       "      <td>845.0</td>\n",
       "      <td>16.0</td>\n",
       "      <td>715.0</td>\n",
       "      <td>52.0</td>\n",
       "      <td>Apartment</td>\n",
       "      <td>NaN</td>\n",
       "      <td>NaN</td>\n",
       "      <td>1939</td>\n",
       "      <td>1826.0</td>\n",
       "    </tr>\n",
       "  </tbody>\n",
       "</table>\n",
       "<p>20000 rows × 29 columns</p>\n",
       "</div>"
      ],
      "text/plain": [
       "      Are Pets Allowed  Demand  Floor Geo Canton Has Balcony Has Cabletv  \\\n",
       "0                  NaN    25.0    0.0         ZH         NaN         NaN   \n",
       "1                  NaN     2.0    1.0         VD         NaN         NaN   \n",
       "2                False     0.0    1.0         BE       False       False   \n",
       "3                 True     4.0    1.0         AG         NaN        True   \n",
       "4                False     3.0    0.0         FR       False       False   \n",
       "...                ...     ...    ...        ...         ...         ...   \n",
       "19995            False     2.0    2.0         SG       False       False   \n",
       "19996             True     1.0    2.0         VD         NaN        True   \n",
       "19997              NaN     2.0    5.0         GE         NaN         NaN   \n",
       "19998              NaN     2.0    7.0         VD         NaN         NaN   \n",
       "19999            False     3.0    0.0         TG       False        True   \n",
       "\n",
       "      Has Elevator Has Fireplace Has Garage Has Parking  ...  \\\n",
       "0              NaN           NaN        NaN         NaN  ...   \n",
       "1              NaN           NaN        NaN         NaN  ...   \n",
       "2            False         False      False       False  ...   \n",
       "3              NaN           NaN       True        True  ...   \n",
       "4            False         False      False       False  ...   \n",
       "...            ...           ...        ...         ...  ...   \n",
       "19995        False         False      False       False  ...   \n",
       "19996         True           NaN       True        True  ...   \n",
       "19997          NaN           NaN        NaN         NaN  ...   \n",
       "19998          NaN           NaN        NaN         NaN  ...   \n",
       "19999         True         False       True       False  ...   \n",
       "\n",
       "      Price Extra Normalized  Price Gross Normalized  Price M2 Normalized  \\\n",
       "0                      550.0                  4460.0                 19.0   \n",
       "1                      120.0                  1345.0                 30.0   \n",
       "2                      250.0                  1570.0                 15.0   \n",
       "3                      270.0                  1480.0                 17.0   \n",
       "4                      300.0                  1490.0                 19.0   \n",
       "...                      ...                     ...                  ...   \n",
       "19995                  170.0                  1350.0                 15.0   \n",
       "19996                  190.0                  1940.0                 23.0   \n",
       "19997                  275.0                  2175.0                 32.0   \n",
       "19998                  240.0                  3540.0                 37.0   \n",
       "19999                  130.0                   845.0                 16.0   \n",
       "\n",
       "      Price Net Normalized  Size M2 Normalized  Subcategory En Idx  \\\n",
       "0                   3910.0               232.0           Apartment   \n",
       "1                   1225.0                45.0           Apartment   \n",
       "2                   1320.0               103.0           Apartment   \n",
       "3                   1210.0                86.0           Apartment   \n",
       "4                   1190.0                79.0           Apartment   \n",
       "...                    ...                 ...                 ...   \n",
       "19995               1180.0                90.0           Apartment   \n",
       "19996               1750.0                84.0           Apartment   \n",
       "19997               1900.0                68.0           Apartment   \n",
       "19998               3300.0                95.0           Apartment   \n",
       "19999                715.0                52.0           Apartment   \n",
       "\n",
       "       Year Built  Year Lastrenovated  Days Between September and Created  \\\n",
       "0          2016.0              2016.0                                 602   \n",
       "1             NaN                 NaN                                1018   \n",
       "2             NaN                 NaN                                1996   \n",
       "3          1985.0              1985.0                                 421   \n",
       "4             NaN                 NaN                                1763   \n",
       "...           ...                 ...                                 ...   \n",
       "19995         NaN                 NaN                                1701   \n",
       "19996      1968.0              1968.0                                 302   \n",
       "19997         NaN                 NaN                                 321   \n",
       "19998         NaN                 NaN                                 700   \n",
       "19999         NaN                 NaN                                1939   \n",
       "\n",
       "       Days Between September and Available  \n",
       "0                                     549.0  \n",
       "1                                     914.0  \n",
       "2                                       NaN  \n",
       "3                                     488.0  \n",
       "4                                    1857.0  \n",
       "...                                     ...  \n",
       "19995                                1614.0  \n",
       "19996                                 212.0  \n",
       "19997                                 442.0  \n",
       "19998                                 488.0  \n",
       "19999                                1826.0  \n",
       "\n",
       "[20000 rows x 29 columns]"
      ]
     },
     "metadata": {},
     "output_type": "display_data"
    }
   ],
   "source": [
    "#Deal with 'Day of Advertisement Created' and 'Day of Date Available From'\n",
    "def compute_diff_date(X: pd.DataFrame, y=None):\n",
    "    X_copy=X.copy()\n",
    "    threshold=datetime.datetime(2022,9,1)\n",
    "    X_copy['Days Between September and Created']=pd.to_datetime(X_copy['Day of Advertisement Created']).apply(lambda x:(threshold-x).days)\n",
    "    X_copy['Days Between September and Available']=pd.to_datetime(X_copy['Day of Date Available From']).apply(lambda x:(threshold-x).days)                                                           \n",
    "    X_copy.drop(['Day of Advertisement Created','Day of Date Available From'],axis=1,inplace=True)\n",
    "    return X_copy\n",
    "\n",
    "diff_date_transformer = FunctionTransformer(compute_diff_date)\n",
    "\n",
    "print('Dealing with date')\n",
    "display(diff_date_transformer.transform(data))"
   ]
  },
  {
   "cell_type": "code",
   "execution_count": 138,
   "id": "7449b4ae",
   "metadata": {},
   "outputs": [],
   "source": [
    "categorical_features={'Geo Canton':DICT_GEO_CANTON,'Subcategory En Idx':DICT_SUBCATEGORY}"
   ]
  },
  {
   "cell_type": "code",
   "execution_count": 139,
   "id": "5c00d669",
   "metadata": {
    "scrolled": true
   },
   "outputs": [],
   "source": [
    "#DEALING WITH NAN\n",
    "def fill_nan(X: pd.DataFrame,bool_features,categorical_features,ordinal_features,bool_fill=-99999, y=None):\n",
    "    df=X.copy() #We don't want to modify the dataset\n",
    "    \n",
    "    #Dealing with categorical values\n",
    "    for bool_feature in bool_features:\n",
    "        df.loc[:,bool_feature]=df.loc[:,bool_feature].fillna(bool_fill)\n",
    "        df.loc[df[bool_feature] == False, bool_feature] = 0\n",
    "        df.loc[data[bool_feature] == True, bool_feature] = 1\n",
    "    \n",
    "    #Dealing with ordinal values\n",
    "    for ordinal_feature in ordinal_features:\n",
    "        df[ordinal_feature].fillna(df[ordinal_feature].mean(),inplace=True)\n",
    "        \n",
    "    #Dealing with categorical features\n",
    "    for categorical_feature in categorical_features.keys():\n",
    "        dict_replace=categorical_features[categorical_feature]\n",
    "        df[categorical_feature]=df[categorical_feature].replace(dict_replace)\n",
    "        df[categorical_feature].fillna(len(dict_replace)+1,inplace=True)\n",
    "        #df[categorical_feature].fillna(bool_fill,inplace=True)\n",
    "    return df\n",
    "\n",
    "na_fill_estimator = FunctionTransformer(fill_nan,kw_args={'bool_features':bool_features,\n",
    "                                                          'categorical_features':categorical_features,\n",
    "                                'ordinal_features':ordinal_features+['Days Between September and Created',\n",
    "                                                                     'Days Between September and Available']})\n",
    "\n"
   ]
  },
  {
   "cell_type": "code",
   "execution_count": 140,
   "id": "3fad83c7",
   "metadata": {},
   "outputs": [
    {
     "name": "stdout",
     "output_type": "stream",
     "text": [
      "One Hot Encoded data:\n",
      "[[1.0000000e+00 0.0000000e+00 0.0000000e+00 ... 2.0160000e+03\n",
      "  6.0200000e+02 5.4900000e+02]\n",
      " [1.0000000e+00 0.0000000e+00 0.0000000e+00 ... 1.9917911e+03\n",
      "  1.0180000e+03 9.1400000e+02]\n",
      " [0.0000000e+00 1.0000000e+00 0.0000000e+00 ... 1.9917911e+03\n",
      "  1.9960000e+03 1.0280996e+03]\n",
      " ...\n",
      " [1.0000000e+00 0.0000000e+00 0.0000000e+00 ... 1.9917911e+03\n",
      "  3.2100000e+02 4.4200000e+02]\n",
      " [1.0000000e+00 0.0000000e+00 0.0000000e+00 ... 1.9917911e+03\n",
      "  7.0000000e+02 4.8800000e+02]\n",
      " [0.0000000e+00 1.0000000e+00 0.0000000e+00 ... 1.9917911e+03\n",
      "  1.9390000e+03 1.8260000e+03]]\n",
      "(20000, 49)\n"
     ]
    }
   ],
   "source": [
    "#One Hot Encoding\n",
    "features_to_encode=bool_features\n",
    "col_trans = make_column_transformer(\n",
    "                        (OneHotEncoder(),features_to_encode),\n",
    "                        remainder = \"passthrough\"\n",
    "                        )\n",
    "print('One Hot Encoded data:')\n",
    "print(col_trans.fit_transform(na_fill_estimator.transform(diff_date_transformer.transform(data))))\n",
    "print(col_trans.fit_transform(na_fill_estimator.transform(diff_date_transformer.transform(data))).shape)"
   ]
  },
  {
   "cell_type": "markdown",
   "id": "8b60da7f",
   "metadata": {},
   "source": [
    "# PCA"
   ]
  },
  {
   "cell_type": "code",
   "execution_count": 141,
   "id": "ead5067b",
   "metadata": {},
   "outputs": [],
   "source": [
    "from sklearn.decomposition import PCA\n",
    "from sklearn.pipeline import Pipeline\n",
    "rf_regressor=RandomForestRegressor(oob_score=True,\n",
    "                      n_jobs=-1)\n",
    "preprocess_pipe=make_pipeline(diff_date_transformer,na_fill_estimator, col_trans)\n",
    "pipeline = Pipeline([\n",
    "    ('preprocessing', preprocess_pipe), \n",
    "    ('pca', PCA()), \n",
    "    ('model', rf_regressor)\n",
    "])\n",
    "\n"
   ]
  },
  {
   "cell_type": "code",
   "execution_count": 142,
   "id": "98904506",
   "metadata": {},
   "outputs": [
    {
     "name": "stdout",
     "output_type": "stream",
     "text": [
      "(13340, 28) (13340,) (6660, 28) (6660,)\n"
     ]
    }
   ],
   "source": [
    "#Generating test and train set\n",
    "X=data.drop('Demand',axis=1)\n",
    "#X=data[data['Demand']<=60].drop(['Demand'],axis=1)\n",
    "y=data['Demand']\n",
    "#y=y[y<=60]\n",
    "#seed = 50  # so that the result is reproducible\n",
    "X_train, X_test, y_train, y_test = train_test_split(X,y,test_size=0.333, \n",
    "                                                    random_state = seed\n",
    "                                                   )\n",
    "print(X_train.shape,y_train.shape,X_test.shape,y_test.shape)"
   ]
  },
  {
   "cell_type": "code",
   "execution_count": 143,
   "id": "58665e08",
   "metadata": {},
   "outputs": [
    {
     "name": "stdout",
     "output_type": "stream",
     "text": [
      "Out of sample mean poisson deviance by cross validation: -7.724500380396333\n"
     ]
    }
   ],
   "source": [
    "print('Out of sample mean poisson deviance by cross validation:',cross_val_score(pipeline,X,y,cv=5,scoring=scoring).mean())"
   ]
  },
  {
   "cell_type": "code",
   "execution_count": 144,
   "id": "ac7f1e1a",
   "metadata": {},
   "outputs": [
    {
     "data": {
      "text/plain": [
       "Pipeline(steps=[('preprocessing',\n",
       "                 Pipeline(steps=[('functiontransformer-1',\n",
       "                                  FunctionTransformer(func=<function compute_diff_date at 0x000001BB4B3ED0D0>)),\n",
       "                                 ('functiontransformer-2',\n",
       "                                  FunctionTransformer(func=<function fill_nan at 0x000001BB4B3ED940>,\n",
       "                                                      kw_args={'bool_features': ['Are '\n",
       "                                                                                 'Pets '\n",
       "                                                                                 'Allowed',\n",
       "                                                                                 'Has '\n",
       "                                                                                 'Balcony',\n",
       "                                                                                 'Has '\n",
       "                                                                                 'Cabletv',\n",
       "                                                                                 'Has '\n",
       "                                                                                 'Elevator',\n",
       "                                                                                 'Has '\n",
       "                                                                                 'Fireplace',\n",
       "                                                                                 'H...\n",
       "                                  ColumnTransformer(remainder='passthrough',\n",
       "                                                    transformers=[('onehotencoder',\n",
       "                                                                   OneHotEncoder(),\n",
       "                                                                   ['Are Pets '\n",
       "                                                                    'Allowed',\n",
       "                                                                    'Has '\n",
       "                                                                    'Balcony',\n",
       "                                                                    'Has '\n",
       "                                                                    'Cabletv',\n",
       "                                                                    'Has '\n",
       "                                                                    'Elevator',\n",
       "                                                                    'Has '\n",
       "                                                                    'Fireplace',\n",
       "                                                                    'Has '\n",
       "                                                                    'Garage',\n",
       "                                                                    'Has '\n",
       "                                                                    'Parking',\n",
       "                                                                    'Is New '\n",
       "                                                                    'Construction',\n",
       "                                                                    'Is New '\n",
       "                                                                    'Construction '\n",
       "                                                                    'Potential',\n",
       "                                                                    'Is '\n",
       "                                                                    'Tenant2Tenant',\n",
       "                                                                    'Is '\n",
       "                                                                    'Wheelchairaccessible'])]))])),\n",
       "                ('pca', PCA()),\n",
       "                ('model', RandomForestRegressor(n_jobs=-1, oob_score=True))])"
      ]
     },
     "execution_count": 144,
     "metadata": {},
     "output_type": "execute_result"
    }
   ],
   "source": [
    "pipeline.fit(X_train, y_train)"
   ]
  },
  {
   "cell_type": "code",
   "execution_count": 145,
   "id": "8111ee36",
   "metadata": {},
   "outputs": [
    {
     "name": "stdout",
     "output_type": "stream",
     "text": [
      "In Sample mean poisson deviance 1.5480\n",
      "Out of Sample mean poisson deviance 7.5599\n"
     ]
    }
   ],
   "source": [
    "#Evaluate the model\n",
    "print('In Sample mean poisson deviance {:.4f}'.format(evaluate_model(y_train,pipeline.predict(X_train))))\n",
    "print('Out of Sample mean poisson deviance {:.4f}'.format(evaluate_model(y_test,pipeline.predict(X_test))))"
   ]
  },
  {
   "cell_type": "code",
   "execution_count": 146,
   "id": "266ac59f",
   "metadata": {},
   "outputs": [
    {
     "name": "stdout",
     "output_type": "stream",
     "text": [
      "Out of sample mean poisson deviance by cross validation: -7.910146668785967\n"
     ]
    }
   ],
   "source": [
    "preprocess_pipe=make_pipeline(diff_date_transformer,na_fill_estimator)\n",
    "pipeline = Pipeline([\n",
    "    ('preprocessing', preprocess_pipe), \n",
    "    ('pca', PCA()), \n",
    "    ('model', rf_regressor)\n",
    "])\n",
    "print('Out of sample mean poisson deviance by cross validation:',cross_val_score(pipeline,X,y,cv=5,scoring=scoring).mean())"
   ]
  },
  {
   "cell_type": "code",
   "execution_count": 147,
   "id": "c8e64754",
   "metadata": {},
   "outputs": [
    {
     "name": "stdout",
     "output_type": "stream",
     "text": [
      "In Sample mean poisson deviance 1.5438\n",
      "Out of Sample mean poisson deviance 8.1676\n"
     ]
    }
   ],
   "source": [
    "pipeline.fit(X_train, y_train)\n",
    "#Evaluate the model\n",
    "print('In Sample mean poisson deviance {:.4f}'.format(evaluate_model(y_train,pipeline.predict(X_train))))\n",
    "print('Out of Sample mean poisson deviance {:.4f}'.format(evaluate_model(y_test,pipeline.predict(X_test))))"
   ]
  },
  {
   "cell_type": "markdown",
   "id": "888bc79a",
   "metadata": {},
   "source": [
    "# XGBOOST"
   ]
  },
  {
   "cell_type": "code",
   "execution_count": 148,
   "id": "cb9df174",
   "metadata": {},
   "outputs": [
    {
     "name": "stdout",
     "output_type": "stream",
     "text": [
      "(13340, 28) (13340,) (6660, 28) (6660,)\n",
      "Out of sample mean poisson deviance by cross validation: -7.31196175161781\n",
      "In Sample mean poisson deviance 3.3464\n",
      "Out of Sample mean poisson deviance 8.9773\n"
     ]
    }
   ],
   "source": [
    "#Generating test and train set\n",
    "import xgboost as xgb\n",
    "from sklearn.preprocessing import LabelEncoder\n",
    "le = LabelEncoder()\n",
    "X=data.drop(['Demand'],axis=1)\n",
    "y=data['Demand']\n",
    "\n",
    "#seed = 50  # so that the result is reproducible\n",
    "X_train, X_test, y_train, y_test = train_test_split(X,y,test_size=0.333\n",
    "                                                    , random_state = seed\n",
    "                                                   )\n",
    "y_train = le.fit_transform(y_train)\n",
    "y=le.fit_transform(y)\n",
    "print(X_train.shape,y_train.shape,X_test.shape,y_test.shape)\n",
    "model =  xgb.XGBRegressor(missing=-99999)\n",
    "pipe = make_pipeline(diff_date_transformer,na_fill_estimator, col_trans,model)\n",
    "pipe.fit(X_train, y_train)\n",
    "print('Out of sample mean poisson deviance by cross validation:',cross_val_score(pipe,X,y,cv=5,scoring=scoring).mean())\n",
    "#Evaluate the model\n",
    "print('In Sample mean poisson deviance {:.4f}'.format(evaluate_model(y_train,pipe.predict(X_train))))\n",
    "print('Out of Sample mean poisson deviance {:.4f}'.format(evaluate_model(y_test,pipe.predict(X_test))))"
   ]
  },
  {
   "cell_type": "code",
   "execution_count": 149,
   "id": "cafd6b32",
   "metadata": {},
   "outputs": [
    {
     "name": "stdout",
     "output_type": "stream",
     "text": [
      "(13340, 28) (13340,) (6660, 28) (6660,)\n",
      "Out of sample mean poisson deviance by cross validation: -15.93423608964722\n",
      "In Sample mean poisson deviance 3.3464\n",
      "Out of Sample mean poisson deviance 8.9773\n"
     ]
    }
   ],
   "source": [
    "#WITH PCA\n",
    "le = LabelEncoder()\n",
    "X=data.drop(['Demand'],axis=1)\n",
    "y=data['Demand']\n",
    "\n",
    "#seed = 50  # so that the result is reproducible\n",
    "X_train, X_test, y_train, y_test = train_test_split(X,y,test_size=0.333\n",
    "                                                    , random_state = seed\n",
    "                                                   )\n",
    "\n",
    "y_train = le.fit_transform(y_train)\n",
    "y=le.fit_transform(y)\n",
    "print(X_train.shape,y_train.shape,X_test.shape,y_test.shape)\n",
    "model =  xgb.XGBRegressor(missing=-99999)\n",
    "\n",
    "preprocess_pipe=make_pipeline(diff_date_transformer,na_fill_estimator,col_trans)\n",
    "pipeline = Pipeline([\n",
    "    ('preprocessing', preprocess_pipe), \n",
    "    ('pca', PCA()), \n",
    "    ('model', model)\n",
    "])\n",
    "print('Out of sample mean poisson deviance by cross validation:',cross_val_score(pipeline,X,y,cv=5,scoring=scoring).mean())\n",
    "pipe.fit(X_train, y_train)\n",
    "#Evaluate the model\n",
    "print('In Sample mean poisson deviance {:.4f}'.format(evaluate_model(y_train,pipeline.predict(X_train))))\n",
    "print('Out of Sample mean poisson deviance {:.4f}'.format(evaluate_model(y_test,pipeline.predict(X_test))))"
   ]
  },
  {
   "cell_type": "markdown",
   "id": "0a5cfb00",
   "metadata": {},
   "source": [
    "# Random forest"
   ]
  },
  {
   "cell_type": "code",
   "execution_count": 150,
   "id": "5db91bb1",
   "metadata": {},
   "outputs": [],
   "source": [
    "rf_regressor=RandomForestRegressor(oob_score=True,\n",
    "                      n_jobs=-1)\n",
    "pipe = make_pipeline(diff_date_transformer,na_fill_estimator, col_trans,rf_regressor)"
   ]
  },
  {
   "cell_type": "code",
   "execution_count": 151,
   "id": "8438ebd6",
   "metadata": {},
   "outputs": [
    {
     "name": "stdout",
     "output_type": "stream",
     "text": [
      "(13340, 28) (13340,) (6660, 28) (6660,)\n"
     ]
    }
   ],
   "source": [
    "#Generating test and train set\n",
    "X=data.drop('Demand',axis=1)\n",
    "#X=data[data['Demand']<=60].drop(['Demand'],axis=1)\n",
    "y=data['Demand']\n",
    "#y=y[y<=60]\n",
    "#seed = 50  # so that the result is reproducible\n",
    "X_train, X_test, y_train, y_test = train_test_split(X,y,test_size=0.333, \n",
    "                                                    random_state = seed\n",
    "                                                   )\n",
    "print(X_train.shape,y_train.shape,X_test.shape,y_test.shape)"
   ]
  },
  {
   "cell_type": "code",
   "execution_count": 152,
   "id": "0a5e82a4",
   "metadata": {},
   "outputs": [
    {
     "name": "stdout",
     "output_type": "stream",
     "text": [
      "Out of sample mean poisson deviance by cross validation: -6.162520707111209\n"
     ]
    }
   ],
   "source": [
    "print('Out of sample mean poisson deviance by cross validation:',cross_val_score(pipe,X,y,cv=5,scoring=scoring).mean())"
   ]
  },
  {
   "cell_type": "code",
   "execution_count": 153,
   "id": "967392ec",
   "metadata": {},
   "outputs": [
    {
     "data": {
      "text/plain": [
       "Pipeline(steps=[('functiontransformer-1',\n",
       "                 FunctionTransformer(func=<function compute_diff_date at 0x000001BB4B3ED0D0>)),\n",
       "                ('functiontransformer-2',\n",
       "                 FunctionTransformer(func=<function fill_nan at 0x000001BB4B3ED940>,\n",
       "                                     kw_args={'bool_features': ['Are Pets '\n",
       "                                                                'Allowed',\n",
       "                                                                'Has Balcony',\n",
       "                                                                'Has Cabletv',\n",
       "                                                                'Has Elevator',\n",
       "                                                                'Has Fireplace',\n",
       "                                                                'Has Garage',\n",
       "                                                                'Has Parking',\n",
       "                                                                'Is New '\n",
       "                                                                'Construction...\n",
       "                 ColumnTransformer(remainder='passthrough',\n",
       "                                   transformers=[('onehotencoder',\n",
       "                                                  OneHotEncoder(),\n",
       "                                                  ['Are Pets Allowed',\n",
       "                                                   'Has Balcony', 'Has Cabletv',\n",
       "                                                   'Has Elevator',\n",
       "                                                   'Has Fireplace',\n",
       "                                                   'Has Garage', 'Has Parking',\n",
       "                                                   'Is New Construction',\n",
       "                                                   'Is New Construction '\n",
       "                                                   'Potential',\n",
       "                                                   'Is Tenant2Tenant',\n",
       "                                                   'Is '\n",
       "                                                   'Wheelchairaccessible'])])),\n",
       "                ('randomforestregressor',\n",
       "                 RandomForestRegressor(n_jobs=-1, oob_score=True))])"
      ]
     },
     "execution_count": 153,
     "metadata": {},
     "output_type": "execute_result"
    }
   ],
   "source": [
    "pipe.fit(X_train, y_train)"
   ]
  },
  {
   "cell_type": "code",
   "execution_count": 154,
   "id": "a4f57356",
   "metadata": {},
   "outputs": [],
   "source": [
    "#predictions=pipe.predict(data_test.drop('Prediction',axis=1))\n",
    "#data_test['Prediction']=predictions\n",
    "#with open(\"RF_prediction.pickle\", \"wb\") as f:\n",
    "#    pickle.dump(data_test, f)"
   ]
  },
  {
   "cell_type": "code",
   "execution_count": 155,
   "id": "582a0f7d",
   "metadata": {},
   "outputs": [],
   "source": [
    "#print(rf_regressor.feature_importances_)\n",
    "#print(len(rf_regressor.feature_importances_))"
   ]
  },
  {
   "cell_type": "markdown",
   "id": "e2c3ad8a",
   "metadata": {},
   "source": [
    "We notice that there are more importance than features because of the one hot encoding"
   ]
  },
  {
   "cell_type": "code",
   "execution_count": 156,
   "id": "941292ee",
   "metadata": {},
   "outputs": [],
   "source": [
    "# Let's look at the first row\n",
    "#print(col_trans.fit_transform(na_fill_estimator.transform(X_train))[0,:]) "
   ]
  },
  {
   "cell_type": "code",
   "execution_count": 157,
   "id": "48fda0b5",
   "metadata": {},
   "outputs": [],
   "source": [
    "#na_fill_estimator.transform(X_train).iloc[0]"
   ]
  },
  {
   "cell_type": "markdown",
   "id": "0bfa3e44",
   "metadata": {},
   "source": [
    "All the encoded categorical variables are shown first, followed by the numeric variables in the one hot encoded version of X_train?"
   ]
  },
  {
   "cell_type": "code",
   "execution_count": 158,
   "id": "26a215b3",
   "metadata": {},
   "outputs": [
    {
     "name": "stderr",
     "output_type": "stream",
     "text": [
      "C:\\Users\\Corentin\\anaconda3\\lib\\site-packages\\pandas\\core\\algorithms.py:798: FutureWarning: In a future version, the Index constructor will not infer numeric dtypes when passed object-dtype sequences (matching Series behavior)\n",
      "  uniques = Index(uniques)\n"
     ]
    }
   ],
   "source": [
    "def encode_and_bind(original_dataframe, features_to_encode):    \n",
    "    dummies = pd.get_dummies(original_dataframe[features_to_encode])\n",
    "    res = pd.concat([dummies, original_dataframe], axis=1)\n",
    "    res = res.drop(features_to_encode, axis=1)\n",
    "    return(res)\n",
    "X_train_encoded = encode_and_bind(na_fill_estimator.transform(diff_date_transformer.transform(X_train)), features_to_encode)"
   ]
  },
  {
   "cell_type": "code",
   "execution_count": 159,
   "id": "fdc0d408",
   "metadata": {},
   "outputs": [],
   "source": [
    "#X_train_encoded"
   ]
  },
  {
   "cell_type": "code",
   "execution_count": 160,
   "id": "829680f5",
   "metadata": {},
   "outputs": [],
   "source": [
    "feature_importances = list(zip(X_train_encoded, rf_regressor.feature_importances_))\n",
    "# Then sort the feature importances by most important first\n",
    "feature_importances_ranked = sorted(feature_importances, key = lambda x: x[1], reverse = True)\n",
    "# Print out the feature and importances\n",
    "#[print('Feature: {:35} Importance: {}'.format(*pair)) for pair in feature_importances_ranked];"
   ]
  },
  {
   "cell_type": "code",
   "execution_count": 161,
   "id": "02dc6449",
   "metadata": {},
   "outputs": [
    {
     "data": {
      "image/png": "[encoded data removed]",
      "text/plain": [
       "<Figure size 1000x1400 with 1 Axes>"
      ]
     },
     "metadata": {},
     "output_type": "display_data"
    }
   ],
   "source": [
    "# Plot the top 25 feature importance\n",
    "feature_names_25 = [i[0] for i in feature_importances_ranked[:25]]\n",
    "y_ticks = np.arange(0, len(feature_names_25))\n",
    "x_axis = [i[1] for i in feature_importances_ranked[:25]]\n",
    "plt.figure(figsize = (10, 14))\n",
    "plt.barh(feature_names_25, x_axis)   #horizontal barplot\n",
    "plt.title('Random Forest Feature Importance (Top 25)',\n",
    "          fontdict= {'fontsize' : 20})\n",
    "plt.xlabel('Features',fontdict= {'fontsize' : 16})\n",
    "plt.show()"
   ]
  },
  {
   "cell_type": "code",
   "execution_count": 162,
   "id": "440e497c",
   "metadata": {},
   "outputs": [
    {
     "name": "stdout",
     "output_type": "stream",
     "text": [
      "In Sample mean poisson deviance 1.1965\n",
      "Out of Sample mean poisson deviance 6.1825\n"
     ]
    }
   ],
   "source": [
    "#Evaluate the model\n",
    "print('In Sample mean poisson deviance {:.4f}'.format(evaluate_model(y_train,pipe.predict(X_train))))\n",
    "print('Out of Sample mean poisson deviance {:.4f}'.format(evaluate_model(y_test,pipe.predict(X_test))))"
   ]
  },
  {
   "cell_type": "markdown",
   "id": "a1eda8db",
   "metadata": {},
   "source": [
    "# Random forest without one hot encoding"
   ]
  },
  {
   "cell_type": "code",
   "execution_count": 163,
   "id": "5d2cf349",
   "metadata": {},
   "outputs": [
    {
     "data": {
      "text/plain": [
       "-6.161794278424744"
      ]
     },
     "execution_count": 163,
     "metadata": {},
     "output_type": "execute_result"
    }
   ],
   "source": [
    "pipe = make_pipeline(diff_date_transformer,na_fill_estimator,rf_regressor)\n",
    "cross_val_score(pipe,X,y,cv=5,scoring=scoring).mean()\n"
   ]
  },
  {
   "cell_type": "code",
   "execution_count": 164,
   "id": "77bf2365",
   "metadata": {},
   "outputs": [
    {
     "data": {
      "text/plain": [
       "Pipeline(steps=[('functiontransformer-1',\n",
       "                 FunctionTransformer(func=<function compute_diff_date at 0x000001BB4B3ED0D0>)),\n",
       "                ('functiontransformer-2',\n",
       "                 FunctionTransformer(func=<function fill_nan at 0x000001BB4B3ED940>,\n",
       "                                     kw_args={'bool_features': ['Are Pets '\n",
       "                                                                'Allowed',\n",
       "                                                                'Has Balcony',\n",
       "                                                                'Has Cabletv',\n",
       "                                                                'Has Elevator',\n",
       "                                                                'Has Fireplace',\n",
       "                                                                'Has Garage',\n",
       "                                                                'Has Parking',\n",
       "                                                                'Is New '\n",
       "                                                                'Construction...\n",
       "                                                                   'Number of '\n",
       "                                                                   'Documents',\n",
       "                                                                   'Number of '\n",
       "                                                                   'Images',\n",
       "                                                                   'Price '\n",
       "                                                                   'Extra '\n",
       "                                                                   'Normalized',\n",
       "                                                                   'Price '\n",
       "                                                                   'Gross '\n",
       "                                                                   'Normalized',\n",
       "                                                                   'Price M2 '\n",
       "                                                                   'Normalized',\n",
       "                                                                   'Price Net '\n",
       "                                                                   'Normalized',\n",
       "                                                                   'Size M2 '\n",
       "                                                                   'Normalized',\n",
       "                                                                   'Year Built',\n",
       "                                                                   'Year '\n",
       "                                                                   'Lastrenovated',\n",
       "                                                                   'Days '\n",
       "                                                                   'Between '\n",
       "                                                                   'September '\n",
       "                                                                   'and '\n",
       "                                                                   'Created',\n",
       "                                                                   'Days '\n",
       "                                                                   'Between '\n",
       "                                                                   'September '\n",
       "                                                                   'and '\n",
       "                                                                   'Available']})),\n",
       "                ('randomforestregressor',\n",
       "                 RandomForestRegressor(n_jobs=-1, oob_score=True))])"
      ]
     },
     "execution_count": 164,
     "metadata": {},
     "output_type": "execute_result"
    }
   ],
   "source": [
    "pipe.fit(X_train,y_train)"
   ]
  },
  {
   "cell_type": "code",
   "execution_count": 165,
   "id": "e7a682a9",
   "metadata": {},
   "outputs": [
    {
     "data": {
      "image/png": "[encoded data removed]",
      "text/plain": [
       "<Figure size 1000x1400 with 1 Axes>"
      ]
     },
     "metadata": {},
     "output_type": "display_data"
    }
   ],
   "source": [
    "feature_importances = list(zip(X_train, rf_regressor.feature_importances_))\n",
    "# Then sort the feature importances by most important first\n",
    "feature_importances_ranked = sorted(feature_importances, key = lambda x: x[1], reverse = True)\n",
    "# Plot the top 25 feature importance\n",
    "feature_names_25 = [i[0] for i in feature_importances_ranked[:25]]\n",
    "y_ticks = np.arange(0, len(feature_names_25))\n",
    "x_axis = [i[1] for i in feature_importances_ranked[:25]]\n",
    "plt.figure(figsize = (10, 14))\n",
    "plt.barh(feature_names_25, x_axis)   #horizontal barplot\n",
    "plt.title('Random Forest Feature Importance without one hot encoding(Top 25)',\n",
    "          fontdict= {'fontsize' : 20})\n",
    "plt.xlabel('Features',fontdict= {'fontsize' : 16})\n",
    "plt.show()"
   ]
  },
  {
   "cell_type": "code",
   "execution_count": 166,
   "id": "a95d002b",
   "metadata": {},
   "outputs": [
    {
     "name": "stdout",
     "output_type": "stream",
     "text": [
      "In Sample mean poisson deviance 1.1980\n",
      "Out of Sample mean poisson deviance 6.2433\n"
     ]
    }
   ],
   "source": [
    "#Evaluate the model\n",
    "print('In Sample mean poisson deviance {:.4f}'.format(evaluate_model(y_train,pipe.predict(X_train))))\n",
    "print('Out of Sample mean poisson deviance {:.4f}'.format(evaluate_model(y_test,pipe.predict(X_test))))"
   ]
  },
  {
   "cell_type": "markdown",
   "id": "0dc13bed",
   "metadata": {},
   "source": [
    "**Conclusion** One hot encoding leads to similar results as not one hot encoding for bool categorical variables"
   ]
  },
  {
   "cell_type": "markdown",
   "id": "1c440ada",
   "metadata": {},
   "source": [
    "# Dropping the corrolated features"
   ]
  },
  {
   "cell_type": "code",
   "execution_count": 307,
   "id": "f4632053",
   "metadata": {},
   "outputs": [],
   "source": [
    "#Removing size M2 Normalized, Number of Rooms and all price measure except extra price normalized:\n",
    "ordinal_features=['Floor','Livingspace', \n",
    "       'Number Of Rooms Cleaned', 'Number of Documents', 'Number of Images',\n",
    "       'Price Extra Normalized', 'Year Built',\n",
    "       'Year Lastrenovated']"
   ]
  },
  {
   "cell_type": "code",
   "execution_count": 308,
   "id": "538e218a",
   "metadata": {},
   "outputs": [],
   "source": [
    "def drop_column(X: pd.DataFrame,columns, y=None):\n",
    "    X_copy=X.copy() #We don't want to modify the dataset\n",
    "    X_copy.drop(columns,axis=1,inplace=True)\n",
    "    \n",
    "    return X_copy\n",
    "\n",
    "drop_col_transformer = FunctionTransformer(drop_column,kw_args={'columns':['Price M2 Normalized','Price Gross Normalized',\n",
    "                                                                           'Price Net Normalized','Size M2 Normalized',\n",
    "                                                                           'Number Of Rooms']})\n",
    "na_fill_estimator = FunctionTransformer(fill_nan,kw_args={'bool_features':bool_features,\n",
    "                                                          'categorical_features':categorical_features,\n",
    "                                                          'ordinal_features':ordinal_features+\n",
    "                                                          ['Days Between September and Created',\n",
    "                                                                     'Days Between September and Available']})"
   ]
  },
  {
   "cell_type": "markdown",
   "id": "77503fd0",
   "metadata": {},
   "source": [
    "## 1 With One Hot encoding"
   ]
  },
  {
   "cell_type": "code",
   "execution_count": 77,
   "id": "496e6fa7",
   "metadata": {},
   "outputs": [
    {
     "data": {
      "text/plain": [
       "Pipeline(steps=[('functiontransformer-1',\n",
       "                 FunctionTransformer(func=<function drop_column at 0x00000127D9C5E430>,\n",
       "                                     kw_args={'columns': ['Price M2 Normalized',\n",
       "                                                          'Price Gross '\n",
       "                                                          'Normalized',\n",
       "                                                          'Price Net '\n",
       "                                                          'Normalized',\n",
       "                                                          'Size M2 Normalized',\n",
       "                                                          'Number Of Rooms']})),\n",
       "                ('functiontransformer-2',\n",
       "                 FunctionTransformer(func=<function compute_diff_date at 0x00000127C5730B80>)),\n",
       "                ('functiontrans...\n",
       "                 ColumnTransformer(remainder='passthrough',\n",
       "                                   transformers=[('onehotencoder',\n",
       "                                                  OneHotEncoder(),\n",
       "                                                  ['Are Pets Allowed',\n",
       "                                                   'Has Balcony', 'Has Cabletv',\n",
       "                                                   'Has Elevator',\n",
       "                                                   'Has Fireplace',\n",
       "                                                   'Has Garage', 'Has Parking',\n",
       "                                                   'Is New Construction',\n",
       "                                                   'Is New Construction '\n",
       "                                                   'Potential',\n",
       "                                                   'Is Tenant2Tenant',\n",
       "                                                   'Is '\n",
       "                                                   'Wheelchairaccessible'])])),\n",
       "                ('randomforestregressor',\n",
       "                 RandomForestRegressor(n_jobs=-1, oob_score=True))])"
      ]
     },
     "execution_count": 77,
     "metadata": {},
     "output_type": "execute_result"
    }
   ],
   "source": [
    "pipe= make_pipeline(drop_col_transformer,diff_date_transformer,na_fill_estimator,col_trans,rf_regressor)\n",
    "pipe.fit(X_train,y_train)"
   ]
  },
  {
   "cell_type": "code",
   "execution_count": 78,
   "id": "86cbbad2",
   "metadata": {},
   "outputs": [],
   "source": [
    "#X_train_encoded = encode_and_bind(na_fill_estimator.transform(diff_date_transformer.transform(drop_col_transformer.transform(X_train))), features_to_encode)\n",
    "#feature_importances = list(zip(X_train_encoded, rf_regressor.feature_importances_))\n",
    "# Then sort the feature importances by most important first\n",
    "#feature_importances_ranked = sorted(feature_importances, key = lambda x: x[1], reverse = True)\n",
    "# Plot the top 25 feature importance\n",
    "#feature_names_25 = [i[0] for i in feature_importances_ranked[:25]]\n",
    "#y_ticks = np.arange(0, len(feature_names_25))\n",
    "#x_axis = [i[1] for i in feature_importances_ranked[:25]]\n",
    "#plt.figure(figsize = (10, 14))\n",
    "#plt.barh(feature_names_25, x_axis)   #horizontal barplot\n",
    "#plt.title('Random Forest Feature Importance without one hot encoding(Top 25)',\n",
    "#          fontdict= {'fontsize' : 20})\n",
    "#plt.xlabel('Features',fontdict= {'fontsize' : 16})\n",
    "#plt.show()"
   ]
  },
  {
   "cell_type": "code",
   "execution_count": 79,
   "id": "44409c26",
   "metadata": {},
   "outputs": [
    {
     "name": "stdout",
     "output_type": "stream",
     "text": [
      "In Sample mean poisson deviance 1.2841\n",
      "Out of Sample mean poisson deviance 6.7622\n"
     ]
    }
   ],
   "source": [
    "#Evaluate the model\n",
    "print('In Sample mean poisson deviance {:.4f}'.format(evaluate_model(y_train,pipe.predict(X_train))))\n",
    "print('Out of Sample mean poisson deviance {:.4f}'.format(evaluate_model(y_test,pipe.predict(X_test))))"
   ]
  },
  {
   "cell_type": "code",
   "execution_count": 260,
   "id": "6a6bd4e4",
   "metadata": {},
   "outputs": [
    {
     "name": "stderr",
     "output_type": "stream",
     "text": [
      "C:\\Users\\Corentin\\anaconda3\\lib\\site-packages\\sklearn\\model_selection\\_split.py:676: UserWarning: The least populated class in y has only 1 members, which is less than n_splits=5.\n",
      "  warnings.warn(\n"
     ]
    },
    {
     "name": "stdout",
     "output_type": "stream",
     "text": [
      "Out of sample accuracy by cross validation: 0.2232\n"
     ]
    }
   ],
   "source": [
    "#print('Out of sample accuracy by cross validation:',cross_val_score(pipe,X,y,cv=5,scoring=scoring).mean())"
   ]
  },
  {
   "cell_type": "markdown",
   "id": "593ac43f",
   "metadata": {},
   "source": [
    "## 2 Without One Hot encoding"
   ]
  },
  {
   "cell_type": "code",
   "execution_count": 80,
   "id": "c04ac20d",
   "metadata": {},
   "outputs": [
    {
     "data": {
      "text/plain": [
       "Pipeline(steps=[('functiontransformer-1',\n",
       "                 FunctionTransformer(func=<function drop_column at 0x00000127D9C5E430>,\n",
       "                                     kw_args={'columns': ['Price M2 Normalized',\n",
       "                                                          'Price Gross '\n",
       "                                                          'Normalized',\n",
       "                                                          'Price Net '\n",
       "                                                          'Normalized',\n",
       "                                                          'Size M2 Normalized',\n",
       "                                                          'Number Of Rooms']})),\n",
       "                ('functiontransformer-2',\n",
       "                 FunctionTransformer(func=<function compute_diff_date at 0x00000127C5730B80>)),\n",
       "                ('functiontrans...\n",
       "                                                                                              'Single house': 5,\n",
       "                                                                                              'Studio': 7}},\n",
       "                                              'ordinal_features': ['Floor',\n",
       "                                                                   'Livingspace',\n",
       "                                                                   'Number Of '\n",
       "                                                                   'Rooms '\n",
       "                                                                   'Cleaned',\n",
       "                                                                   'Number of '\n",
       "                                                                   'Documents',\n",
       "                                                                   'Number of '\n",
       "                                                                   'Images',\n",
       "                                                                   'Price '\n",
       "                                                                   'Extra '\n",
       "                                                                   'Normalized',\n",
       "                                                                   'Year Built',\n",
       "                                                                   'Year '\n",
       "                                                                   'Lastrenovated',\n",
       "                                                                   'Days '\n",
       "                                                                   'Between '\n",
       "                                                                   'September '\n",
       "                                                                   'and '\n",
       "                                                                   'Created',\n",
       "                                                                   'Days '\n",
       "                                                                   'Between '\n",
       "                                                                   'September '\n",
       "                                                                   'and '\n",
       "                                                                   'Available']})),\n",
       "                ('randomforestregressor',\n",
       "                 RandomForestRegressor(n_jobs=-1, oob_score=True))])"
      ]
     },
     "execution_count": 80,
     "metadata": {},
     "output_type": "execute_result"
    }
   ],
   "source": [
    "pipe= make_pipeline(drop_col_transformer,diff_date_transformer,na_fill_estimator,rf_regressor)\n",
    "pipe.fit(X_train,y_train)"
   ]
  },
  {
   "cell_type": "code",
   "execution_count": 268,
   "id": "f9b68c4e",
   "metadata": {},
   "outputs": [],
   "source": [
    "#feature_importances = list(zip(drop_col_transformer.transform(X_train), rf_regressor.feature_importances_))\n",
    "# Then sort the feature importances by most important first\n",
    "#feature_importances_ranked = sorted(feature_importances, key = lambda x: x[1], reverse = True)\n",
    "# Plot the top 25 feature importance\n",
    "#feature_names_25 = [i[0] for i in feature_importances_ranked[:25]]\n",
    "#y_ticks = np.arange(0, len(feature_names_25))\n",
    "#x_axis = [i[1] for i in feature_importances_ranked[:25]]\n",
    "#plt.figure(figsize = (10, 14))\n",
    "#plt.barh(feature_names_25, x_axis)   #horizontal barplot\n",
    "#plt.title('Random Forest Feature Importance without one hot encoding(Top 25)',\n",
    "#          fontdict= {'fontsize' : 20})\n",
    "#plt.xlabel('Features',fontdict= {'fontsize' : 16})\n",
    "#plt.show()"
   ]
  },
  {
   "cell_type": "code",
   "execution_count": 81,
   "id": "8e35a21d",
   "metadata": {},
   "outputs": [
    {
     "name": "stdout",
     "output_type": "stream",
     "text": [
      "In Sample mean poisson deviance 1.2865\n",
      "Out of Sample mean poisson deviance 6.7921\n"
     ]
    }
   ],
   "source": [
    "#Evaluate the model\n",
    "print('In Sample mean poisson deviance {:.4f}'.format(evaluate_model(y_train,pipe.predict(X_train))))\n",
    "print('Out of Sample mean poisson deviance {:.4f}'.format(evaluate_model(y_test,pipe.predict(X_test))))"
   ]
  },
  {
   "cell_type": "code",
   "execution_count": 82,
   "id": "81737bf0",
   "metadata": {},
   "outputs": [],
   "source": [
    "#print('Out of sample accuracy by cross validation:',cross_val_score(pipe,X,y,cv=5,scoring=scoring).mean())"
   ]
  },
  {
   "cell_type": "markdown",
   "id": "9dbf5646",
   "metadata": {},
   "source": [
    "**Conclusion** Dropping the corrolated features didn't improve accuracy"
   ]
  },
  {
   "cell_type": "markdown",
   "id": "51ac2d42",
   "metadata": {},
   "source": [
    "# Tuning the Random Forest Model"
   ]
  },
  {
   "cell_type": "markdown",
   "id": "dfa9fb5b",
   "metadata": {},
   "source": [
    "## 1-Create a pipeline with the non postive value transformed in 10^-10 for the pred"
   ]
  },
  {
   "cell_type": "code",
   "execution_count": 309,
   "id": "eb08b4bd",
   "metadata": {},
   "outputs": [
    {
     "name": "stdout",
     "output_type": "stream",
     "text": [
      "Parameters currently in use:\n",
      "\n",
      "{'bootstrap': True,\n",
      " 'ccp_alpha': 0.0,\n",
      " 'criterion': 'squared_error',\n",
      " 'max_depth': None,\n",
      " 'max_features': 'auto',\n",
      " 'max_leaf_nodes': None,\n",
      " 'max_samples': None,\n",
      " 'min_impurity_decrease': 0.0,\n",
      " 'min_samples_leaf': 1,\n",
      " 'min_samples_split': 2,\n",
      " 'min_weight_fraction_leaf': 0.0,\n",
      " 'n_estimators': 100,\n",
      " 'n_jobs': -1,\n",
      " 'oob_score': True,\n",
      " 'random_state': None,\n",
      " 'verbose': 0,\n",
      " 'warm_start': False}\n"
     ]
    }
   ],
   "source": [
    "from pprint import pprint\n",
    "print('Parameters currently in use:\\n')\n",
    "pprint(rf_regressor.get_params())"
   ]
  },
  {
   "cell_type": "code",
   "execution_count": 312,
   "id": "f1547860",
   "metadata": {},
   "outputs": [],
   "source": [
    "ordinal_features=['Floor','Livingspace', 'Number Of Rooms',\n",
    "       'Number Of Rooms Cleaned', 'Number of Documents', 'Number of Images',\n",
    "       'Price Extra Normalized', 'Price Gross Normalized',\n",
    "       'Price M2 Normalized', 'Price Net Normalized', \n",
    "       'Size M2 Normalized', 'Year Built',\n",
    "       'Year Lastrenovated']\n",
    "na_fill_estimator = FunctionTransformer(fill_nan,kw_args={'bool_features':bool_features,\n",
    "                                                          'categorical_features':categorical_features,\n",
    "                                'ordinal_features':ordinal_features+['Days Between September and Created',\n",
    "                                                                     'Days Between September and Available']})"
   ]
  },
  {
   "cell_type": "code",
   "execution_count": 316,
   "id": "ab16de91",
   "metadata": {},
   "outputs": [],
   "source": [
    "from sklearn.model_selection import RandomizedSearchCV\n",
    "max_features = [0.5,'auto', 'sqrt','log2']\n",
    "min_samples_leaf = [1,2,4,7,10]\n",
    "bootstrap = [True]\n",
    "random_grid = {'max_features': max_features,\n",
    "               'min_samples_leaf': min_samples_leaf,\n",
    "               'bootstrap': bootstrap}\n"
   ]
  },
  {
   "cell_type": "code",
   "execution_count": 317,
   "id": "e4cc1e45",
   "metadata": {},
   "outputs": [
    {
     "name": "stdout",
     "output_type": "stream",
     "text": [
      "Fitting 5 folds for each of 10 candidates, totalling 50 fits\n",
      "[CV 1/5; 1/10] START bootstrap=True, max_features=log2, min_samples_leaf=4......\n",
      "[CV 1/5; 1/10] END bootstrap=True, max_features=log2, min_samples_leaf=4;, score=-6.502 total time=   4.1s\n",
      "[CV 2/5; 1/10] START bootstrap=True, max_features=log2, min_samples_leaf=4......\n",
      "[CV 2/5; 1/10] END bootstrap=True, max_features=log2, min_samples_leaf=4;, score=-6.931 total time=   0.9s\n",
      "[CV 3/5; 1/10] START bootstrap=True, max_features=log2, min_samples_leaf=4......\n",
      "[CV 3/5; 1/10] END bootstrap=True, max_features=log2, min_samples_leaf=4;, score=-7.255 total time=   0.9s\n",
      "[CV 4/5; 1/10] START bootstrap=True, max_features=log2, min_samples_leaf=4......\n",
      "[CV 4/5; 1/10] END bootstrap=True, max_features=log2, min_samples_leaf=4;, score=-6.913 total time=   0.9s\n",
      "[CV 5/5; 1/10] START bootstrap=True, max_features=log2, min_samples_leaf=4......\n",
      "[CV 5/5; 1/10] END bootstrap=True, max_features=log2, min_samples_leaf=4;, score=-7.858 total time=   0.9s\n",
      "[CV 1/5; 2/10] START bootstrap=True, max_features=0.5, min_samples_leaf=1.......\n",
      "[CV 1/5; 2/10] END bootstrap=True, max_features=0.5, min_samples_leaf=1;, score=-5.958 total time=   2.7s\n",
      "[CV 2/5; 2/10] START bootstrap=True, max_features=0.5, min_samples_leaf=1.......\n",
      "[CV 2/5; 2/10] END bootstrap=True, max_features=0.5, min_samples_leaf=1;, score=-6.364 total time=   2.8s\n",
      "[CV 3/5; 2/10] START bootstrap=True, max_features=0.5, min_samples_leaf=1.......\n",
      "[CV 3/5; 2/10] END bootstrap=True, max_features=0.5, min_samples_leaf=1;, score=-6.553 total time=   2.6s\n",
      "[CV 4/5; 2/10] START bootstrap=True, max_features=0.5, min_samples_leaf=1.......\n",
      "[CV 4/5; 2/10] END bootstrap=True, max_features=0.5, min_samples_leaf=1;, score=-6.585 total time=   2.6s\n",
      "[CV 5/5; 2/10] START bootstrap=True, max_features=0.5, min_samples_leaf=1.......\n",
      "[CV 5/5; 2/10] END bootstrap=True, max_features=0.5, min_samples_leaf=1;, score=-6.709 total time=   2.6s\n",
      "[CV 1/5; 3/10] START bootstrap=True, max_features=auto, min_samples_leaf=2......\n",
      "[CV 1/5; 3/10] END bootstrap=True, max_features=auto, min_samples_leaf=2;, score=-5.898 total time=   4.0s\n",
      "[CV 2/5; 3/10] START bootstrap=True, max_features=auto, min_samples_leaf=2......\n",
      "[CV 2/5; 3/10] END bootstrap=True, max_features=auto, min_samples_leaf=2;, score=-6.323 total time=   4.0s\n",
      "[CV 3/5; 3/10] START bootstrap=True, max_features=auto, min_samples_leaf=2......\n",
      "[CV 3/5; 3/10] END bootstrap=True, max_features=auto, min_samples_leaf=2;, score=-6.439 total time=   3.9s\n",
      "[CV 4/5; 3/10] START bootstrap=True, max_features=auto, min_samples_leaf=2......\n",
      "[CV 4/5; 3/10] END bootstrap=True, max_features=auto, min_samples_leaf=2;, score=-6.394 total time=   3.8s\n",
      "[CV 5/5; 3/10] START bootstrap=True, max_features=auto, min_samples_leaf=2......\n",
      "[CV 5/5; 3/10] END bootstrap=True, max_features=auto, min_samples_leaf=2;, score=-6.628 total time=   3.9s\n",
      "[CV 1/5; 4/10] START bootstrap=True, max_features=auto, min_samples_leaf=7......\n",
      "[CV 1/5; 4/10] END bootstrap=True, max_features=auto, min_samples_leaf=7;, score=-6.024 total time=   3.0s\n",
      "[CV 2/5; 4/10] START bootstrap=True, max_features=auto, min_samples_leaf=7......\n",
      "[CV 2/5; 4/10] END bootstrap=True, max_features=auto, min_samples_leaf=7;, score=-6.482 total time=   3.0s\n",
      "[CV 3/5; 4/10] START bootstrap=True, max_features=auto, min_samples_leaf=7......\n",
      "[CV 3/5; 4/10] END bootstrap=True, max_features=auto, min_samples_leaf=7;, score=-6.541 total time=   2.7s\n",
      "[CV 4/5; 4/10] START bootstrap=True, max_features=auto, min_samples_leaf=7......\n",
      "[CV 4/5; 4/10] END bootstrap=True, max_features=auto, min_samples_leaf=7;, score=-6.416 total time=   2.7s\n",
      "[CV 5/5; 4/10] START bootstrap=True, max_features=auto, min_samples_leaf=7......\n",
      "[CV 5/5; 4/10] END bootstrap=True, max_features=auto, min_samples_leaf=7;, score=-6.714 total time=   3.0s\n",
      "[CV 1/5; 5/10] START bootstrap=True, max_features=0.5, min_samples_leaf=7.......\n",
      "[CV 1/5; 5/10] END bootstrap=True, max_features=0.5, min_samples_leaf=7;, score=-6.038 total time=   1.8s\n",
      "[CV 2/5; 5/10] START bootstrap=True, max_features=0.5, min_samples_leaf=7.......\n",
      "[CV 2/5; 5/10] END bootstrap=True, max_features=0.5, min_samples_leaf=7;, score=-6.519 total time=   1.8s\n",
      "[CV 3/5; 5/10] START bootstrap=True, max_features=0.5, min_samples_leaf=7.......\n",
      "[CV 3/5; 5/10] END bootstrap=True, max_features=0.5, min_samples_leaf=7;, score=-6.644 total time=   1.8s\n",
      "[CV 4/5; 5/10] START bootstrap=True, max_features=0.5, min_samples_leaf=7.......\n",
      "[CV 4/5; 5/10] END bootstrap=True, max_features=0.5, min_samples_leaf=7;, score=-6.537 total time=   1.8s\n",
      "[CV 5/5; 5/10] START bootstrap=True, max_features=0.5, min_samples_leaf=7.......\n",
      "[CV 5/5; 5/10] END bootstrap=True, max_features=0.5, min_samples_leaf=7;, score=-7.004 total time=   1.9s\n",
      "[CV 1/5; 6/10] START bootstrap=True, max_features=auto, min_samples_leaf=1......\n",
      "[CV 1/5; 6/10] END bootstrap=True, max_features=auto, min_samples_leaf=1;, score=-5.973 total time=   4.3s\n",
      "[CV 2/5; 6/10] START bootstrap=True, max_features=auto, min_samples_leaf=1......\n",
      "[CV 2/5; 6/10] END bootstrap=True, max_features=auto, min_samples_leaf=1;, score=-6.221 total time=   4.0s\n",
      "[CV 3/5; 6/10] START bootstrap=True, max_features=auto, min_samples_leaf=1......\n",
      "[CV 3/5; 6/10] END bootstrap=True, max_features=auto, min_samples_leaf=1;, score=-6.583 total time=   4.1s\n",
      "[CV 4/5; 6/10] START bootstrap=True, max_features=auto, min_samples_leaf=1......\n",
      "[CV 4/5; 6/10] END bootstrap=True, max_features=auto, min_samples_leaf=1;, score=-6.599 total time=   3.9s\n",
      "[CV 5/5; 6/10] START bootstrap=True, max_features=auto, min_samples_leaf=1......\n",
      "[CV 5/5; 6/10] END bootstrap=True, max_features=auto, min_samples_leaf=1;, score=-6.550 total time=   4.1s\n",
      "[CV 1/5; 7/10] START bootstrap=True, max_features=log2, min_samples_leaf=2......\n",
      "[CV 1/5; 7/10] END bootstrap=True, max_features=log2, min_samples_leaf=2;, score=-6.305 total time=   1.3s\n",
      "[CV 2/5; 7/10] START bootstrap=True, max_features=log2, min_samples_leaf=2......\n",
      "[CV 2/5; 7/10] END bootstrap=True, max_features=log2, min_samples_leaf=2;, score=-7.020 total time=   1.4s\n",
      "[CV 3/5; 7/10] START bootstrap=True, max_features=log2, min_samples_leaf=2......\n",
      "[CV 3/5; 7/10] END bootstrap=True, max_features=log2, min_samples_leaf=2;, score=-7.126 total time=   1.3s\n",
      "[CV 4/5; 7/10] START bootstrap=True, max_features=log2, min_samples_leaf=2......\n",
      "[CV 4/5; 7/10] END bootstrap=True, max_features=log2, min_samples_leaf=2;, score=-6.876 total time=   1.3s\n",
      "[CV 5/5; 7/10] START bootstrap=True, max_features=log2, min_samples_leaf=2......\n",
      "[CV 5/5; 7/10] END bootstrap=True, max_features=log2, min_samples_leaf=2;, score=-7.766 total time=   1.4s\n",
      "[CV 1/5; 8/10] START bootstrap=True, max_features=0.5, min_samples_leaf=10......\n",
      "[CV 1/5; 8/10] END bootstrap=True, max_features=0.5, min_samples_leaf=10;, score=-6.135 total time=   1.9s\n",
      "[CV 2/5; 8/10] START bootstrap=True, max_features=0.5, min_samples_leaf=10......\n",
      "[CV 2/5; 8/10] END bootstrap=True, max_features=0.5, min_samples_leaf=10;, score=-6.717 total time=   1.8s\n",
      "[CV 3/5; 8/10] START bootstrap=True, max_features=0.5, min_samples_leaf=10......\n",
      "[CV 3/5; 8/10] END bootstrap=True, max_features=0.5, min_samples_leaf=10;, score=-6.709 total time=   1.8s\n",
      "[CV 4/5; 8/10] START bootstrap=True, max_features=0.5, min_samples_leaf=10......\n",
      "[CV 4/5; 8/10] END bootstrap=True, max_features=0.5, min_samples_leaf=10;, score=-6.671 total time=   1.7s\n",
      "[CV 5/5; 8/10] START bootstrap=True, max_features=0.5, min_samples_leaf=10......\n",
      "[CV 5/5; 8/10] END bootstrap=True, max_features=0.5, min_samples_leaf=10;, score=-7.134 total time=   1.9s\n",
      "[CV 1/5; 9/10] START bootstrap=True, max_features=0.5, min_samples_leaf=4.......\n",
      "[CV 1/5; 9/10] END bootstrap=True, max_features=0.5, min_samples_leaf=4;, score=-5.948 total time=   2.1s\n",
      "[CV 2/5; 9/10] START bootstrap=True, max_features=0.5, min_samples_leaf=4.......\n",
      "[CV 2/5; 9/10] END bootstrap=True, max_features=0.5, min_samples_leaf=4;, score=-6.384 total time=   2.1s\n",
      "[CV 3/5; 9/10] START bootstrap=True, max_features=0.5, min_samples_leaf=4.......\n",
      "[CV 3/5; 9/10] END bootstrap=True, max_features=0.5, min_samples_leaf=4;, score=-6.558 total time=   1.9s\n",
      "[CV 4/5; 9/10] START bootstrap=True, max_features=0.5, min_samples_leaf=4.......\n"
     ]
    },
    {
     "name": "stdout",
     "output_type": "stream",
     "text": [
      "[CV 4/5; 9/10] END bootstrap=True, max_features=0.5, min_samples_leaf=4;, score=-6.424 total time=   2.0s\n",
      "[CV 5/5; 9/10] START bootstrap=True, max_features=0.5, min_samples_leaf=4.......\n",
      "[CV 5/5; 9/10] END bootstrap=True, max_features=0.5, min_samples_leaf=4;, score=-6.716 total time=   1.8s\n",
      "[CV 1/5; 10/10] START bootstrap=True, max_features=sqrt, min_samples_leaf=7.....\n",
      "[CV 1/5; 10/10] END bootstrap=True, max_features=sqrt, min_samples_leaf=7;, score=-6.420 total time=   1.1s\n",
      "[CV 2/5; 10/10] START bootstrap=True, max_features=sqrt, min_samples_leaf=7.....\n",
      "[CV 2/5; 10/10] END bootstrap=True, max_features=sqrt, min_samples_leaf=7;, score=-7.017 total time=   1.1s\n",
      "[CV 3/5; 10/10] START bootstrap=True, max_features=sqrt, min_samples_leaf=7.....\n",
      "[CV 3/5; 10/10] END bootstrap=True, max_features=sqrt, min_samples_leaf=7;, score=-7.146 total time=   1.1s\n",
      "[CV 4/5; 10/10] START bootstrap=True, max_features=sqrt, min_samples_leaf=7.....\n",
      "[CV 4/5; 10/10] END bootstrap=True, max_features=sqrt, min_samples_leaf=7;, score=-7.091 total time=   1.1s\n",
      "[CV 5/5; 10/10] START bootstrap=True, max_features=sqrt, min_samples_leaf=7.....\n",
      "[CV 5/5; 10/10] END bootstrap=True, max_features=sqrt, min_samples_leaf=7;, score=-7.761 total time=   1.1s\n"
     ]
    },
    {
     "data": {
      "text/plain": [
       "{'min_samples_leaf': 2, 'max_features': 'auto', 'bootstrap': True}"
      ]
     },
     "execution_count": 317,
     "metadata": {},
     "output_type": "execute_result"
    }
   ],
   "source": [
    "rf = RandomForestRegressor(oob_score=True, n_jobs=-1)\n",
    "scoring=make_scorer(evaluate_model,greater_is_better=False)\n",
    "rf_random = RandomizedSearchCV(estimator = rf, param_distributions = random_grid, n_iter = 10, cv = 5,                \n",
    "                               verbose=10,      scoring=scoring)\n",
    "pipe_random = make_pipeline(diff_date_transformer,na_fill_estimator,rf_random)\n",
    "pipe_random.fit(X_train, y_train)\n",
    "\n",
    "rf_random.best_params_"
   ]
  },
  {
   "cell_type": "code",
   "execution_count": 318,
   "id": "460ec6d1",
   "metadata": {},
   "outputs": [],
   "source": [
    "best_model = rf_random.best_estimator_\n",
    "pipe = make_pipeline(diff_date_transformer,na_fill_estimator, best_model)\n",
    "pipe.fit(X_train, y_train)\n",
    "y_pred= pipe.predict(X_test)"
   ]
  },
  {
   "cell_type": "code",
   "execution_count": 319,
   "id": "8d49f835",
   "metadata": {},
   "outputs": [
    {
     "name": "stdout",
     "output_type": "stream",
     "text": [
      "In Sample mean poisson deviance 1.6437\n",
      "Out of Sample mean poisson deviance 6.3963\n"
     ]
    }
   ],
   "source": [
    "#Evaluate the model\n",
    "print('In Sample mean poisson deviance {:.4f}'.format(evaluate_model(y_train,pipe.predict(X_train))))\n",
    "print('Out of Sample mean poisson deviance {:.4f}'.format(evaluate_model(y_test,pipe.predict(X_test))))"
   ]
  },
  {
   "cell_type": "code",
   "execution_count": 320,
   "id": "9edebf24",
   "metadata": {},
   "outputs": [
    {
     "name": "stdout",
     "output_type": "stream",
     "text": [
      "Out of sample accuracy by cross validation: -6.045336706386177\n"
     ]
    }
   ],
   "source": [
    "print('Out of sample  mean poisson deviance by cross validation:',cross_val_score(pipe,X,y,cv=5,scoring=scoring).mean())"
   ]
  },
  {
   "cell_type": "markdown",
   "id": "d0206c22",
   "metadata": {},
   "source": [
    "# Gradient Boosting Tree\n"
   ]
  },
  {
   "cell_type": "code",
   "execution_count": 324,
   "id": "23d68d30",
   "metadata": {},
   "outputs": [],
   "source": [
    "from sklearn.ensemble import GradientBoostingRegressor"
   ]
  },
  {
   "cell_type": "code",
   "execution_count": 325,
   "id": "4a08bf9e",
   "metadata": {},
   "outputs": [
    {
     "data": {
      "text/plain": [
       "Pipeline(steps=[('functiontransformer-1',\n",
       "                 FunctionTransformer(func=<function compute_diff_date at 0x00000127915BE3A0>)),\n",
       "                ('functiontransformer-2',\n",
       "                 FunctionTransformer(func=<function fill_nan at 0x00000127909A6DC0>,\n",
       "                                     kw_args={'bool_features': ['Are Pets '\n",
       "                                                                'Allowed',\n",
       "                                                                'Has Balcony',\n",
       "                                                                'Has Cabletv',\n",
       "                                                                'Has Elevator',\n",
       "                                                                'Has Fireplace',\n",
       "                                                                'Has Garage',\n",
       "                                                                'Has Parking',\n",
       "                                                                'Is New '\n",
       "                                                                'Construction...\n",
       "                ('columntransformer',\n",
       "                 ColumnTransformer(remainder='passthrough',\n",
       "                                   transformers=[('onehotencoder',\n",
       "                                                  OneHotEncoder(),\n",
       "                                                  ['Are Pets Allowed',\n",
       "                                                   'Has Balcony', 'Has Cabletv',\n",
       "                                                   'Has Elevator',\n",
       "                                                   'Has Fireplace',\n",
       "                                                   'Has Garage', 'Has Parking',\n",
       "                                                   'Is New Construction',\n",
       "                                                   'Is New Construction '\n",
       "                                                   'Potential',\n",
       "                                                   'Is Tenant2Tenant',\n",
       "                                                   'Is '\n",
       "                                                   'Wheelchairaccessible'])])),\n",
       "                ('gradientboostingregressor', GradientBoostingRegressor())])"
      ]
     },
     "execution_count": 325,
     "metadata": {},
     "output_type": "execute_result"
    }
   ],
   "source": [
    "GB_regressor=GradientBoostingRegressor()\n",
    "pipe = make_pipeline(diff_date_transformer,na_fill_estimator, col_trans,GB_regressor)\n",
    "pipe.fit(X_train, y_train)"
   ]
  },
  {
   "cell_type": "code",
   "execution_count": 326,
   "id": "8f8a0cf8",
   "metadata": {},
   "outputs": [
    {
     "name": "stdout",
     "output_type": "stream",
     "text": [
      "In Sample mean poisson deviance 6.8666\n",
      "Out of Sample mean poisson deviance 7.6119\n"
     ]
    }
   ],
   "source": [
    "#Evaluate the model\n",
    "print('In Sample mean poisson deviance {:.4f}'.format(evaluate_model(y_train,pipe.predict(X_train))))\n",
    "print('Out of Sample mean poisson deviance {:.4f}'.format(evaluate_model(y_test,pipe.predict(X_test))))"
   ]
  },
  {
   "cell_type": "code",
   "execution_count": 327,
   "id": "f875a80a",
   "metadata": {},
   "outputs": [
    {
     "name": "stdout",
     "output_type": "stream",
     "text": [
      "Out of sample mean poisson deviance by cross validation: -7.618902845630666\n"
     ]
    }
   ],
   "source": [
    "print('Out of sample mean poisson deviance by cross validation:',cross_val_score(pipe,X,y,cv=5,scoring=scoring).mean())"
   ]
  },
  {
   "cell_type": "code",
   "execution_count": null,
   "id": "71924f2b",
   "metadata": {},
   "outputs": [],
   "source": []
  }
 ],
 "metadata": {
  "kernelspec": {
   "display_name": "Python 3 (ipykernel)",
   "language": "python",
   "name": "python3"
  },
  "language_info": {
   "codemirror_mode": {
    "name": "ipython",
    "version": 3
   },
   "file_extension": ".py",
   "mimetype": "text/x-python",
   "name": "python",
   "nbconvert_exporter": "python",
   "pygments_lexer": "ipython3",
   "version": "3.9.12"
  }
 },
 "nbformat": 4,
 "nbformat_minor": 5
}
